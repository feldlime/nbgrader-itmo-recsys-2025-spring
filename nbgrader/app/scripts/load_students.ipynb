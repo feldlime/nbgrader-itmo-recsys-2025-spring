{
 "cells": [
  {
   "cell_type": "code",
   "execution_count": 1,
   "id": "aec505f0-e560-4e45-94c0-905f10cd8d51",
   "metadata": {},
   "outputs": [],
   "source": [
    "import pandas as pd\n",
    "from pathlib import Path\n",
    "from nbgrader.api import Gradebook"
   ]
  },
  {
   "cell_type": "code",
   "execution_count": 2,
   "id": "f1310f7e-cc35-449e-afba-e718023103a0",
   "metadata": {},
   "outputs": [],
   "source": [
    "COURSE_ID = \"itmo_recsys_2025_spring\"\n",
    "DB_URL = \"sqlite:////app/gradebook.db\"\n",
    "EXCHANGE_DIR = \"/usr/local/share/nbgrader/exchange\"\n",
    "STUDENTS_TSV_FILENAME = \"students.tsv\""
   ]
  },
  {
   "cell_type": "code",
   "execution_count": 3,
   "id": "03c341a0-cf4c-48a9-9928-125cdfd63e4a",
   "metadata": {},
   "outputs": [],
   "source": [
    "students_tsv_path = Path(EXCHANGE_DIR) / COURSE_ID / STUDENTS_TSV_FILENAME"
   ]
  },
  {
   "cell_type": "code",
   "execution_count": 4,
   "id": "7f44fcba-3240-4ba2-ac53-5adb057e5bad",
   "metadata": {},
   "outputs": [
    {
     "data": {
      "text/html": [
       "<div>\n",
       "<style scoped>\n",
       "    .dataframe tbody tr th:only-of-type {\n",
       "        vertical-align: middle;\n",
       "    }\n",
       "\n",
       "    .dataframe tbody tr th {\n",
       "        vertical-align: top;\n",
       "    }\n",
       "\n",
       "    .dataframe thead th {\n",
       "        text-align: right;\n",
       "    }\n",
       "</style>\n",
       "<table border=\"1\" class=\"dataframe\">\n",
       "  <thead>\n",
       "    <tr style=\"text-align: right;\">\n",
       "      <th></th>\n",
       "      <th>ФИО</th>\n",
       "      <th>Табель</th>\n",
       "      <th>Курс</th>\n",
       "      <th>Telegram</th>\n",
       "      <th>Github repo</th>\n",
       "      <th>Ментор</th>\n",
       "    </tr>\n",
       "  </thead>\n",
       "  <tbody>\n",
       "    <tr>\n",
       "      <th>0</th>\n",
       "      <td>Андреева Дарья Александровна</td>\n",
       "      <td>465002.0</td>\n",
       "      <td>1</td>\n",
       "      <td>@xufana</td>\n",
       "      <td>NaN</td>\n",
       "      <td>Елисова Ирина</td>\n",
       "    </tr>\n",
       "    <tr>\n",
       "      <th>1</th>\n",
       "      <td>Горбунов Никита Сергеевич</td>\n",
       "      <td>471849.0</td>\n",
       "      <td>1</td>\n",
       "      <td>@nikita_gbn</td>\n",
       "      <td>https://github.com/nsgorbunov/RecSysAITH</td>\n",
       "      <td>Елисова Ирина</td>\n",
       "    </tr>\n",
       "    <tr>\n",
       "      <th>2</th>\n",
       "      <td>Ильин Глеб Романович</td>\n",
       "      <td>471990.0</td>\n",
       "      <td>1</td>\n",
       "      <td>@Glebass_Ilin</td>\n",
       "      <td>https://github.com/GlebIsrailevich/recommendat...</td>\n",
       "      <td>Елисова Ирина</td>\n",
       "    </tr>\n",
       "    <tr>\n",
       "      <th>3</th>\n",
       "      <td>Клакевич Александр Викторович</td>\n",
       "      <td>143588.0</td>\n",
       "      <td>1</td>\n",
       "      <td>@aklakevich</td>\n",
       "      <td>https://github.com/AlViKl/RecoService_sp_25</td>\n",
       "      <td>Елисова Ирина</td>\n",
       "    </tr>\n",
       "    <tr>\n",
       "      <th>4</th>\n",
       "      <td>Латыпов Булат Маратович</td>\n",
       "      <td>475147.0</td>\n",
       "      <td>1</td>\n",
       "      <td>@BulatMaratovich</td>\n",
       "      <td>NaN</td>\n",
       "      <td>Елисова Ирина</td>\n",
       "    </tr>\n",
       "    <tr>\n",
       "      <th>...</th>\n",
       "      <td>...</td>\n",
       "      <td>...</td>\n",
       "      <td>...</td>\n",
       "      <td>...</td>\n",
       "      <td>...</td>\n",
       "      <td>...</td>\n",
       "    </tr>\n",
       "    <tr>\n",
       "      <th>58</th>\n",
       "      <td>Смирнов Тимур Олегович</td>\n",
       "      <td>312997.0</td>\n",
       "      <td>1</td>\n",
       "      <td>@smrtmr</td>\n",
       "      <td>https://github.com/timsmr/RecSys_ITMO_2024-2025</td>\n",
       "      <td>Фельдман Эмилий</td>\n",
       "    </tr>\n",
       "    <tr>\n",
       "      <th>59</th>\n",
       "      <td>Фомин Евгений Сергеевич</td>\n",
       "      <td>472613.0</td>\n",
       "      <td>1</td>\n",
       "      <td>@nonodoubt</td>\n",
       "      <td>NaN</td>\n",
       "      <td>Фельдман Эмилий</td>\n",
       "    </tr>\n",
       "    <tr>\n",
       "      <th>60</th>\n",
       "      <td>Яковлев Владислав Леонидович</td>\n",
       "      <td>475253.0</td>\n",
       "      <td>1</td>\n",
       "      <td>@pretendslava</td>\n",
       "      <td>https://github.com/V-slav-github/RecSys_2025</td>\n",
       "      <td>Фельдман Эмилий</td>\n",
       "    </tr>\n",
       "    <tr>\n",
       "      <th>61</th>\n",
       "      <td>Карташов Виталий Андреевич</td>\n",
       "      <td>411469.0</td>\n",
       "      <td>2</td>\n",
       "      <td>@kartashoffv1</td>\n",
       "      <td>NaN</td>\n",
       "      <td>Фельдман Эмилий</td>\n",
       "    </tr>\n",
       "    <tr>\n",
       "      <th>62</th>\n",
       "      <td>Нуркаев Шамиль Фиданович</td>\n",
       "      <td>NaN</td>\n",
       "      <td>1</td>\n",
       "      <td>@sfnurkaev</td>\n",
       "      <td>NaN</td>\n",
       "      <td>Фельдман Эмилий</td>\n",
       "    </tr>\n",
       "  </tbody>\n",
       "</table>\n",
       "<p>63 rows × 6 columns</p>\n",
       "</div>"
      ],
      "text/plain": [
       "                              ФИО    Табель  Курс          Telegram  \\\n",
       "0    Андреева Дарья Александровна  465002.0     1           @xufana   \n",
       "1       Горбунов Никита Сергеевич  471849.0     1       @nikita_gbn   \n",
       "2            Ильин Глеб Романович  471990.0     1     @Glebass_Ilin   \n",
       "3   Клакевич Александр Викторович  143588.0     1       @aklakevich   \n",
       "4         Латыпов Булат Маратович  475147.0     1  @BulatMaratovich   \n",
       "..                            ...       ...   ...               ...   \n",
       "58         Смирнов Тимур Олегович  312997.0     1           @smrtmr   \n",
       "59        Фомин Евгений Сергеевич  472613.0     1        @nonodoubt   \n",
       "60   Яковлев Владислав Леонидович  475253.0     1     @pretendslava   \n",
       "61     Карташов Виталий Андреевич  411469.0     2     @kartashoffv1   \n",
       "62       Нуркаев Шамиль Фиданович       NaN     1        @sfnurkaev   \n",
       "\n",
       "                                          Github repo           Ментор  \n",
       "0                                                 NaN    Елисова Ирина  \n",
       "1            https://github.com/nsgorbunov/RecSysAITH    Елисова Ирина  \n",
       "2   https://github.com/GlebIsrailevich/recommendat...    Елисова Ирина  \n",
       "3         https://github.com/AlViKl/RecoService_sp_25    Елисова Ирина  \n",
       "4                                                 NaN    Елисова Ирина  \n",
       "..                                                ...              ...  \n",
       "58    https://github.com/timsmr/RecSys_ITMO_2024-2025  Фельдман Эмилий  \n",
       "59                                                NaN  Фельдман Эмилий  \n",
       "60       https://github.com/V-slav-github/RecSys_2025  Фельдман Эмилий  \n",
       "61                                                NaN  Фельдман Эмилий  \n",
       "62                                                NaN  Фельдман Эмилий  \n",
       "\n",
       "[63 rows x 6 columns]"
      ]
     },
     "execution_count": 4,
     "metadata": {},
     "output_type": "execute_result"
    }
   ],
   "source": [
    "students_df = pd.read_csv(students_tsv_path, sep=\"\\t\")\n",
    "students_df"
   ]
  },
  {
   "cell_type": "code",
   "execution_count": 5,
   "id": "31d3c3a0-0a3c-46b9-9784-73d4004b76eb",
   "metadata": {},
   "outputs": [
    {
     "name": "stdout",
     "output_type": "stream",
     "text": [
      "Valid students in file: 43\n"
     ]
    }
   ],
   "source": [
    "students_df = students_df.loc[students_df[\"Github repo\"].notnull()].copy()\n",
    "students_df[\"student_id\"] = students_df[\"Github repo\"].str.removeprefix(\"https://github.com/\").str.split(\"/\", expand=True)[0]\n",
    "names = students_df[\"ФИО\"].str.split(\" \", expand=True, n=1)\n",
    "students_df[\"last_name\"] = names[0]\n",
    "students_df[\"first_name\"] = names[1]\n",
    "print(f\"Valid students in file: {len(students_df)}\")"
   ]
  },
  {
   "cell_type": "code",
   "execution_count": 6,
   "id": "3dba6ee5-655d-446b-b35f-585581bfb3eb",
   "metadata": {},
   "outputs": [],
   "source": [
    "gradebook = Gradebook(db_url=DB_URL, course_id=COURSE_ID)"
   ]
  },
  {
   "cell_type": "code",
   "execution_count": 7,
   "id": "8e37f5b5-6938-4bcc-a701-95cd49054a0b",
   "metadata": {},
   "outputs": [
    {
     "data": {
      "text/plain": [
       "['add_student',\n",
       " 'find_student',\n",
       " 'remove_student',\n",
       " 'student_dicts',\n",
       " 'student_submissions',\n",
       " 'students',\n",
       " 'update_or_create_student']"
      ]
     },
     "execution_count": 7,
     "metadata": {},
     "output_type": "execute_result"
    }
   ],
   "source": [
    "[a for a in dir(gradebook) if \"student\" in a]"
   ]
  },
  {
   "cell_type": "code",
   "execution_count": null,
   "id": "82b680f4-d985-45b9-b409-6fdbde4d6ebf",
   "metadata": {},
   "outputs": [],
   "source": [
    "gradebook.update_or_create_student("
   ]
  },
  {
   "cell_type": "code",
   "execution_count": null,
   "id": "d006e9b8-578d-4dee-82b1-9a83c049d1e3",
   "metadata": {},
   "outputs": [],
   "source": [
    "\n",
    "\n",
    "\n",
    "\n",
    "existing_students = gradebook.students\n",
    "existing_student_ids = set(student.id for student in existing_students)\n",
    "print(f\"Existing students in DB: {len(existing_student_ids)}\")"
   ]
  },
  {
   "cell_type": "code",
   "execution_count": null,
   "id": "2689bc36-9780-4baa-926d-8c2cf845eea9",
   "metadata": {},
   "outputs": [],
   "source": []
  },
  {
   "cell_type": "code",
   "execution_count": null,
   "id": "a82b4c9d-c772-4c8e-8a45-5fcff7701a05",
   "metadata": {},
   "outputs": [],
   "source": []
  },
  {
   "cell_type": "code",
   "execution_count": 5,
   "id": "8d1be44b-7c80-41d2-83e1-6b852d580cde",
   "metadata": {},
   "outputs": [],
   "source": []
  },
  {
   "cell_type": "code",
   "execution_count": 10,
   "id": "0cb15fda-06c8-4773-9d30-f04e7b1cde79",
   "metadata": {},
   "outputs": [
    {
     "data": {
      "text/html": [
       "<div>\n",
       "<style scoped>\n",
       "    .dataframe tbody tr th:only-of-type {\n",
       "        vertical-align: middle;\n",
       "    }\n",
       "\n",
       "    .dataframe tbody tr th {\n",
       "        vertical-align: top;\n",
       "    }\n",
       "\n",
       "    .dataframe thead th {\n",
       "        text-align: right;\n",
       "    }\n",
       "</style>\n",
       "<table border=\"1\" class=\"dataframe\">\n",
       "  <thead>\n",
       "    <tr style=\"text-align: right;\">\n",
       "      <th></th>\n",
       "      <th>ФИО</th>\n",
       "      <th>Табель</th>\n",
       "      <th>Курс</th>\n",
       "      <th>Telegram</th>\n",
       "      <th>Github repo</th>\n",
       "    </tr>\n",
       "  </thead>\n",
       "  <tbody>\n",
       "    <tr>\n",
       "      <th>2</th>\n",
       "      <td>Ильин Глеб Романович</td>\n",
       "      <td>471990.0</td>\n",
       "      <td>1</td>\n",
       "      <td>@Glebass_Ilin</td>\n",
       "      <td>https://github.com/GlebIsrailevich/recommendat...</td>\n",
       "    </tr>\n",
       "    <tr>\n",
       "      <th>9</th>\n",
       "      <td>Хрусталев Илия Дмитриевич</td>\n",
       "      <td>311847.0</td>\n",
       "      <td>1</td>\n",
       "      <td>@Khrstln</td>\n",
       "      <td>https://github.com/khrstln/AITH-RecSys</td>\n",
       "    </tr>\n",
       "    <tr>\n",
       "      <th>16</th>\n",
       "      <td>Кочкин Павел Васильевич</td>\n",
       "      <td>466325.0</td>\n",
       "      <td>1</td>\n",
       "      <td>@pavelkochkin1</td>\n",
       "      <td>https://github.com/pavelkochkin1/aith_sem2_recsys</td>\n",
       "    </tr>\n",
       "    <tr>\n",
       "      <th>38</th>\n",
       "      <td>Дипнер Семен Павлович</td>\n",
       "      <td>465764.0</td>\n",
       "      <td>1</td>\n",
       "      <td>@semyondipner</td>\n",
       "      <td>https://github.com/semyondipner/ITMO-RecSys-20...</td>\n",
       "    </tr>\n",
       "    <tr>\n",
       "      <th>42</th>\n",
       "      <td>Нигамадянов Фанис Магефурович</td>\n",
       "      <td>466869.0</td>\n",
       "      <td>1</td>\n",
       "      <td>@FanisNgv</td>\n",
       "      <td>https://github.com/FanisNgv/ITMO_RecSys_course</td>\n",
       "    </tr>\n",
       "    <tr>\n",
       "      <th>45</th>\n",
       "      <td>Сухова Елена Михайловна</td>\n",
       "      <td>467641.0</td>\n",
       "      <td>1</td>\n",
       "      <td>@em_suhova</td>\n",
       "      <td>https://github.com/ElenaSuhova/RecSys-homework</td>\n",
       "    </tr>\n",
       "    <tr>\n",
       "      <th>52</th>\n",
       "      <td>Иванова Анастасия Алексеевна</td>\n",
       "      <td>466008.0</td>\n",
       "      <td>1</td>\n",
       "      <td>@anaaaiva</td>\n",
       "      <td>https://github.com/anaaaiva/aith_recsys</td>\n",
       "    </tr>\n",
       "    <tr>\n",
       "      <th>54</th>\n",
       "      <td>Куляскин Михаил Олегович</td>\n",
       "      <td>472130.0</td>\n",
       "      <td>1</td>\n",
       "      <td>@kulyaskin_mikhail</td>\n",
       "      <td>https://github.com/Mihail-Olegovich/RecSys</td>\n",
       "    </tr>\n",
       "    <tr>\n",
       "      <th>55</th>\n",
       "      <td>Мартынов Дмитрий Александрович</td>\n",
       "      <td>466639.0</td>\n",
       "      <td>1</td>\n",
       "      <td>@martynov_dm</td>\n",
       "      <td>https://github.com/martynov-dm/recsys_itmo_1</td>\n",
       "    </tr>\n",
       "    <tr>\n",
       "      <th>56</th>\n",
       "      <td>Поляков Егор Сергеевич</td>\n",
       "      <td>467143.0</td>\n",
       "      <td>1</td>\n",
       "      <td>@LeftGoga</td>\n",
       "      <td>https://github.com/LeftGoga/RecSys_AITH</td>\n",
       "    </tr>\n",
       "  </tbody>\n",
       "</table>\n",
       "</div>"
      ],
      "text/plain": [
       "                               ФИО    Табель  Курс            Telegram  \\\n",
       "2             Ильин Глеб Романович  471990.0     1       @Glebass_Ilin   \n",
       "9        Хрусталев Илия Дмитриевич  311847.0     1            @Khrstln   \n",
       "16         Кочкин Павел Васильевич  466325.0     1      @pavelkochkin1   \n",
       "38           Дипнер Семен Павлович  465764.0     1       @semyondipner   \n",
       "42   Нигамадянов Фанис Магефурович  466869.0     1           @FanisNgv   \n",
       "45         Сухова Елена Михайловна  467641.0     1          @em_suhova   \n",
       "52    Иванова Анастасия Алексеевна  466008.0     1           @anaaaiva   \n",
       "54        Куляскин Михаил Олегович  472130.0     1  @kulyaskin_mikhail   \n",
       "55  Мартынов Дмитрий Александрович  466639.0     1        @martynov_dm   \n",
       "56          Поляков Егор Сергеевич  467143.0     1           @LeftGoga   \n",
       "\n",
       "                                          Github repo  \n",
       "2   https://github.com/GlebIsrailevich/recommendat...  \n",
       "9              https://github.com/khrstln/AITH-RecSys  \n",
       "16  https://github.com/pavelkochkin1/aith_sem2_recsys  \n",
       "38  https://github.com/semyondipner/ITMO-RecSys-20...  \n",
       "42     https://github.com/FanisNgv/ITMO_RecSys_course  \n",
       "45     https://github.com/ElenaSuhova/RecSys-homework  \n",
       "52            https://github.com/anaaaiva/aith_recsys  \n",
       "54         https://github.com/Mihail-Olegovich/RecSys  \n",
       "55       https://github.com/martynov-dm/recsys_itmo_1  \n",
       "56            https://github.com/LeftGoga/RecSys_AITH  "
      ]
     },
     "execution_count": 10,
     "metadata": {},
     "output_type": "execute_result"
    }
   ],
   "source": [
    "students_df"
   ]
  },
  {
   "cell_type": "code",
   "execution_count": 16,
   "id": "202a72eb-07a9-4621-9545-f9ba4301605d",
   "metadata": {},
   "outputs": [],
   "source": [
    "students_df = students_df.loc[students_df[\"Github repo\"].notnull()].copy()\n",
    "students_df[\"student_id\"] = s.str.removeprefix(\"https://github.com/\").str.split(\"/\", expand=True)[0]\n",
    "names = students_df[\"ФИО\"].str.split(\" \", expand=True, n=1)\n",
    "students_df[\"last_name\"] = names[0]\n",
    "students_df[\"first_name\"] = names[1]"
   ]
  },
  {
   "cell_type": "code",
   "execution_count": 17,
   "id": "1c59d69c-d8f5-48fd-baeb-5acc5d30e85e",
   "metadata": {},
   "outputs": [
    {
     "data": {
      "text/html": [
       "<div>\n",
       "<style scoped>\n",
       "    .dataframe tbody tr th:only-of-type {\n",
       "        vertical-align: middle;\n",
       "    }\n",
       "\n",
       "    .dataframe tbody tr th {\n",
       "        vertical-align: top;\n",
       "    }\n",
       "\n",
       "    .dataframe thead th {\n",
       "        text-align: right;\n",
       "    }\n",
       "</style>\n",
       "<table border=\"1\" class=\"dataframe\">\n",
       "  <thead>\n",
       "    <tr style=\"text-align: right;\">\n",
       "      <th></th>\n",
       "      <th>ФИО</th>\n",
       "      <th>Табель</th>\n",
       "      <th>Курс</th>\n",
       "      <th>Telegram</th>\n",
       "      <th>Github repo</th>\n",
       "      <th>student_id</th>\n",
       "      <th>last_name</th>\n",
       "      <th>first_name</th>\n",
       "    </tr>\n",
       "  </thead>\n",
       "  <tbody>\n",
       "    <tr>\n",
       "      <th>2</th>\n",
       "      <td>Ильин Глеб Романович</td>\n",
       "      <td>471990.0</td>\n",
       "      <td>1</td>\n",
       "      <td>@Glebass_Ilin</td>\n",
       "      <td>https://github.com/GlebIsrailevich/recommendat...</td>\n",
       "      <td>GlebIsrailevich</td>\n",
       "      <td>Ильин</td>\n",
       "      <td>Глеб Романович</td>\n",
       "    </tr>\n",
       "    <tr>\n",
       "      <th>9</th>\n",
       "      <td>Хрусталев Илия Дмитриевич</td>\n",
       "      <td>311847.0</td>\n",
       "      <td>1</td>\n",
       "      <td>@Khrstln</td>\n",
       "      <td>https://github.com/khrstln/AITH-RecSys</td>\n",
       "      <td>khrstln</td>\n",
       "      <td>Хрусталев</td>\n",
       "      <td>Илия Дмитриевич</td>\n",
       "    </tr>\n",
       "    <tr>\n",
       "      <th>16</th>\n",
       "      <td>Кочкин Павел Васильевич</td>\n",
       "      <td>466325.0</td>\n",
       "      <td>1</td>\n",
       "      <td>@pavelkochkin1</td>\n",
       "      <td>https://github.com/pavelkochkin1/aith_sem2_recsys</td>\n",
       "      <td>pavelkochkin1</td>\n",
       "      <td>Кочкин</td>\n",
       "      <td>Павел Васильевич</td>\n",
       "    </tr>\n",
       "    <tr>\n",
       "      <th>38</th>\n",
       "      <td>Дипнер Семен Павлович</td>\n",
       "      <td>465764.0</td>\n",
       "      <td>1</td>\n",
       "      <td>@semyondipner</td>\n",
       "      <td>https://github.com/semyondipner/ITMO-RecSys-20...</td>\n",
       "      <td>semyondipner</td>\n",
       "      <td>Дипнер</td>\n",
       "      <td>Семен Павлович</td>\n",
       "    </tr>\n",
       "    <tr>\n",
       "      <th>42</th>\n",
       "      <td>Нигамадянов Фанис Магефурович</td>\n",
       "      <td>466869.0</td>\n",
       "      <td>1</td>\n",
       "      <td>@FanisNgv</td>\n",
       "      <td>https://github.com/FanisNgv/ITMO_RecSys_course</td>\n",
       "      <td>FanisNgv</td>\n",
       "      <td>Нигамадянов</td>\n",
       "      <td>Фанис Магефурович</td>\n",
       "    </tr>\n",
       "    <tr>\n",
       "      <th>45</th>\n",
       "      <td>Сухова Елена Михайловна</td>\n",
       "      <td>467641.0</td>\n",
       "      <td>1</td>\n",
       "      <td>@em_suhova</td>\n",
       "      <td>https://github.com/ElenaSuhova/RecSys-homework</td>\n",
       "      <td>ElenaSuhova</td>\n",
       "      <td>Сухова</td>\n",
       "      <td>Елена Михайловна</td>\n",
       "    </tr>\n",
       "    <tr>\n",
       "      <th>52</th>\n",
       "      <td>Иванова Анастасия Алексеевна</td>\n",
       "      <td>466008.0</td>\n",
       "      <td>1</td>\n",
       "      <td>@anaaaiva</td>\n",
       "      <td>https://github.com/anaaaiva/aith_recsys</td>\n",
       "      <td>anaaaiva</td>\n",
       "      <td>Иванова</td>\n",
       "      <td>Анастасия Алексеевна</td>\n",
       "    </tr>\n",
       "    <tr>\n",
       "      <th>54</th>\n",
       "      <td>Куляскин Михаил Олегович</td>\n",
       "      <td>472130.0</td>\n",
       "      <td>1</td>\n",
       "      <td>@kulyaskin_mikhail</td>\n",
       "      <td>https://github.com/Mihail-Olegovich/RecSys</td>\n",
       "      <td>Mihail-Olegovich</td>\n",
       "      <td>Куляскин</td>\n",
       "      <td>Михаил Олегович</td>\n",
       "    </tr>\n",
       "    <tr>\n",
       "      <th>55</th>\n",
       "      <td>Мартынов Дмитрий Александрович</td>\n",
       "      <td>466639.0</td>\n",
       "      <td>1</td>\n",
       "      <td>@martynov_dm</td>\n",
       "      <td>https://github.com/martynov-dm/recsys_itmo_1</td>\n",
       "      <td>martynov-dm</td>\n",
       "      <td>Мартынов</td>\n",
       "      <td>Дмитрий Александрович</td>\n",
       "    </tr>\n",
       "    <tr>\n",
       "      <th>56</th>\n",
       "      <td>Поляков Егор Сергеевич</td>\n",
       "      <td>467143.0</td>\n",
       "      <td>1</td>\n",
       "      <td>@LeftGoga</td>\n",
       "      <td>https://github.com/LeftGoga/RecSys_AITH</td>\n",
       "      <td>LeftGoga</td>\n",
       "      <td>Поляков</td>\n",
       "      <td>Егор Сергеевич</td>\n",
       "    </tr>\n",
       "  </tbody>\n",
       "</table>\n",
       "</div>"
      ],
      "text/plain": [
       "                               ФИО    Табель  Курс            Telegram  \\\n",
       "2             Ильин Глеб Романович  471990.0     1       @Glebass_Ilin   \n",
       "9        Хрусталев Илия Дмитриевич  311847.0     1            @Khrstln   \n",
       "16         Кочкин Павел Васильевич  466325.0     1      @pavelkochkin1   \n",
       "38           Дипнер Семен Павлович  465764.0     1       @semyondipner   \n",
       "42   Нигамадянов Фанис Магефурович  466869.0     1           @FanisNgv   \n",
       "45         Сухова Елена Михайловна  467641.0     1          @em_suhova   \n",
       "52    Иванова Анастасия Алексеевна  466008.0     1           @anaaaiva   \n",
       "54        Куляскин Михаил Олегович  472130.0     1  @kulyaskin_mikhail   \n",
       "55  Мартынов Дмитрий Александрович  466639.0     1        @martynov_dm   \n",
       "56          Поляков Егор Сергеевич  467143.0     1           @LeftGoga   \n",
       "\n",
       "                                          Github repo        student_id  \\\n",
       "2   https://github.com/GlebIsrailevich/recommendat...   GlebIsrailevich   \n",
       "9              https://github.com/khrstln/AITH-RecSys           khrstln   \n",
       "16  https://github.com/pavelkochkin1/aith_sem2_recsys     pavelkochkin1   \n",
       "38  https://github.com/semyondipner/ITMO-RecSys-20...      semyondipner   \n",
       "42     https://github.com/FanisNgv/ITMO_RecSys_course          FanisNgv   \n",
       "45     https://github.com/ElenaSuhova/RecSys-homework       ElenaSuhova   \n",
       "52            https://github.com/anaaaiva/aith_recsys          anaaaiva   \n",
       "54         https://github.com/Mihail-Olegovich/RecSys  Mihail-Olegovich   \n",
       "55       https://github.com/martynov-dm/recsys_itmo_1       martynov-dm   \n",
       "56            https://github.com/LeftGoga/RecSys_AITH          LeftGoga   \n",
       "\n",
       "      last_name             first_name  \n",
       "2         Ильин         Глеб Романович  \n",
       "9     Хрусталев        Илия Дмитриевич  \n",
       "16       Кочкин       Павел Васильевич  \n",
       "38       Дипнер         Семен Павлович  \n",
       "42  Нигамадянов      Фанис Магефурович  \n",
       "45       Сухова       Елена Михайловна  \n",
       "52      Иванова   Анастасия Алексеевна  \n",
       "54     Куляскин        Михаил Олегович  \n",
       "55     Мартынов  Дмитрий Александрович  \n",
       "56      Поляков         Егор Сергеевич  "
      ]
     },
     "execution_count": 17,
     "metadata": {},
     "output_type": "execute_result"
    }
   ],
   "source": [
    "students_df"
   ]
  },
  {
   "cell_type": "code",
   "execution_count": 19,
   "id": "6bc0d6dc-33dc-4245-9c1d-53bb220303fd",
   "metadata": {},
   "outputs": [],
   "source": [
    "gradebook = Gradebook(db_url=DB_URL, course_id=COURSE_ID)"
   ]
  },
  {
   "cell_type": "code",
   "execution_count": 21,
   "id": "9f7d453d-db7b-4b80-9c87-c3db626b4862",
   "metadata": {},
   "outputs": [],
   "source": [
    "existing_students = gradebook.students\n",
    "existing_student_ids = set(student.id for student in existing_students)"
   ]
  },
  {
   "cell_type": "code",
   "execution_count": 24,
   "id": "9362556b-9b0a-4f3a-808f-9e52f9defc6d",
   "metadata": {},
   "outputs": [],
   "source": [
    "for _, student in students_df.iterrows():\n",
    "    if (student_id := student[\"student_id\"]) not in existing_student_ids:\n",
    "        gradebook.add_student(student_id, first_name=student[\"first_name\"], last_name=student[\"last_name\"])"
   ]
  },
  {
   "cell_type": "code",
   "execution_count": 25,
   "id": "f3d6a4c9-264e-4fe8-be4c-53b4785856f4",
   "metadata": {},
   "outputs": [
    {
     "data": {
      "text/plain": [
       "[Student<test_student_1>,\n",
       " Student<semyondipner>,\n",
       " Student<anaaaiva>,\n",
       " Student<GlebIsrailevich>,\n",
       " Student<pavelkochkin1>,\n",
       " Student<Mihail-Olegovich>,\n",
       " Student<martynov-dm>,\n",
       " Student<FanisNgv>,\n",
       " Student<LeftGoga>,\n",
       " Student<ElenaSuhova>,\n",
       " Student<khrstln>]"
      ]
     },
     "execution_count": 25,
     "metadata": {},
     "output_type": "execute_result"
    }
   ],
   "source": [
    "gradebook.students"
   ]
  },
  {
   "cell_type": "code",
   "execution_count": 27,
   "id": "874e059f-569a-4016-a4d8-3fbf03ce7214",
   "metadata": {},
   "outputs": [],
   "source": [
    "s = students_df[\"student_id\"]"
   ]
  },
  {
   "cell_type": "code",
   "execution_count": 29,
   "id": "6e04023a-659d-47d2-8d64-50e2104a30c9",
   "metadata": {},
   "outputs": [
    {
     "data": {
      "text/plain": [
       "['T',\n",
       " '_AXIS_LEN',\n",
       " '_AXIS_ORDERS',\n",
       " '_AXIS_TO_AXIS_NUMBER',\n",
       " '_HANDLED_TYPES',\n",
       " '__abs__',\n",
       " '__add__',\n",
       " '__and__',\n",
       " '__annotations__',\n",
       " '__array__',\n",
       " '__array_priority__',\n",
       " '__array_ufunc__',\n",
       " '__bool__',\n",
       " '__class__',\n",
       " '__column_consortium_standard__',\n",
       " '__contains__',\n",
       " '__copy__',\n",
       " '__deepcopy__',\n",
       " '__delattr__',\n",
       " '__delitem__',\n",
       " '__dict__',\n",
       " '__dir__',\n",
       " '__divmod__',\n",
       " '__doc__',\n",
       " '__eq__',\n",
       " '__finalize__',\n",
       " '__float__',\n",
       " '__floordiv__',\n",
       " '__format__',\n",
       " '__ge__',\n",
       " '__getattr__',\n",
       " '__getattribute__',\n",
       " '__getitem__',\n",
       " '__getstate__',\n",
       " '__gt__',\n",
       " '__hash__',\n",
       " '__iadd__',\n",
       " '__iand__',\n",
       " '__ifloordiv__',\n",
       " '__imod__',\n",
       " '__imul__',\n",
       " '__init__',\n",
       " '__init_subclass__',\n",
       " '__int__',\n",
       " '__invert__',\n",
       " '__ior__',\n",
       " '__ipow__',\n",
       " '__isub__',\n",
       " '__iter__',\n",
       " '__itruediv__',\n",
       " '__ixor__',\n",
       " '__le__',\n",
       " '__len__',\n",
       " '__lt__',\n",
       " '__matmul__',\n",
       " '__mod__',\n",
       " '__module__',\n",
       " '__mul__',\n",
       " '__ne__',\n",
       " '__neg__',\n",
       " '__new__',\n",
       " '__nonzero__',\n",
       " '__or__',\n",
       " '__pandas_priority__',\n",
       " '__pos__',\n",
       " '__pow__',\n",
       " '__radd__',\n",
       " '__rand__',\n",
       " '__rdivmod__',\n",
       " '__reduce__',\n",
       " '__reduce_ex__',\n",
       " '__repr__',\n",
       " '__rfloordiv__',\n",
       " '__rmatmul__',\n",
       " '__rmod__',\n",
       " '__rmul__',\n",
       " '__ror__',\n",
       " '__round__',\n",
       " '__rpow__',\n",
       " '__rsub__',\n",
       " '__rtruediv__',\n",
       " '__rxor__',\n",
       " '__setattr__',\n",
       " '__setitem__',\n",
       " '__setstate__',\n",
       " '__sizeof__',\n",
       " '__str__',\n",
       " '__sub__',\n",
       " '__subclasshook__',\n",
       " '__truediv__',\n",
       " '__weakref__',\n",
       " '__xor__',\n",
       " '_accessors',\n",
       " '_accum_func',\n",
       " '_agg_examples_doc',\n",
       " '_agg_see_also_doc',\n",
       " '_align_for_op',\n",
       " '_align_frame',\n",
       " '_align_series',\n",
       " '_append',\n",
       " '_arith_method',\n",
       " '_as_manager',\n",
       " '_attrs',\n",
       " '_binop',\n",
       " '_cacher',\n",
       " '_can_hold_na',\n",
       " '_check_inplace_and_allows_duplicate_labels',\n",
       " '_check_is_chained_assignment_possible',\n",
       " '_check_label_or_level_ambiguity',\n",
       " '_check_setitem_copy',\n",
       " '_clear_item_cache',\n",
       " '_clip_with_one_bound',\n",
       " '_clip_with_scalar',\n",
       " '_cmp_method',\n",
       " '_consolidate',\n",
       " '_consolidate_inplace',\n",
       " '_construct_axes_dict',\n",
       " '_construct_result',\n",
       " '_constructor',\n",
       " '_constructor_expanddim',\n",
       " '_constructor_expanddim_from_mgr',\n",
       " '_constructor_from_mgr',\n",
       " '_data',\n",
       " '_deprecate_downcast',\n",
       " '_dir_additions',\n",
       " '_dir_deletions',\n",
       " '_drop_axis',\n",
       " '_drop_labels_or_levels',\n",
       " '_duplicated',\n",
       " '_find_valid_index',\n",
       " '_flags',\n",
       " '_flex_method',\n",
       " '_from_mgr',\n",
       " '_get_axis',\n",
       " '_get_axis_name',\n",
       " '_get_axis_number',\n",
       " '_get_axis_resolvers',\n",
       " '_get_block_manager_axis',\n",
       " '_get_bool_data',\n",
       " '_get_cacher',\n",
       " '_get_cleaned_column_resolvers',\n",
       " '_get_index_resolvers',\n",
       " '_get_label_or_level_values',\n",
       " '_get_numeric_data',\n",
       " '_get_rows_with_mask',\n",
       " '_get_value',\n",
       " '_get_values_tuple',\n",
       " '_get_with',\n",
       " '_getitem_slice',\n",
       " '_gotitem',\n",
       " '_hidden_attrs',\n",
       " '_indexed_same',\n",
       " '_info_axis',\n",
       " '_info_axis_name',\n",
       " '_info_axis_number',\n",
       " '_init_dict',\n",
       " '_init_mgr',\n",
       " '_inplace_method',\n",
       " '_internal_names',\n",
       " '_internal_names_set',\n",
       " '_is_cached',\n",
       " '_is_copy',\n",
       " '_is_label_or_level_reference',\n",
       " '_is_label_reference',\n",
       " '_is_level_reference',\n",
       " '_is_mixed_type',\n",
       " '_is_view',\n",
       " '_is_view_after_cow_rules',\n",
       " '_item_cache',\n",
       " '_ixs',\n",
       " '_logical_func',\n",
       " '_logical_method',\n",
       " '_map_values',\n",
       " '_maybe_update_cacher',\n",
       " '_memory_usage',\n",
       " '_metadata',\n",
       " '_mgr',\n",
       " '_min_count_stat_function',\n",
       " '_name',\n",
       " '_needs_reindex_multi',\n",
       " '_pad_or_backfill',\n",
       " '_protect_consolidate',\n",
       " '_reduce',\n",
       " '_references',\n",
       " '_reindex_axes',\n",
       " '_reindex_indexer',\n",
       " '_reindex_multi',\n",
       " '_reindex_with_indexers',\n",
       " '_rename',\n",
       " '_replace_single',\n",
       " '_repr_data_resource_',\n",
       " '_repr_latex_',\n",
       " '_reset_cache',\n",
       " '_reset_cacher',\n",
       " '_set_as_cached',\n",
       " '_set_axis',\n",
       " '_set_axis_name',\n",
       " '_set_axis_nocheck',\n",
       " '_set_is_copy',\n",
       " '_set_labels',\n",
       " '_set_name',\n",
       " '_set_value',\n",
       " '_set_values',\n",
       " '_set_with',\n",
       " '_set_with_engine',\n",
       " '_shift_with_freq',\n",
       " '_slice',\n",
       " '_stat_function',\n",
       " '_stat_function_ddof',\n",
       " '_take_with_is_copy',\n",
       " '_to_latex_via_styler',\n",
       " '_typ',\n",
       " '_update_inplace',\n",
       " '_validate_dtype',\n",
       " '_values',\n",
       " '_where',\n",
       " 'abs',\n",
       " 'add',\n",
       " 'add_prefix',\n",
       " 'add_suffix',\n",
       " 'agg',\n",
       " 'aggregate',\n",
       " 'align',\n",
       " 'all',\n",
       " 'any',\n",
       " 'apply',\n",
       " 'argmax',\n",
       " 'argmin',\n",
       " 'argsort',\n",
       " 'array',\n",
       " 'asfreq',\n",
       " 'asof',\n",
       " 'astype',\n",
       " 'at',\n",
       " 'at_time',\n",
       " 'attrs',\n",
       " 'autocorr',\n",
       " 'axes',\n",
       " 'backfill',\n",
       " 'between',\n",
       " 'between_time',\n",
       " 'bfill',\n",
       " 'bool',\n",
       " 'case_when',\n",
       " 'clip',\n",
       " 'combine',\n",
       " 'combine_first',\n",
       " 'compare',\n",
       " 'convert_dtypes',\n",
       " 'copy',\n",
       " 'corr',\n",
       " 'count',\n",
       " 'cov',\n",
       " 'cummax',\n",
       " 'cummin',\n",
       " 'cumprod',\n",
       " 'cumsum',\n",
       " 'describe',\n",
       " 'diff',\n",
       " 'div',\n",
       " 'divide',\n",
       " 'divmod',\n",
       " 'dot',\n",
       " 'drop',\n",
       " 'drop_duplicates',\n",
       " 'droplevel',\n",
       " 'dropna',\n",
       " 'dtype',\n",
       " 'dtypes',\n",
       " 'duplicated',\n",
       " 'empty',\n",
       " 'eq',\n",
       " 'equals',\n",
       " 'ewm',\n",
       " 'expanding',\n",
       " 'explode',\n",
       " 'factorize',\n",
       " 'ffill',\n",
       " 'fillna',\n",
       " 'filter',\n",
       " 'first',\n",
       " 'first_valid_index',\n",
       " 'flags',\n",
       " 'floordiv',\n",
       " 'ge',\n",
       " 'get',\n",
       " 'groupby',\n",
       " 'gt',\n",
       " 'hasnans',\n",
       " 'head',\n",
       " 'hist',\n",
       " 'iat',\n",
       " 'idxmax',\n",
       " 'idxmin',\n",
       " 'iloc',\n",
       " 'index',\n",
       " 'infer_objects',\n",
       " 'info',\n",
       " 'interpolate',\n",
       " 'is_monotonic_decreasing',\n",
       " 'is_monotonic_increasing',\n",
       " 'is_unique',\n",
       " 'isin',\n",
       " 'isna',\n",
       " 'isnull',\n",
       " 'item',\n",
       " 'items',\n",
       " 'keys',\n",
       " 'kurt',\n",
       " 'kurtosis',\n",
       " 'last',\n",
       " 'last_valid_index',\n",
       " 'le',\n",
       " 'list',\n",
       " 'loc',\n",
       " 'lt',\n",
       " 'map',\n",
       " 'mask',\n",
       " 'max',\n",
       " 'mean',\n",
       " 'median',\n",
       " 'memory_usage',\n",
       " 'min',\n",
       " 'mod',\n",
       " 'mode',\n",
       " 'mul',\n",
       " 'multiply',\n",
       " 'name',\n",
       " 'nbytes',\n",
       " 'ndim',\n",
       " 'ne',\n",
       " 'nlargest',\n",
       " 'notna',\n",
       " 'notnull',\n",
       " 'nsmallest',\n",
       " 'nunique',\n",
       " 'pad',\n",
       " 'pct_change',\n",
       " 'pipe',\n",
       " 'plot',\n",
       " 'pop',\n",
       " 'pow',\n",
       " 'prod',\n",
       " 'product',\n",
       " 'quantile',\n",
       " 'radd',\n",
       " 'rank',\n",
       " 'ravel',\n",
       " 'rdiv',\n",
       " 'rdivmod',\n",
       " 'reindex',\n",
       " 'reindex_like',\n",
       " 'rename',\n",
       " 'rename_axis',\n",
       " 'reorder_levels',\n",
       " 'repeat',\n",
       " 'replace',\n",
       " 'resample',\n",
       " 'reset_index',\n",
       " 'rfloordiv',\n",
       " 'rmod',\n",
       " 'rmul',\n",
       " 'rolling',\n",
       " 'round',\n",
       " 'rpow',\n",
       " 'rsub',\n",
       " 'rtruediv',\n",
       " 'sample',\n",
       " 'searchsorted',\n",
       " 'sem',\n",
       " 'set_axis',\n",
       " 'set_flags',\n",
       " 'shape',\n",
       " 'shift',\n",
       " 'size',\n",
       " 'skew',\n",
       " 'sort_index',\n",
       " 'sort_values',\n",
       " 'squeeze',\n",
       " 'std',\n",
       " 'str',\n",
       " 'struct',\n",
       " 'sub',\n",
       " 'subtract',\n",
       " 'sum',\n",
       " 'swapaxes',\n",
       " 'swaplevel',\n",
       " 'tail',\n",
       " 'take',\n",
       " 'to_clipboard',\n",
       " 'to_csv',\n",
       " 'to_dict',\n",
       " 'to_excel',\n",
       " 'to_frame',\n",
       " 'to_hdf',\n",
       " 'to_json',\n",
       " 'to_latex',\n",
       " 'to_list',\n",
       " 'to_markdown',\n",
       " 'to_numpy',\n",
       " 'to_period',\n",
       " 'to_pickle',\n",
       " 'to_sql',\n",
       " 'to_string',\n",
       " 'to_timestamp',\n",
       " 'to_xarray',\n",
       " 'transform',\n",
       " 'transpose',\n",
       " 'truediv',\n",
       " 'truncate',\n",
       " 'tz_convert',\n",
       " 'tz_localize',\n",
       " 'unique',\n",
       " 'unstack',\n",
       " 'update',\n",
       " 'value_counts',\n",
       " 'values',\n",
       " 'var',\n",
       " 'view',\n",
       " 'where',\n",
       " 'xs']"
      ]
     },
     "execution_count": 29,
     "metadata": {},
     "output_type": "execute_result"
    }
   ],
   "source": [
    "dir(s)"
   ]
  },
  {
   "cell_type": "code",
   "execution_count": 26,
   "id": "53ca04c4-d866-4cf3-a63b-3a6a7f707e7f",
   "metadata": {
    "scrolled": true
   },
   "outputs": [
    {
     "ename": "AttributeError",
     "evalue": "'Series' object has no attribute 'notin'",
     "output_type": "error",
     "traceback": [
      "\u001b[0;31m---------------------------------------------------------------------------\u001b[0m",
      "\u001b[0;31mAttributeError\u001b[0m                            Traceback (most recent call last)",
      "\u001b[0;32m/tmp/ipykernel_148/3059570444.py\u001b[0m in \u001b[0;36m?\u001b[0;34m()\u001b[0m\n\u001b[0;32m----> 1\u001b[0;31m \u001b[0mstudents_df\u001b[0m\u001b[0;34m[\u001b[0m\u001b[0;34m\"student_id\"\u001b[0m\u001b[0;34m]\u001b[0m\u001b[0;34m.\u001b[0m\u001b[0mnotin\u001b[0m\u001b[0;34m(\u001b[0m\u001b[0mexisting_student_ids\u001b[0m\u001b[0;34m)\u001b[0m\u001b[0;34m\u001b[0m\u001b[0;34m\u001b[0m\u001b[0m\n\u001b[0m",
      "\u001b[0;32m/usr/local/lib/python3.10/site-packages/pandas/core/generic.py\u001b[0m in \u001b[0;36m?\u001b[0;34m(self, name)\u001b[0m\n\u001b[1;32m   6295\u001b[0m             \u001b[0;32mand\u001b[0m \u001b[0mname\u001b[0m \u001b[0;32mnot\u001b[0m \u001b[0;32min\u001b[0m \u001b[0mself\u001b[0m\u001b[0;34m.\u001b[0m\u001b[0m_accessors\u001b[0m\u001b[0;34m\u001b[0m\u001b[0;34m\u001b[0m\u001b[0m\n\u001b[1;32m   6296\u001b[0m             \u001b[0;32mand\u001b[0m \u001b[0mself\u001b[0m\u001b[0;34m.\u001b[0m\u001b[0m_info_axis\u001b[0m\u001b[0;34m.\u001b[0m\u001b[0m_can_hold_identifiers_and_holds_name\u001b[0m\u001b[0;34m(\u001b[0m\u001b[0mname\u001b[0m\u001b[0;34m)\u001b[0m\u001b[0;34m\u001b[0m\u001b[0;34m\u001b[0m\u001b[0m\n\u001b[1;32m   6297\u001b[0m         ):\n\u001b[1;32m   6298\u001b[0m             \u001b[0;32mreturn\u001b[0m \u001b[0mself\u001b[0m\u001b[0;34m[\u001b[0m\u001b[0mname\u001b[0m\u001b[0;34m]\u001b[0m\u001b[0;34m\u001b[0m\u001b[0;34m\u001b[0m\u001b[0m\n\u001b[0;32m-> 6299\u001b[0;31m         \u001b[0;32mreturn\u001b[0m \u001b[0mobject\u001b[0m\u001b[0;34m.\u001b[0m\u001b[0m__getattribute__\u001b[0m\u001b[0;34m(\u001b[0m\u001b[0mself\u001b[0m\u001b[0;34m,\u001b[0m \u001b[0mname\u001b[0m\u001b[0;34m)\u001b[0m\u001b[0;34m\u001b[0m\u001b[0;34m\u001b[0m\u001b[0m\n\u001b[0m",
      "\u001b[0;31mAttributeError\u001b[0m: 'Series' object has no attribute 'notin'"
     ]
    }
   ],
   "source": [
    "students_df[\"student_id\"].n(existing_student_ids)"
   ]
  },
  {
   "cell_type": "code",
   "execution_count": 6,
   "id": "2e06378a-70b8-43c6-8762-8aa610554bd1",
   "metadata": {},
   "outputs": [],
   "source": [
    "s = students_df[\"Github repo\"]"
   ]
  },
  {
   "cell_type": "code",
   "execution_count": 9,
   "id": "f8bf7b64-20a5-44ac-b854-c5b643ff02cf",
   "metadata": {},
   "outputs": [
    {
     "data": {
      "text/plain": [
       "2      GlebIsrailevich\n",
       "9              khrstln\n",
       "16       pavelkochkin1\n",
       "38        semyondipner\n",
       "42            FanisNgv\n",
       "45         ElenaSuhova\n",
       "52            anaaaiva\n",
       "54    Mihail-Olegovich\n",
       "55         martynov-dm\n",
       "56            LeftGoga\n",
       "Name: 0, dtype: object"
      ]
     },
     "execution_count": 9,
     "metadata": {},
     "output_type": "execute_result"
    }
   ],
   "source": []
  },
  {
   "cell_type": "code",
   "execution_count": null,
   "id": "c5dd32e2-d947-4626-ac50-d7604ff3303f",
   "metadata": {},
   "outputs": [],
   "source": []
  },
  {
   "cell_type": "code",
   "execution_count": 7,
   "id": "16318682-78e4-4229-a0a3-fb15485a29fc",
   "metadata": {},
   "outputs": [
    {
     "name": "stdout",
     "output_type": "stream",
     "text": [
      "itmo_recsys_2025_spring\n"
     ]
    }
   ],
   "source": [
    "!ls /usr/local/share/nbgrader/exchange"
   ]
  },
  {
   "cell_type": "code",
   "execution_count": 4,
   "id": "d555a3c1-19e8-4744-9a47-61a5fd0b6bb6",
   "metadata": {},
   "outputs": [],
   "source": []
  },
  {
   "cell_type": "code",
   "execution_count": null,
   "id": "03ce301c-6958-420e-bc8f-efc1049bfe0b",
   "metadata": {},
   "outputs": [],
   "source": [
    "\n",
    "gradebook.add_student(\n",
    "    \"test_student_1\", first_name=\"Aaaa\", last_name=\"Bbbb\",\n",
    ")"
   ]
  },
  {
   "cell_type": "code",
   "execution_count": 75,
   "id": "6b0e100c-18b6-41ca-9280-1f731df6adf9",
   "metadata": {},
   "outputs": [
    {
     "name": "stderr",
     "output_type": "stream",
     "text": [
      "/usr/local/lib/python3.10/site-packages/nbgrader/api.py:1423: SAWarning: New instance <Student at 0x7f1e747c9db0> with identity key (<class 'nbgrader.api.Student'>, ('test_student_1',), None) conflicts with persistent instance <Student at 0x7f1e74692d40>\n",
      "  self.db.commit()\n",
      "ERROR:tornado.application:Rolling back session due to database error (sqlite3.IntegrityError) UNIQUE constraint failed: student.id\n",
      "[SQL: INSERT INTO student (id, first_name, last_name, email, lms_user_id) VALUES (?, ?, ?, ?, ?)]\n",
      "[parameters: ('test_student_1', 'Aaaa', 'Bbbb', None, None)]\n",
      "(Background on this error at: https://sqlalche.me/e/20/gkpj)\n",
      "Traceback (most recent call last):\n",
      "  File \"/usr/local/lib/python3.10/site-packages/sqlalchemy/engine/base.py\", line 1964, in _exec_single_context\n",
      "    self.dialect.do_execute(\n",
      "  File \"/usr/local/lib/python3.10/site-packages/sqlalchemy/engine/default.py\", line 942, in do_execute\n",
      "    cursor.execute(statement, parameters)\n",
      "sqlite3.IntegrityError: UNIQUE constraint failed: student.id\n",
      "\n",
      "The above exception was the direct cause of the following exception:\n",
      "\n",
      "Traceback (most recent call last):\n",
      "  File \"/usr/local/lib/python3.10/site-packages/nbgrader/api.py\", line 1423, in add_student\n",
      "    self.db.commit()\n",
      "  File \"/usr/local/lib/python3.10/site-packages/sqlalchemy/orm/scoping.py\", line 599, in commit\n",
      "    return self._proxied.commit()\n",
      "  File \"/usr/local/lib/python3.10/site-packages/sqlalchemy/orm/session.py\", line 2032, in commit\n",
      "    trans.commit(_to_root=True)\n",
      "  File \"<string>\", line 2, in commit\n",
      "  File \"/usr/local/lib/python3.10/site-packages/sqlalchemy/orm/state_changes.py\", line 139, in _go\n",
      "    ret_value = fn(self, *arg, **kw)\n",
      "  File \"/usr/local/lib/python3.10/site-packages/sqlalchemy/orm/session.py\", line 1313, in commit\n",
      "    self._prepare_impl()\n",
      "  File \"<string>\", line 2, in _prepare_impl\n",
      "  File \"/usr/local/lib/python3.10/site-packages/sqlalchemy/orm/state_changes.py\", line 139, in _go\n",
      "    ret_value = fn(self, *arg, **kw)\n",
      "  File \"/usr/local/lib/python3.10/site-packages/sqlalchemy/orm/session.py\", line 1288, in _prepare_impl\n",
      "    self.session.flush()\n",
      "  File \"/usr/local/lib/python3.10/site-packages/sqlalchemy/orm/session.py\", line 4353, in flush\n",
      "    self._flush(objects)\n",
      "  File \"/usr/local/lib/python3.10/site-packages/sqlalchemy/orm/session.py\", line 4488, in _flush\n",
      "    with util.safe_reraise():\n",
      "  File \"/usr/local/lib/python3.10/site-packages/sqlalchemy/util/langhelpers.py\", line 146, in __exit__\n",
      "    raise exc_value.with_traceback(exc_tb)\n",
      "  File \"/usr/local/lib/python3.10/site-packages/sqlalchemy/orm/session.py\", line 4449, in _flush\n",
      "    flush_context.execute()\n",
      "  File \"/usr/local/lib/python3.10/site-packages/sqlalchemy/orm/unitofwork.py\", line 466, in execute\n",
      "    rec.execute(self)\n",
      "  File \"/usr/local/lib/python3.10/site-packages/sqlalchemy/orm/unitofwork.py\", line 642, in execute\n",
      "    util.preloaded.orm_persistence.save_obj(\n",
      "  File \"/usr/local/lib/python3.10/site-packages/sqlalchemy/orm/persistence.py\", line 93, in save_obj\n",
      "    _emit_insert_statements(\n",
      "  File \"/usr/local/lib/python3.10/site-packages/sqlalchemy/orm/persistence.py\", line 1048, in _emit_insert_statements\n",
      "    result = connection.execute(\n",
      "  File \"/usr/local/lib/python3.10/site-packages/sqlalchemy/engine/base.py\", line 1416, in execute\n",
      "    return meth(\n",
      "  File \"/usr/local/lib/python3.10/site-packages/sqlalchemy/sql/elements.py\", line 516, in _execute_on_connection\n",
      "    return connection._execute_clauseelement(\n",
      "  File \"/usr/local/lib/python3.10/site-packages/sqlalchemy/engine/base.py\", line 1638, in _execute_clauseelement\n",
      "    ret = self._execute_context(\n",
      "  File \"/usr/local/lib/python3.10/site-packages/sqlalchemy/engine/base.py\", line 1843, in _execute_context\n",
      "    return self._exec_single_context(\n",
      "  File \"/usr/local/lib/python3.10/site-packages/sqlalchemy/engine/base.py\", line 1983, in _exec_single_context\n",
      "    self._handle_dbapi_exception(\n",
      "  File \"/usr/local/lib/python3.10/site-packages/sqlalchemy/engine/base.py\", line 2352, in _handle_dbapi_exception\n",
      "    raise sqlalchemy_exception.with_traceback(exc_info[2]) from e\n",
      "  File \"/usr/local/lib/python3.10/site-packages/sqlalchemy/engine/base.py\", line 1964, in _exec_single_context\n",
      "    self.dialect.do_execute(\n",
      "  File \"/usr/local/lib/python3.10/site-packages/sqlalchemy/engine/default.py\", line 942, in do_execute\n",
      "    cursor.execute(statement, parameters)\n",
      "sqlalchemy.exc.IntegrityError: (sqlite3.IntegrityError) UNIQUE constraint failed: student.id\n",
      "[SQL: INSERT INTO student (id, first_name, last_name, email, lms_user_id) VALUES (?, ?, ?, ?, ?)]\n",
      "[parameters: ('test_student_1', 'Aaaa', 'Bbbb', None, None)]\n",
      "(Background on this error at: https://sqlalche.me/e/20/gkpj)\n"
     ]
    },
    {
     "ename": "InvalidEntry",
     "evalue": "(sqlite3.IntegrityError) UNIQUE constraint failed: student.id",
     "output_type": "error",
     "traceback": [
      "\u001b[0;31m---------------------------------------------------------------------------\u001b[0m",
      "\u001b[0;31mIntegrityError\u001b[0m                            Traceback (most recent call last)",
      "File \u001b[0;32m/usr/local/lib/python3.10/site-packages/sqlalchemy/engine/base.py:1964\u001b[0m, in \u001b[0;36mConnection._exec_single_context\u001b[0;34m(self, dialect, context, statement, parameters)\u001b[0m\n\u001b[1;32m   1963\u001b[0m     \u001b[38;5;28;01mif\u001b[39;00m \u001b[38;5;129;01mnot\u001b[39;00m evt_handled:\n\u001b[0;32m-> 1964\u001b[0m         \u001b[38;5;28;43mself\u001b[39;49m\u001b[38;5;241;43m.\u001b[39;49m\u001b[43mdialect\u001b[49m\u001b[38;5;241;43m.\u001b[39;49m\u001b[43mdo_execute\u001b[49m\u001b[43m(\u001b[49m\n\u001b[1;32m   1965\u001b[0m \u001b[43m            \u001b[49m\u001b[43mcursor\u001b[49m\u001b[43m,\u001b[49m\u001b[43m \u001b[49m\u001b[43mstr_statement\u001b[49m\u001b[43m,\u001b[49m\u001b[43m \u001b[49m\u001b[43meffective_parameters\u001b[49m\u001b[43m,\u001b[49m\u001b[43m \u001b[49m\u001b[43mcontext\u001b[49m\n\u001b[1;32m   1966\u001b[0m \u001b[43m        \u001b[49m\u001b[43m)\u001b[49m\n\u001b[1;32m   1968\u001b[0m \u001b[38;5;28;01mif\u001b[39;00m \u001b[38;5;28mself\u001b[39m\u001b[38;5;241m.\u001b[39m_has_events \u001b[38;5;129;01mor\u001b[39;00m \u001b[38;5;28mself\u001b[39m\u001b[38;5;241m.\u001b[39mengine\u001b[38;5;241m.\u001b[39m_has_events:\n",
      "File \u001b[0;32m/usr/local/lib/python3.10/site-packages/sqlalchemy/engine/default.py:942\u001b[0m, in \u001b[0;36mDefaultDialect.do_execute\u001b[0;34m(self, cursor, statement, parameters, context)\u001b[0m\n\u001b[1;32m    941\u001b[0m \u001b[38;5;28;01mdef\u001b[39;00m\u001b[38;5;250m \u001b[39m\u001b[38;5;21mdo_execute\u001b[39m(\u001b[38;5;28mself\u001b[39m, cursor, statement, parameters, context\u001b[38;5;241m=\u001b[39m\u001b[38;5;28;01mNone\u001b[39;00m):\n\u001b[0;32m--> 942\u001b[0m     \u001b[43mcursor\u001b[49m\u001b[38;5;241;43m.\u001b[39;49m\u001b[43mexecute\u001b[49m\u001b[43m(\u001b[49m\u001b[43mstatement\u001b[49m\u001b[43m,\u001b[49m\u001b[43m \u001b[49m\u001b[43mparameters\u001b[49m\u001b[43m)\u001b[49m\n",
      "\u001b[0;31mIntegrityError\u001b[0m: UNIQUE constraint failed: student.id",
      "\nThe above exception was the direct cause of the following exception:\n",
      "\u001b[0;31mIntegrityError\u001b[0m                            Traceback (most recent call last)",
      "File \u001b[0;32m/usr/local/lib/python3.10/site-packages/nbgrader/api.py:1423\u001b[0m, in \u001b[0;36mGradebook.add_student\u001b[0;34m(self, student_id, **kwargs)\u001b[0m\n\u001b[1;32m   1422\u001b[0m \u001b[38;5;28;01mtry\u001b[39;00m:\n\u001b[0;32m-> 1423\u001b[0m     \u001b[38;5;28;43mself\u001b[39;49m\u001b[38;5;241;43m.\u001b[39;49m\u001b[43mdb\u001b[49m\u001b[38;5;241;43m.\u001b[39;49m\u001b[43mcommit\u001b[49m\u001b[43m(\u001b[49m\u001b[43m)\u001b[49m\n\u001b[1;32m   1424\u001b[0m \u001b[38;5;28;01mexcept\u001b[39;00m (IntegrityError, FlushError, StatementError) \u001b[38;5;28;01mas\u001b[39;00m e:\n",
      "File \u001b[0;32m/usr/local/lib/python3.10/site-packages/sqlalchemy/orm/scoping.py:599\u001b[0m, in \u001b[0;36mscoped_session.commit\u001b[0;34m(self)\u001b[0m\n\u001b[1;32m    561\u001b[0m \u001b[38;5;250m\u001b[39m\u001b[38;5;124mr\u001b[39m\u001b[38;5;124;03m\"\"\"Flush pending changes and commit the current transaction.\u001b[39;00m\n\u001b[1;32m    562\u001b[0m \n\u001b[1;32m    563\u001b[0m \u001b[38;5;124;03m.. container:: class_bases\u001b[39;00m\n\u001b[0;32m   (...)\u001b[0m\n\u001b[1;32m    596\u001b[0m \n\u001b[1;32m    597\u001b[0m \u001b[38;5;124;03m\"\"\"\u001b[39;00m  \u001b[38;5;66;03m# noqa: E501\u001b[39;00m\n\u001b[0;32m--> 599\u001b[0m \u001b[38;5;28;01mreturn\u001b[39;00m \u001b[38;5;28;43mself\u001b[39;49m\u001b[38;5;241;43m.\u001b[39;49m\u001b[43m_proxied\u001b[49m\u001b[38;5;241;43m.\u001b[39;49m\u001b[43mcommit\u001b[49m\u001b[43m(\u001b[49m\u001b[43m)\u001b[49m\n",
      "File \u001b[0;32m/usr/local/lib/python3.10/site-packages/sqlalchemy/orm/session.py:2032\u001b[0m, in \u001b[0;36mSession.commit\u001b[0;34m(self)\u001b[0m\n\u001b[1;32m   2030\u001b[0m     trans \u001b[38;5;241m=\u001b[39m \u001b[38;5;28mself\u001b[39m\u001b[38;5;241m.\u001b[39m_autobegin_t()\n\u001b[0;32m-> 2032\u001b[0m \u001b[43mtrans\u001b[49m\u001b[38;5;241;43m.\u001b[39;49m\u001b[43mcommit\u001b[49m\u001b[43m(\u001b[49m\u001b[43m_to_root\u001b[49m\u001b[38;5;241;43m=\u001b[39;49m\u001b[38;5;28;43;01mTrue\u001b[39;49;00m\u001b[43m)\u001b[49m\n",
      "File \u001b[0;32m<string>:2\u001b[0m, in \u001b[0;36mcommit\u001b[0;34m(self, _to_root)\u001b[0m\n",
      "File \u001b[0;32m/usr/local/lib/python3.10/site-packages/sqlalchemy/orm/state_changes.py:139\u001b[0m, in \u001b[0;36m_StateChange.declare_states.<locals>._go\u001b[0;34m(fn, self, *arg, **kw)\u001b[0m\n\u001b[1;32m    138\u001b[0m \u001b[38;5;28;01mtry\u001b[39;00m:\n\u001b[0;32m--> 139\u001b[0m     ret_value \u001b[38;5;241m=\u001b[39m \u001b[43mfn\u001b[49m\u001b[43m(\u001b[49m\u001b[38;5;28;43mself\u001b[39;49m\u001b[43m,\u001b[49m\u001b[43m \u001b[49m\u001b[38;5;241;43m*\u001b[39;49m\u001b[43marg\u001b[49m\u001b[43m,\u001b[49m\u001b[43m \u001b[49m\u001b[38;5;241;43m*\u001b[39;49m\u001b[38;5;241;43m*\u001b[39;49m\u001b[43mkw\u001b[49m\u001b[43m)\u001b[49m\n\u001b[1;32m    140\u001b[0m \u001b[38;5;28;01mexcept\u001b[39;00m:\n",
      "File \u001b[0;32m/usr/local/lib/python3.10/site-packages/sqlalchemy/orm/session.py:1313\u001b[0m, in \u001b[0;36mSessionTransaction.commit\u001b[0;34m(self, _to_root)\u001b[0m\n\u001b[1;32m   1312\u001b[0m     \u001b[38;5;28;01mwith\u001b[39;00m \u001b[38;5;28mself\u001b[39m\u001b[38;5;241m.\u001b[39m_expect_state(SessionTransactionState\u001b[38;5;241m.\u001b[39mPREPARED):\n\u001b[0;32m-> 1313\u001b[0m         \u001b[38;5;28;43mself\u001b[39;49m\u001b[38;5;241;43m.\u001b[39;49m\u001b[43m_prepare_impl\u001b[49m\u001b[43m(\u001b[49m\u001b[43m)\u001b[49m\n\u001b[1;32m   1315\u001b[0m \u001b[38;5;28;01mif\u001b[39;00m \u001b[38;5;28mself\u001b[39m\u001b[38;5;241m.\u001b[39m_parent \u001b[38;5;129;01mis\u001b[39;00m \u001b[38;5;28;01mNone\u001b[39;00m \u001b[38;5;129;01mor\u001b[39;00m \u001b[38;5;28mself\u001b[39m\u001b[38;5;241m.\u001b[39mnested:\n",
      "File \u001b[0;32m<string>:2\u001b[0m, in \u001b[0;36m_prepare_impl\u001b[0;34m(self)\u001b[0m\n",
      "File \u001b[0;32m/usr/local/lib/python3.10/site-packages/sqlalchemy/orm/state_changes.py:139\u001b[0m, in \u001b[0;36m_StateChange.declare_states.<locals>._go\u001b[0;34m(fn, self, *arg, **kw)\u001b[0m\n\u001b[1;32m    138\u001b[0m \u001b[38;5;28;01mtry\u001b[39;00m:\n\u001b[0;32m--> 139\u001b[0m     ret_value \u001b[38;5;241m=\u001b[39m \u001b[43mfn\u001b[49m\u001b[43m(\u001b[49m\u001b[38;5;28;43mself\u001b[39;49m\u001b[43m,\u001b[49m\u001b[43m \u001b[49m\u001b[38;5;241;43m*\u001b[39;49m\u001b[43marg\u001b[49m\u001b[43m,\u001b[49m\u001b[43m \u001b[49m\u001b[38;5;241;43m*\u001b[39;49m\u001b[38;5;241;43m*\u001b[39;49m\u001b[43mkw\u001b[49m\u001b[43m)\u001b[49m\n\u001b[1;32m    140\u001b[0m \u001b[38;5;28;01mexcept\u001b[39;00m:\n",
      "File \u001b[0;32m/usr/local/lib/python3.10/site-packages/sqlalchemy/orm/session.py:1288\u001b[0m, in \u001b[0;36mSessionTransaction._prepare_impl\u001b[0;34m(self)\u001b[0m\n\u001b[1;32m   1287\u001b[0m         \u001b[38;5;28;01mbreak\u001b[39;00m\n\u001b[0;32m-> 1288\u001b[0m     \u001b[38;5;28;43mself\u001b[39;49m\u001b[38;5;241;43m.\u001b[39;49m\u001b[43msession\u001b[49m\u001b[38;5;241;43m.\u001b[39;49m\u001b[43mflush\u001b[49m\u001b[43m(\u001b[49m\u001b[43m)\u001b[49m\n\u001b[1;32m   1289\u001b[0m \u001b[38;5;28;01melse\u001b[39;00m:\n",
      "File \u001b[0;32m/usr/local/lib/python3.10/site-packages/sqlalchemy/orm/session.py:4353\u001b[0m, in \u001b[0;36mSession.flush\u001b[0;34m(self, objects)\u001b[0m\n\u001b[1;32m   4352\u001b[0m     \u001b[38;5;28mself\u001b[39m\u001b[38;5;241m.\u001b[39m_flushing \u001b[38;5;241m=\u001b[39m \u001b[38;5;28;01mTrue\u001b[39;00m\n\u001b[0;32m-> 4353\u001b[0m     \u001b[38;5;28;43mself\u001b[39;49m\u001b[38;5;241;43m.\u001b[39;49m\u001b[43m_flush\u001b[49m\u001b[43m(\u001b[49m\u001b[43mobjects\u001b[49m\u001b[43m)\u001b[49m\n\u001b[1;32m   4354\u001b[0m \u001b[38;5;28;01mfinally\u001b[39;00m:\n",
      "File \u001b[0;32m/usr/local/lib/python3.10/site-packages/sqlalchemy/orm/session.py:4488\u001b[0m, in \u001b[0;36mSession._flush\u001b[0;34m(self, objects)\u001b[0m\n\u001b[1;32m   4487\u001b[0m \u001b[38;5;28;01mexcept\u001b[39;00m:\n\u001b[0;32m-> 4488\u001b[0m     \u001b[38;5;28;01mwith\u001b[39;00m util\u001b[38;5;241m.\u001b[39msafe_reraise():\n\u001b[1;32m   4489\u001b[0m         transaction\u001b[38;5;241m.\u001b[39mrollback(_capture_exception\u001b[38;5;241m=\u001b[39m\u001b[38;5;28;01mTrue\u001b[39;00m)\n",
      "File \u001b[0;32m/usr/local/lib/python3.10/site-packages/sqlalchemy/util/langhelpers.py:146\u001b[0m, in \u001b[0;36msafe_reraise.__exit__\u001b[0;34m(self, type_, value, traceback)\u001b[0m\n\u001b[1;32m    145\u001b[0m     \u001b[38;5;28mself\u001b[39m\u001b[38;5;241m.\u001b[39m_exc_info \u001b[38;5;241m=\u001b[39m \u001b[38;5;28;01mNone\u001b[39;00m  \u001b[38;5;66;03m# remove potential circular references\u001b[39;00m\n\u001b[0;32m--> 146\u001b[0m     \u001b[38;5;28;01mraise\u001b[39;00m exc_value\u001b[38;5;241m.\u001b[39mwith_traceback(exc_tb)\n\u001b[1;32m    147\u001b[0m \u001b[38;5;28;01melse\u001b[39;00m:\n",
      "File \u001b[0;32m/usr/local/lib/python3.10/site-packages/sqlalchemy/orm/session.py:4449\u001b[0m, in \u001b[0;36mSession._flush\u001b[0;34m(self, objects)\u001b[0m\n\u001b[1;32m   4448\u001b[0m \u001b[38;5;28;01mtry\u001b[39;00m:\n\u001b[0;32m-> 4449\u001b[0m     \u001b[43mflush_context\u001b[49m\u001b[38;5;241;43m.\u001b[39;49m\u001b[43mexecute\u001b[49m\u001b[43m(\u001b[49m\u001b[43m)\u001b[49m\n\u001b[1;32m   4450\u001b[0m \u001b[38;5;28;01mfinally\u001b[39;00m:\n",
      "File \u001b[0;32m/usr/local/lib/python3.10/site-packages/sqlalchemy/orm/unitofwork.py:466\u001b[0m, in \u001b[0;36mUOWTransaction.execute\u001b[0;34m(self)\u001b[0m\n\u001b[1;32m    465\u001b[0m \u001b[38;5;28;01mfor\u001b[39;00m rec \u001b[38;5;129;01min\u001b[39;00m topological\u001b[38;5;241m.\u001b[39msort(\u001b[38;5;28mself\u001b[39m\u001b[38;5;241m.\u001b[39mdependencies, postsort_actions):\n\u001b[0;32m--> 466\u001b[0m     \u001b[43mrec\u001b[49m\u001b[38;5;241;43m.\u001b[39;49m\u001b[43mexecute\u001b[49m\u001b[43m(\u001b[49m\u001b[38;5;28;43mself\u001b[39;49m\u001b[43m)\u001b[49m\n",
      "File \u001b[0;32m/usr/local/lib/python3.10/site-packages/sqlalchemy/orm/unitofwork.py:642\u001b[0m, in \u001b[0;36mSaveUpdateAll.execute\u001b[0;34m(self, uow)\u001b[0m\n\u001b[1;32m    640\u001b[0m \u001b[38;5;129m@util\u001b[39m\u001b[38;5;241m.\u001b[39mpreload_module(\u001b[38;5;124m\"\u001b[39m\u001b[38;5;124msqlalchemy.orm.persistence\u001b[39m\u001b[38;5;124m\"\u001b[39m)\n\u001b[1;32m    641\u001b[0m \u001b[38;5;28;01mdef\u001b[39;00m\u001b[38;5;250m \u001b[39m\u001b[38;5;21mexecute\u001b[39m(\u001b[38;5;28mself\u001b[39m, uow):\n\u001b[0;32m--> 642\u001b[0m     \u001b[43mutil\u001b[49m\u001b[38;5;241;43m.\u001b[39;49m\u001b[43mpreloaded\u001b[49m\u001b[38;5;241;43m.\u001b[39;49m\u001b[43morm_persistence\u001b[49m\u001b[38;5;241;43m.\u001b[39;49m\u001b[43msave_obj\u001b[49m\u001b[43m(\u001b[49m\n\u001b[1;32m    643\u001b[0m \u001b[43m        \u001b[49m\u001b[38;5;28;43mself\u001b[39;49m\u001b[38;5;241;43m.\u001b[39;49m\u001b[43mmapper\u001b[49m\u001b[43m,\u001b[49m\n\u001b[1;32m    644\u001b[0m \u001b[43m        \u001b[49m\u001b[43muow\u001b[49m\u001b[38;5;241;43m.\u001b[39;49m\u001b[43mstates_for_mapper_hierarchy\u001b[49m\u001b[43m(\u001b[49m\u001b[38;5;28;43mself\u001b[39;49m\u001b[38;5;241;43m.\u001b[39;49m\u001b[43mmapper\u001b[49m\u001b[43m,\u001b[49m\u001b[43m \u001b[49m\u001b[38;5;28;43;01mFalse\u001b[39;49;00m\u001b[43m,\u001b[49m\u001b[43m \u001b[49m\u001b[38;5;28;43;01mFalse\u001b[39;49;00m\u001b[43m)\u001b[49m\u001b[43m,\u001b[49m\n\u001b[1;32m    645\u001b[0m \u001b[43m        \u001b[49m\u001b[43muow\u001b[49m\u001b[43m,\u001b[49m\n\u001b[1;32m    646\u001b[0m \u001b[43m    \u001b[49m\u001b[43m)\u001b[49m\n",
      "File \u001b[0;32m/usr/local/lib/python3.10/site-packages/sqlalchemy/orm/persistence.py:93\u001b[0m, in \u001b[0;36msave_obj\u001b[0;34m(base_mapper, states, uowtransaction, single)\u001b[0m\n\u001b[1;32m     85\u001b[0m     _emit_update_statements(\n\u001b[1;32m     86\u001b[0m         base_mapper,\n\u001b[1;32m     87\u001b[0m         uowtransaction,\n\u001b[0;32m   (...)\u001b[0m\n\u001b[1;32m     90\u001b[0m         update,\n\u001b[1;32m     91\u001b[0m     )\n\u001b[0;32m---> 93\u001b[0m     \u001b[43m_emit_insert_statements\u001b[49m\u001b[43m(\u001b[49m\n\u001b[1;32m     94\u001b[0m \u001b[43m        \u001b[49m\u001b[43mbase_mapper\u001b[49m\u001b[43m,\u001b[49m\n\u001b[1;32m     95\u001b[0m \u001b[43m        \u001b[49m\u001b[43muowtransaction\u001b[49m\u001b[43m,\u001b[49m\n\u001b[1;32m     96\u001b[0m \u001b[43m        \u001b[49m\u001b[43mmapper\u001b[49m\u001b[43m,\u001b[49m\n\u001b[1;32m     97\u001b[0m \u001b[43m        \u001b[49m\u001b[43mtable\u001b[49m\u001b[43m,\u001b[49m\n\u001b[1;32m     98\u001b[0m \u001b[43m        \u001b[49m\u001b[43minsert\u001b[49m\u001b[43m,\u001b[49m\n\u001b[1;32m     99\u001b[0m \u001b[43m    \u001b[49m\u001b[43m)\u001b[49m\n\u001b[1;32m    101\u001b[0m _finalize_insert_update_commands(\n\u001b[1;32m    102\u001b[0m     base_mapper,\n\u001b[1;32m    103\u001b[0m     uowtransaction,\n\u001b[0;32m   (...)\u001b[0m\n\u001b[1;32m    119\u001b[0m     ),\n\u001b[1;32m    120\u001b[0m )\n",
      "File \u001b[0;32m/usr/local/lib/python3.10/site-packages/sqlalchemy/orm/persistence.py:1048\u001b[0m, in \u001b[0;36m_emit_insert_statements\u001b[0;34m(base_mapper, uowtransaction, mapper, table, insert, bookkeeping, use_orm_insert_stmt, execution_options)\u001b[0m\n\u001b[1;32m   1046\u001b[0m multiparams \u001b[38;5;241m=\u001b[39m [rec[\u001b[38;5;241m2\u001b[39m] \u001b[38;5;28;01mfor\u001b[39;00m rec \u001b[38;5;129;01min\u001b[39;00m records]\n\u001b[0;32m-> 1048\u001b[0m result \u001b[38;5;241m=\u001b[39m \u001b[43mconnection\u001b[49m\u001b[38;5;241;43m.\u001b[39;49m\u001b[43mexecute\u001b[49m\u001b[43m(\u001b[49m\n\u001b[1;32m   1049\u001b[0m \u001b[43m    \u001b[49m\u001b[43mstatement\u001b[49m\u001b[43m,\u001b[49m\u001b[43m \u001b[49m\u001b[43mmultiparams\u001b[49m\u001b[43m,\u001b[49m\u001b[43m \u001b[49m\u001b[43mexecution_options\u001b[49m\u001b[38;5;241;43m=\u001b[39;49m\u001b[43mexecution_options\u001b[49m\n\u001b[1;32m   1050\u001b[0m \u001b[43m\u001b[49m\u001b[43m)\u001b[49m\n\u001b[1;32m   1051\u001b[0m \u001b[38;5;28;01mif\u001b[39;00m bookkeeping:\n",
      "File \u001b[0;32m/usr/local/lib/python3.10/site-packages/sqlalchemy/engine/base.py:1416\u001b[0m, in \u001b[0;36mConnection.execute\u001b[0;34m(self, statement, parameters, execution_options)\u001b[0m\n\u001b[1;32m   1415\u001b[0m \u001b[38;5;28;01melse\u001b[39;00m:\n\u001b[0;32m-> 1416\u001b[0m     \u001b[38;5;28;01mreturn\u001b[39;00m \u001b[43mmeth\u001b[49m\u001b[43m(\u001b[49m\n\u001b[1;32m   1417\u001b[0m \u001b[43m        \u001b[49m\u001b[38;5;28;43mself\u001b[39;49m\u001b[43m,\u001b[49m\n\u001b[1;32m   1418\u001b[0m \u001b[43m        \u001b[49m\u001b[43mdistilled_parameters\u001b[49m\u001b[43m,\u001b[49m\n\u001b[1;32m   1419\u001b[0m \u001b[43m        \u001b[49m\u001b[43mexecution_options\u001b[49m\u001b[43m \u001b[49m\u001b[38;5;129;43;01mor\u001b[39;49;00m\u001b[43m \u001b[49m\u001b[43mNO_OPTIONS\u001b[49m\u001b[43m,\u001b[49m\n\u001b[1;32m   1420\u001b[0m \u001b[43m    \u001b[49m\u001b[43m)\u001b[49m\n",
      "File \u001b[0;32m/usr/local/lib/python3.10/site-packages/sqlalchemy/sql/elements.py:516\u001b[0m, in \u001b[0;36mClauseElement._execute_on_connection\u001b[0;34m(self, connection, distilled_params, execution_options)\u001b[0m\n\u001b[1;32m    515\u001b[0m         \u001b[38;5;28;01massert\u001b[39;00m \u001b[38;5;28misinstance\u001b[39m(\u001b[38;5;28mself\u001b[39m, Executable)\n\u001b[0;32m--> 516\u001b[0m     \u001b[38;5;28;01mreturn\u001b[39;00m \u001b[43mconnection\u001b[49m\u001b[38;5;241;43m.\u001b[39;49m\u001b[43m_execute_clauseelement\u001b[49m\u001b[43m(\u001b[49m\n\u001b[1;32m    517\u001b[0m \u001b[43m        \u001b[49m\u001b[38;5;28;43mself\u001b[39;49m\u001b[43m,\u001b[49m\u001b[43m \u001b[49m\u001b[43mdistilled_params\u001b[49m\u001b[43m,\u001b[49m\u001b[43m \u001b[49m\u001b[43mexecution_options\u001b[49m\n\u001b[1;32m    518\u001b[0m \u001b[43m    \u001b[49m\u001b[43m)\u001b[49m\n\u001b[1;32m    519\u001b[0m \u001b[38;5;28;01melse\u001b[39;00m:\n",
      "File \u001b[0;32m/usr/local/lib/python3.10/site-packages/sqlalchemy/engine/base.py:1638\u001b[0m, in \u001b[0;36mConnection._execute_clauseelement\u001b[0;34m(self, elem, distilled_parameters, execution_options)\u001b[0m\n\u001b[1;32m   1630\u001b[0m compiled_sql, extracted_params, cache_hit \u001b[38;5;241m=\u001b[39m elem\u001b[38;5;241m.\u001b[39m_compile_w_cache(\n\u001b[1;32m   1631\u001b[0m     dialect\u001b[38;5;241m=\u001b[39mdialect,\n\u001b[1;32m   1632\u001b[0m     compiled_cache\u001b[38;5;241m=\u001b[39mcompiled_cache,\n\u001b[0;32m   (...)\u001b[0m\n\u001b[1;32m   1636\u001b[0m     linting\u001b[38;5;241m=\u001b[39m\u001b[38;5;28mself\u001b[39m\u001b[38;5;241m.\u001b[39mdialect\u001b[38;5;241m.\u001b[39mcompiler_linting \u001b[38;5;241m|\u001b[39m compiler\u001b[38;5;241m.\u001b[39mWARN_LINTING,\n\u001b[1;32m   1637\u001b[0m )\n\u001b[0;32m-> 1638\u001b[0m ret \u001b[38;5;241m=\u001b[39m \u001b[38;5;28;43mself\u001b[39;49m\u001b[38;5;241;43m.\u001b[39;49m\u001b[43m_execute_context\u001b[49m\u001b[43m(\u001b[49m\n\u001b[1;32m   1639\u001b[0m \u001b[43m    \u001b[49m\u001b[43mdialect\u001b[49m\u001b[43m,\u001b[49m\n\u001b[1;32m   1640\u001b[0m \u001b[43m    \u001b[49m\u001b[43mdialect\u001b[49m\u001b[38;5;241;43m.\u001b[39;49m\u001b[43mexecution_ctx_cls\u001b[49m\u001b[38;5;241;43m.\u001b[39;49m\u001b[43m_init_compiled\u001b[49m\u001b[43m,\u001b[49m\n\u001b[1;32m   1641\u001b[0m \u001b[43m    \u001b[49m\u001b[43mcompiled_sql\u001b[49m\u001b[43m,\u001b[49m\n\u001b[1;32m   1642\u001b[0m \u001b[43m    \u001b[49m\u001b[43mdistilled_parameters\u001b[49m\u001b[43m,\u001b[49m\n\u001b[1;32m   1643\u001b[0m \u001b[43m    \u001b[49m\u001b[43mexecution_options\u001b[49m\u001b[43m,\u001b[49m\n\u001b[1;32m   1644\u001b[0m \u001b[43m    \u001b[49m\u001b[43mcompiled_sql\u001b[49m\u001b[43m,\u001b[49m\n\u001b[1;32m   1645\u001b[0m \u001b[43m    \u001b[49m\u001b[43mdistilled_parameters\u001b[49m\u001b[43m,\u001b[49m\n\u001b[1;32m   1646\u001b[0m \u001b[43m    \u001b[49m\u001b[43melem\u001b[49m\u001b[43m,\u001b[49m\n\u001b[1;32m   1647\u001b[0m \u001b[43m    \u001b[49m\u001b[43mextracted_params\u001b[49m\u001b[43m,\u001b[49m\n\u001b[1;32m   1648\u001b[0m \u001b[43m    \u001b[49m\u001b[43mcache_hit\u001b[49m\u001b[38;5;241;43m=\u001b[39;49m\u001b[43mcache_hit\u001b[49m\u001b[43m,\u001b[49m\n\u001b[1;32m   1649\u001b[0m \u001b[43m\u001b[49m\u001b[43m)\u001b[49m\n\u001b[1;32m   1650\u001b[0m \u001b[38;5;28;01mif\u001b[39;00m has_events:\n",
      "File \u001b[0;32m/usr/local/lib/python3.10/site-packages/sqlalchemy/engine/base.py:1843\u001b[0m, in \u001b[0;36mConnection._execute_context\u001b[0;34m(self, dialect, constructor, statement, parameters, execution_options, *args, **kw)\u001b[0m\n\u001b[1;32m   1842\u001b[0m \u001b[38;5;28;01melse\u001b[39;00m:\n\u001b[0;32m-> 1843\u001b[0m     \u001b[38;5;28;01mreturn\u001b[39;00m \u001b[38;5;28;43mself\u001b[39;49m\u001b[38;5;241;43m.\u001b[39;49m\u001b[43m_exec_single_context\u001b[49m\u001b[43m(\u001b[49m\n\u001b[1;32m   1844\u001b[0m \u001b[43m        \u001b[49m\u001b[43mdialect\u001b[49m\u001b[43m,\u001b[49m\u001b[43m \u001b[49m\u001b[43mcontext\u001b[49m\u001b[43m,\u001b[49m\u001b[43m \u001b[49m\u001b[43mstatement\u001b[49m\u001b[43m,\u001b[49m\u001b[43m \u001b[49m\u001b[43mparameters\u001b[49m\n\u001b[1;32m   1845\u001b[0m \u001b[43m    \u001b[49m\u001b[43m)\u001b[49m\n",
      "File \u001b[0;32m/usr/local/lib/python3.10/site-packages/sqlalchemy/engine/base.py:1983\u001b[0m, in \u001b[0;36mConnection._exec_single_context\u001b[0;34m(self, dialect, context, statement, parameters)\u001b[0m\n\u001b[1;32m   1982\u001b[0m \u001b[38;5;28;01mexcept\u001b[39;00m \u001b[38;5;167;01mBaseException\u001b[39;00m \u001b[38;5;28;01mas\u001b[39;00m e:\n\u001b[0;32m-> 1983\u001b[0m     \u001b[38;5;28;43mself\u001b[39;49m\u001b[38;5;241;43m.\u001b[39;49m\u001b[43m_handle_dbapi_exception\u001b[49m\u001b[43m(\u001b[49m\n\u001b[1;32m   1984\u001b[0m \u001b[43m        \u001b[49m\u001b[43me\u001b[49m\u001b[43m,\u001b[49m\u001b[43m \u001b[49m\u001b[43mstr_statement\u001b[49m\u001b[43m,\u001b[49m\u001b[43m \u001b[49m\u001b[43meffective_parameters\u001b[49m\u001b[43m,\u001b[49m\u001b[43m \u001b[49m\u001b[43mcursor\u001b[49m\u001b[43m,\u001b[49m\u001b[43m \u001b[49m\u001b[43mcontext\u001b[49m\n\u001b[1;32m   1985\u001b[0m \u001b[43m    \u001b[49m\u001b[43m)\u001b[49m\n\u001b[1;32m   1987\u001b[0m \u001b[38;5;28;01mreturn\u001b[39;00m result\n",
      "File \u001b[0;32m/usr/local/lib/python3.10/site-packages/sqlalchemy/engine/base.py:2352\u001b[0m, in \u001b[0;36mConnection._handle_dbapi_exception\u001b[0;34m(self, e, statement, parameters, cursor, context, is_sub_exec)\u001b[0m\n\u001b[1;32m   2351\u001b[0m     \u001b[38;5;28;01massert\u001b[39;00m sqlalchemy_exception \u001b[38;5;129;01mis\u001b[39;00m \u001b[38;5;129;01mnot\u001b[39;00m \u001b[38;5;28;01mNone\u001b[39;00m\n\u001b[0;32m-> 2352\u001b[0m     \u001b[38;5;28;01mraise\u001b[39;00m sqlalchemy_exception\u001b[38;5;241m.\u001b[39mwith_traceback(exc_info[\u001b[38;5;241m2\u001b[39m]) \u001b[38;5;28;01mfrom\u001b[39;00m\u001b[38;5;250m \u001b[39m\u001b[38;5;21;01me\u001b[39;00m\n\u001b[1;32m   2353\u001b[0m \u001b[38;5;28;01melse\u001b[39;00m:\n",
      "File \u001b[0;32m/usr/local/lib/python3.10/site-packages/sqlalchemy/engine/base.py:1964\u001b[0m, in \u001b[0;36mConnection._exec_single_context\u001b[0;34m(self, dialect, context, statement, parameters)\u001b[0m\n\u001b[1;32m   1963\u001b[0m     \u001b[38;5;28;01mif\u001b[39;00m \u001b[38;5;129;01mnot\u001b[39;00m evt_handled:\n\u001b[0;32m-> 1964\u001b[0m         \u001b[38;5;28;43mself\u001b[39;49m\u001b[38;5;241;43m.\u001b[39;49m\u001b[43mdialect\u001b[49m\u001b[38;5;241;43m.\u001b[39;49m\u001b[43mdo_execute\u001b[49m\u001b[43m(\u001b[49m\n\u001b[1;32m   1965\u001b[0m \u001b[43m            \u001b[49m\u001b[43mcursor\u001b[49m\u001b[43m,\u001b[49m\u001b[43m \u001b[49m\u001b[43mstr_statement\u001b[49m\u001b[43m,\u001b[49m\u001b[43m \u001b[49m\u001b[43meffective_parameters\u001b[49m\u001b[43m,\u001b[49m\u001b[43m \u001b[49m\u001b[43mcontext\u001b[49m\n\u001b[1;32m   1966\u001b[0m \u001b[43m        \u001b[49m\u001b[43m)\u001b[49m\n\u001b[1;32m   1968\u001b[0m \u001b[38;5;28;01mif\u001b[39;00m \u001b[38;5;28mself\u001b[39m\u001b[38;5;241m.\u001b[39m_has_events \u001b[38;5;129;01mor\u001b[39;00m \u001b[38;5;28mself\u001b[39m\u001b[38;5;241m.\u001b[39mengine\u001b[38;5;241m.\u001b[39m_has_events:\n",
      "File \u001b[0;32m/usr/local/lib/python3.10/site-packages/sqlalchemy/engine/default.py:942\u001b[0m, in \u001b[0;36mDefaultDialect.do_execute\u001b[0;34m(self, cursor, statement, parameters, context)\u001b[0m\n\u001b[1;32m    941\u001b[0m \u001b[38;5;28;01mdef\u001b[39;00m\u001b[38;5;250m \u001b[39m\u001b[38;5;21mdo_execute\u001b[39m(\u001b[38;5;28mself\u001b[39m, cursor, statement, parameters, context\u001b[38;5;241m=\u001b[39m\u001b[38;5;28;01mNone\u001b[39;00m):\n\u001b[0;32m--> 942\u001b[0m     \u001b[43mcursor\u001b[49m\u001b[38;5;241;43m.\u001b[39;49m\u001b[43mexecute\u001b[49m\u001b[43m(\u001b[49m\u001b[43mstatement\u001b[49m\u001b[43m,\u001b[49m\u001b[43m \u001b[49m\u001b[43mparameters\u001b[49m\u001b[43m)\u001b[49m\n",
      "\u001b[0;31mIntegrityError\u001b[0m: (sqlite3.IntegrityError) UNIQUE constraint failed: student.id\n[SQL: INSERT INTO student (id, first_name, last_name, email, lms_user_id) VALUES (?, ?, ?, ?, ?)]\n[parameters: ('test_student_1', 'Aaaa', 'Bbbb', None, None)]\n(Background on this error at: https://sqlalche.me/e/20/gkpj)",
      "\nDuring handling of the above exception, another exception occurred:\n",
      "\u001b[0;31mInvalidEntry\u001b[0m                              Traceback (most recent call last)",
      "Cell \u001b[0;32mIn[75], line 1\u001b[0m\n\u001b[0;32m----> 1\u001b[0m \u001b[43mgradebook\u001b[49m\u001b[38;5;241;43m.\u001b[39;49m\u001b[43madd_student\u001b[49m\u001b[43m(\u001b[49m\n\u001b[1;32m      2\u001b[0m \u001b[43m    \u001b[49m\u001b[38;5;124;43m\"\u001b[39;49m\u001b[38;5;124;43mtest_student_1\u001b[39;49m\u001b[38;5;124;43m\"\u001b[39;49m\u001b[43m,\u001b[49m\u001b[43m \u001b[49m\u001b[43mfirst_name\u001b[49m\u001b[38;5;241;43m=\u001b[39;49m\u001b[38;5;124;43m\"\u001b[39;49m\u001b[38;5;124;43mAaaa\u001b[39;49m\u001b[38;5;124;43m\"\u001b[39;49m\u001b[43m,\u001b[49m\u001b[43m \u001b[49m\u001b[43mlast_name\u001b[49m\u001b[38;5;241;43m=\u001b[39;49m\u001b[38;5;124;43m\"\u001b[39;49m\u001b[38;5;124;43mBbbb\u001b[39;49m\u001b[38;5;124;43m\"\u001b[39;49m\u001b[43m,\u001b[49m\n\u001b[1;32m      3\u001b[0m \u001b[43m)\u001b[49m\n",
      "File \u001b[0;32m/usr/local/lib/python3.10/site-packages/nbgrader/api.py:1427\u001b[0m, in \u001b[0;36mGradebook.add_student\u001b[0;34m(self, student_id, **kwargs)\u001b[0m\n\u001b[1;32m   1425\u001b[0m     app_log\u001b[38;5;241m.\u001b[39mexception(\u001b[38;5;124m\"\u001b[39m\u001b[38;5;124mRolling back session due to database error \u001b[39m\u001b[38;5;132;01m%s\u001b[39;00m\u001b[38;5;124m\"\u001b[39m \u001b[38;5;241m%\u001b[39m e)\n\u001b[1;32m   1426\u001b[0m     \u001b[38;5;28mself\u001b[39m\u001b[38;5;241m.\u001b[39mdb\u001b[38;5;241m.\u001b[39mrollback()\n\u001b[0;32m-> 1427\u001b[0m     \u001b[38;5;28;01mraise\u001b[39;00m InvalidEntry(\u001b[38;5;241m*\u001b[39me\u001b[38;5;241m.\u001b[39margs)\n\u001b[1;32m   1429\u001b[0m \u001b[38;5;28;01mreturn\u001b[39;00m student\n",
      "\u001b[0;31mInvalidEntry\u001b[0m: (sqlite3.IntegrityError) UNIQUE constraint failed: student.id"
     ]
    }
   ],
   "source": []
  },
  {
   "cell_type": "code",
   "execution_count": 5,
   "id": "b9caeee2-ae6d-42e6-bf9d-76fd459e16b6",
   "metadata": {},
   "outputs": [
    {
     "data": {
      "text/plain": [
       "[Student<test_student_1>]"
      ]
     },
     "execution_count": 5,
     "metadata": {},
     "output_type": "execute_result"
    }
   ],
   "source": [
    "gradebook.students"
   ]
  },
  {
   "cell_type": "code",
   "execution_count": null,
   "id": "ff48b9a8-0695-499f-8c1c-6e9eaef57bfc",
   "metadata": {},
   "outputs": [],
   "source": []
  },
  {
   "cell_type": "code",
   "execution_count": null,
   "id": "66fea32b-74ce-4e7f-867f-a80fd9cf1035",
   "metadata": {},
   "outputs": [],
   "source": []
  },
  {
   "cell_type": "code",
   "execution_count": 23,
   "id": "2ea91b8b-bc98-4583-a092-0835033c082b",
   "metadata": {},
   "outputs": [],
   "source": [
    "NBGRADER_CONFIG_PATH = \"/app/nbgrader_config.py\""
   ]
  },
  {
   "cell_type": "code",
   "execution_count": null,
   "id": "4a36d00f-edb9-40c4-aa06-c45dd1038b57",
   "metadata": {},
   "outputs": [],
   "source": [
    "NbGraderAPI."
   ]
  },
  {
   "cell_type": "code",
   "execution_count": 48,
   "id": "1b1ccd80-3451-4fc5-8eb1-7812f572b533",
   "metadata": {},
   "outputs": [],
   "source": [
    "nbg = NbGrader()\n",
    "super(JupyterApp, nbg).load_config_file(\"nbgrader_config.py\", \"/app\")"
   ]
  },
  {
   "cell_type": "code",
   "execution_count": 49,
   "id": "0bfee028-34ed-4b4a-8784-05b129c47121",
   "metadata": {},
   "outputs": [],
   "source": [
    "nbg.exchange"
   ]
  },
  {
   "cell_type": "code",
   "execution_count": null,
   "id": "bb97dd68-2e32-415e-ad7f-3f7b479e92c0",
   "metadata": {},
   "outputs": [],
   "source": [
    "JupyterApp.load_config_file("
   ]
  },
  {
   "cell_type": "code",
   "execution_count": 41,
   "id": "52ccd071-984a-4264-979b-252464f95420",
   "metadata": {},
   "outputs": [
    {
     "data": {
      "text/plain": [
       "[jupyter_core.application.JupyterApp,\n",
       " traitlets.config.application.Application,\n",
       " traitlets.config.configurable.SingletonConfigurable,\n",
       " traitlets.config.configurable.LoggingConfigurable,\n",
       " traitlets.config.configurable.Configurable,\n",
       " traitlets.traitlets.HasTraits,\n",
       " traitlets.traitlets.HasDescriptors,\n",
       " object]"
      ]
     },
     "execution_count": 41,
     "metadata": {},
     "output_type": "execute_result"
    }
   ],
   "source": [
    "JupyterApp.mro()"
   ]
  },
  {
   "cell_type": "code",
   "execution_count": 46,
   "id": "2f1f78d5-9291-4d64-bb96-35825980998d",
   "metadata": {},
   "outputs": [],
   "source": [
    "app = Application()\n",
    "app.load_config_file(\"nbgrader_config.py\", \"/app\")"
   ]
  },
  {
   "cell_type": "code",
   "execution_count": 47,
   "id": "bd600860-db4f-4bb1-8ceb-1a66bc60e3c4",
   "metadata": {},
   "outputs": [
    {
     "data": {
      "text/plain": [
       "<traitlets.config.application.Application at 0x7f1e7636d300>"
      ]
     },
     "execution_count": 47,
     "metadata": {},
     "output_type": "execute_result"
    }
   ],
   "source": [
    "app.ex"
   ]
  },
  {
   "cell_type": "code",
   "execution_count": null,
   "id": "c2c0f266-9d1a-447c-be7c-36c766ed0282",
   "metadata": {},
   "outputs": [],
   "source": [
    "super(JupyterApp, self).load_config_file(self.config_file_name, os.getcwd())"
   ]
  },
  {
   "cell_type": "code",
   "execution_count": 38,
   "id": "716bf3f1-a171-4904-8298-0741e980dfaa",
   "metadata": {},
   "outputs": [
    {
     "ename": "TypeError",
     "evalue": "NbGrader.load_config_file() takes 1 positional argument but 2 were given",
     "output_type": "error",
     "traceback": [
      "\u001b[0;31m---------------------------------------------------------------------------\u001b[0m",
      "\u001b[0;31mTypeError\u001b[0m                                 Traceback (most recent call last)",
      "Cell \u001b[0;32mIn[38], line 1\u001b[0m\n\u001b[0;32m----> 1\u001b[0m \u001b[43mnbg\u001b[49m\u001b[38;5;241;43m.\u001b[39;49m\u001b[43mload_config_file\u001b[49m\u001b[43m(\u001b[49m\u001b[38;5;124;43m\"\u001b[39;49m\u001b[38;5;124;43m/app\u001b[39;49m\u001b[38;5;124;43m\"\u001b[39;49m\u001b[43m)\u001b[49m\n",
      "\u001b[0;31mTypeError\u001b[0m: NbGrader.load_config_file() takes 1 positional argument but 2 were given"
     ]
    }
   ],
   "source": [
    "nbg.load_config_file(\"/app\")"
   ]
  },
  {
   "cell_type": "code",
   "execution_count": 37,
   "id": "cbd88961-1634-4d36-b0bc-35eed810a1b0",
   "metadata": {},
   "outputs": [
    {
     "ename": "AttributeError",
     "evalue": "'NoneType' object has no attribute 'course_id'",
     "output_type": "error",
     "traceback": [
      "\u001b[0;31m---------------------------------------------------------------------------\u001b[0m",
      "\u001b[0;31mAttributeError\u001b[0m                            Traceback (most recent call last)",
      "Cell \u001b[0;32mIn[37], line 1\u001b[0m\n\u001b[0;32m----> 1\u001b[0m \u001b[43mnbg\u001b[49m\u001b[38;5;241;43m.\u001b[39;49m\u001b[43mexchange\u001b[49m\u001b[38;5;241;43m.\u001b[39;49m\u001b[43mcourse_id\u001b[49m\n",
      "\u001b[0;31mAttributeError\u001b[0m: 'NoneType' object has no attribute 'course_id'"
     ]
    }
   ],
   "source": [
    "nbg.exchange"
   ]
  },
  {
   "cell_type": "code",
   "execution_count": 21,
   "id": "b1519f5c-353f-489d-87c4-e65fb77da08d",
   "metadata": {},
   "outputs": [],
   "source": [
    "with TemporaryFile(\"t+w\") as f:\n",
    "    f.write(\"from traitlets.config import get_config\\n\")\n",
    "    f.write(Path(NBGRADER_CONFIG_PATH).read_text())\n",
    "    f.seek(0)\n",
    "    "
   ]
  },
  {
   "cell_type": "code",
   "execution_count": 24,
   "id": "7fce4caf-f78b-405e-8859-03c97fd71365",
   "metadata": {},
   "outputs": [],
   "source": [
    "code = \"from traitlets.config import get_config\\n\" + Path(NBGRADER_CONFIG_PATH).read_text()"
   ]
  },
  {
   "cell_type": "code",
   "execution_count": 26,
   "id": "6f185b3f-c09d-4a33-bbe4-3a8b3f95e8c2",
   "metadata": {},
   "outputs": [
    {
     "ename": "SyntaxError",
     "evalue": "invalid syntax (<string>, line 1)",
     "output_type": "error",
     "traceback": [
      "Traceback \u001b[0;36m(most recent call last)\u001b[0m:\n",
      "\u001b[0m  File \u001b[1;32m/usr/local/lib/python3.10/site-packages/IPython/core/interactiveshell.py:3579\u001b[0m in \u001b[1;35mrun_code\u001b[0m\n    exec(code_obj, self.user_global_ns, self.user_ns)\u001b[0m\n",
      "\u001b[0;36m  Cell \u001b[0;32mIn[26], line 1\u001b[0;36m\n\u001b[0;31m    r = eval(Path(NBGRADER_CONFIG_PATH).read_text(), {\"get_config\": get_config})\u001b[0;36m\n",
      "\u001b[0;36m  File \u001b[0;32m<string>:1\u001b[0;36m\u001b[0m\n\u001b[0;31m    c = get_config()\u001b[0m\n\u001b[0m      ^\u001b[0m\n\u001b[0;31mSyntaxError\u001b[0m\u001b[0;31m:\u001b[0m invalid syntax\n"
     ]
    }
   ],
   "source": [
    "r = eval(Path(NBGRADER_CONFIG_PATH).read_text(), {\"get_config\": get_config})"
   ]
  },
  {
   "cell_type": "code",
   "execution_count": 28,
   "id": "fff2e4c0-4ee4-47b9-b491-175c41de5d54",
   "metadata": {},
   "outputs": [
    {
     "data": {
      "text/plain": [
       "73939"
      ]
     },
     "execution_count": 28,
     "metadata": {},
     "output_type": "execute_result"
    }
   ],
   "source": [
    "Path(\"cc.py\").write_text(code)"
   ]
  },
  {
   "cell_type": "code",
   "execution_count": 29,
   "id": "4cf46548-c544-4878-975b-b65ffed61b4e",
   "metadata": {},
   "outputs": [],
   "source": [
    "from cc import c"
   ]
  },
  {
   "cell_type": "code",
   "execution_count": 31,
   "id": "f2417e29-f032-4dc5-94b5-ff33988b46fe",
   "metadata": {},
   "outputs": [
    {
     "data": {
      "text/plain": [
       "{'IPKernelApp': {'connection_file': '/home/dev/.local/share/jupyter/runtime/kernel-003061b6-b1ee-47da-a359-28eaba618367.json'},\n",
       " 'CollectApp': {'check_owner': False},\n",
       " 'CourseDirectory': {'course_id': 'itmo_recsys_2025_spring'},\n",
       " 'ClearSolutions': {'code_stub': {'python': '# YOUR CODE HERE\\nraise NotImplementedError()'}},\n",
       " 'ExecutePreprocessor': {'timeout': 60}}"
      ]
     },
     "execution_count": 31,
     "metadata": {},
     "output_type": "execute_result"
    }
   ],
   "source": [
    "c"
   ]
  },
  {
   "cell_type": "code",
   "execution_count": 11,
   "id": "5ac530b4-434a-4b38-9d57-17e529268356",
   "metadata": {},
   "outputs": [
    {
     "ename": "ModuleNotFoundError",
     "evalue": "No module named 'IPython.config'",
     "output_type": "error",
     "traceback": [
      "\u001b[0;31m---------------------------------------------------------------------------\u001b[0m",
      "\u001b[0;31mModuleNotFoundError\u001b[0m                       Traceback (most recent call last)",
      "Cell \u001b[0;32mIn[11], line 1\u001b[0m\n\u001b[0;32m----> 1\u001b[0m \u001b[38;5;28;01mfrom\u001b[39;00m\u001b[38;5;250m \u001b[39m\u001b[38;5;21;01mIPython\u001b[39;00m\u001b[38;5;21;01m.\u001b[39;00m\u001b[38;5;21;01mconfig\u001b[39;00m\u001b[38;5;21;01m.\u001b[39;00m\u001b[38;5;21;01mloader\u001b[39;00m\u001b[38;5;250m \u001b[39m\u001b[38;5;28;01mimport\u001b[39;00m load_pyconfig_files\n\u001b[1;32m      2\u001b[0m config \u001b[38;5;241m=\u001b[39m get_ipython()\u001b[38;5;241m.\u001b[39mconfig\n",
      "\u001b[0;31mModuleNotFoundError\u001b[0m: No module named 'IPython.config'"
     ]
    }
   ],
   "source": [
    "from IPython.config.loader import load_pyconfig_files\n",
    "config = get_ipython().config"
   ]
  },
  {
   "cell_type": "code",
   "execution_count": 19,
   "id": "24e7fa80-2d97-47c4-9a8a-71efa4ee70e6",
   "metadata": {},
   "outputs": [
    {
     "ename": "ImportError",
     "evalue": "cannot import name 'IPython' from 'IPython' (/usr/local/lib/python3.10/site-packages/IPython/__init__.py)",
     "output_type": "error",
     "traceback": [
      "\u001b[0;31m---------------------------------------------------------------------------\u001b[0m",
      "\u001b[0;31mImportError\u001b[0m                               Traceback (most recent call last)",
      "Cell \u001b[0;32mIn[19], line 1\u001b[0m\n\u001b[0;32m----> 1\u001b[0m \u001b[38;5;28;01mfrom\u001b[39;00m\u001b[38;5;250m \u001b[39m\u001b[38;5;21;01mIPython\u001b[39;00m\u001b[38;5;250m \u001b[39m\u001b[38;5;28;01mimport\u001b[39;00m IPython\n",
      "\u001b[0;31mImportError\u001b[0m: cannot import name 'IPython' from 'IPython' (/usr/local/lib/python3.10/site-packages/IPython/__init__.py)"
     ]
    }
   ],
   "source": [
    "from IPython.consoleapp import "
   ]
  },
  {
   "cell_type": "code",
   "execution_count": null,
   "id": "af99e862-a8e8-43ee-bf21-86e76b9e0231",
   "metadata": {},
   "outputs": [],
   "source": []
  },
  {
   "cell_type": "code",
   "execution_count": 9,
   "id": "221a3448-2583-4990-a79b-db7495afcdf9",
   "metadata": {},
   "outputs": [],
   "source": [
    "import os"
   ]
  },
  {
   "cell_type": "code",
   "execution_count": 10,
   "id": "63c67dd2-9844-4464-a9fb-ff2e2e990993",
   "metadata": {},
   "outputs": [
    {
     "data": {
      "text/plain": [
       "environ{'PATH': '/usr/local/bin:/usr/local/sbin:/usr/local/bin:/usr/sbin:/usr/bin:/sbin:/bin',\n",
       "        'HOSTNAME': '1ac271c7f37e',\n",
       "        'TERM': 'xterm-color',\n",
       "        'LANG': 'C.UTF-8',\n",
       "        'GPG_KEY': 'A035C8C19219BA821ECEA86B64E628F8D684696D',\n",
       "        'PYTHON_VERSION': '3.10.16',\n",
       "        'PYTHON_SHA256': 'bfb249609990220491a1b92850a07135ed0831e41738cf681d63cf01b2a8fbd1',\n",
       "        'JUPYTER_CONFIG_DIR': '/app',\n",
       "        'HOME': '/home/dev',\n",
       "        'JPY_SESSION_NAME': '/app/scripts/Untitled.ipynb',\n",
       "        'JPY_PARENT_PID': '1',\n",
       "        'PYDEVD_USE_FRAME_EVAL': 'NO',\n",
       "        'CLICOLOR': '1',\n",
       "        'FORCE_COLOR': '1',\n",
       "        'CLICOLOR_FORCE': '1',\n",
       "        'PAGER': 'cat',\n",
       "        'GIT_PAGER': 'cat',\n",
       "        'MPLBACKEND': 'module://matplotlib_inline.backend_inline'}"
      ]
     },
     "execution_count": 10,
     "metadata": {},
     "output_type": "execute_result"
    }
   ],
   "source": []
  },
  {
   "cell_type": "code",
   "execution_count": 7,
   "id": "7c98347b-3b72-4089-ad84-68bb53b68841",
   "metadata": {},
   "outputs": [],
   "source": [
    "import sys\n",
    "sys.path.append(\"/app\")a"
   ]
  },
  {
   "cell_type": "code",
   "execution_count": 16,
   "id": "a7f434e0-87d0-4383-b073-8896ffc202a5",
   "metadata": {},
   "outputs": [],
   "source": [
    "import os\n",
    "import json\n",
    "from traitlets.config import Config\n",
    "from jupyter_core.paths import jupyter_config_path\n",
    "\n",
    "def load_jupyter_config():\n",
    "    \"\"\"Loads and returns the Jupyter configuration as a dictionary.\"\"\"\n",
    "    config_dirs = jupyter_config_path()  # Get all Jupyter config directories\n",
    "    config_data = {}\n",
    "\n",
    "    for config_dir in config_dirs:\n",
    "        config_file = os.path.join(config_dir, \"jupyter_notebook_config.json\")\n",
    "\n",
    "        if os.path.exists(config_file):\n",
    "            try:\n",
    "                with open(config_file, \"r\") as f:\n",
    "                    config_data.update(json.load(f))  # Merge configs if multiple files exist\n",
    "            except Exception as e:\n",
    "                print(f\"Error reading {config_file}: {e}\")\n",
    "\n",
    "    return config_data\n",
    "\n",
    "config = load_jupyter_config()\n"
   ]
  },
  {
   "cell_type": "code",
   "execution_count": 18,
   "id": "09abe5f0-5c27-4532-b74a-ae509590bcc3",
   "metadata": {},
   "outputs": [
    {
     "data": {
      "text/plain": [
       "['/app',\n",
       " '/home/dev/.local/etc/jupyter',\n",
       " '/usr/local/etc/jupyter',\n",
       " '/etc/jupyter']"
      ]
     },
     "execution_count": 18,
     "metadata": {},
     "output_type": "execute_result"
    }
   ],
   "source": [
    "jupyter_config_path()"
   ]
  },
  {
   "cell_type": "code",
   "execution_count": null,
   "id": "2b54f981-2549-42bd-93c8-d881142d304a",
   "metadata": {},
   "outputs": [],
   "source": []
  },
  {
   "cell_type": "code",
   "execution_count": 15,
   "id": "be96e62f-3001-4d1b-b4f9-bbaa4dfc43f5",
   "metadata": {},
   "outputs": [
    {
     "ename": "MultipleInstanceError",
     "evalue": "An incompatible sibling of 'JupyterApp' is already instantiated as singleton: IPKernelApp",
     "output_type": "error",
     "traceback": [
      "\u001b[0;31m---------------------------------------------------------------------------\u001b[0m",
      "\u001b[0;31mMultipleInstanceError\u001b[0m                     Traceback (most recent call last)",
      "Cell \u001b[0;32mIn[15], line 5\u001b[0m\n\u001b[1;32m      2\u001b[0m \u001b[38;5;28;01mfrom\u001b[39;00m\u001b[38;5;250m \u001b[39m\u001b[38;5;21;01mjupyter_core\u001b[39;00m\u001b[38;5;21;01m.\u001b[39;00m\u001b[38;5;21;01mapplication\u001b[39;00m\u001b[38;5;250m \u001b[39m\u001b[38;5;28;01mimport\u001b[39;00m JupyterApp\n\u001b[1;32m      4\u001b[0m \u001b[38;5;66;03m# Get current Jupyter config\u001b[39;00m\n\u001b[0;32m----> 5\u001b[0m app \u001b[38;5;241m=\u001b[39m \u001b[43mJupyterApp\u001b[49m\u001b[38;5;241;43m.\u001b[39;49m\u001b[43minstance\u001b[49m\u001b[43m(\u001b[49m\u001b[43m)\u001b[49m\n\u001b[1;32m      6\u001b[0m app\u001b[38;5;241m.\u001b[39mload_config_file()\n\u001b[1;32m      7\u001b[0m config \u001b[38;5;241m=\u001b[39m app\u001b[38;5;241m.\u001b[39mconfig\n",
      "File \u001b[0;32m/usr/local/lib/python3.10/site-packages/traitlets/config/configurable.py:592\u001b[0m, in \u001b[0;36mSingletonConfigurable.instance\u001b[0;34m(cls, *args, **kwargs)\u001b[0m\n\u001b[1;32m    590\u001b[0m     \u001b[38;5;28;01mreturn\u001b[39;00m \u001b[38;5;28mcls\u001b[39m\u001b[38;5;241m.\u001b[39m_instance\n\u001b[1;32m    591\u001b[0m \u001b[38;5;28;01melse\u001b[39;00m:\n\u001b[0;32m--> 592\u001b[0m     \u001b[38;5;28;01mraise\u001b[39;00m MultipleInstanceError(\n\u001b[1;32m    593\u001b[0m         \u001b[38;5;124mf\u001b[39m\u001b[38;5;124m\"\u001b[39m\u001b[38;5;124mAn incompatible sibling of \u001b[39m\u001b[38;5;124m'\u001b[39m\u001b[38;5;132;01m{\u001b[39;00m\u001b[38;5;28mcls\u001b[39m\u001b[38;5;241m.\u001b[39m\u001b[38;5;18m__name__\u001b[39m\u001b[38;5;132;01m}\u001b[39;00m\u001b[38;5;124m'\u001b[39m\u001b[38;5;124m is already instantiated\u001b[39m\u001b[38;5;124m\"\u001b[39m\n\u001b[1;32m    594\u001b[0m         \u001b[38;5;124mf\u001b[39m\u001b[38;5;124m\"\u001b[39m\u001b[38;5;124m as singleton: \u001b[39m\u001b[38;5;132;01m{\u001b[39;00m\u001b[38;5;28mtype\u001b[39m(\u001b[38;5;28mcls\u001b[39m\u001b[38;5;241m.\u001b[39m_instance)\u001b[38;5;241m.\u001b[39m\u001b[38;5;18m__name__\u001b[39m\u001b[38;5;132;01m}\u001b[39;00m\u001b[38;5;124m\"\u001b[39m\n\u001b[1;32m    595\u001b[0m     )\n",
      "\u001b[0;31mMultipleInstanceError\u001b[0m: An incompatible sibling of 'JupyterApp' is already instantiated as singleton: IPKernelApp"
     ]
    }
   ],
   "source": [
    "from traitlets.config import Config\n",
    "from jupyter_core.application import JupyterApp, I\n",
    "\n",
    "# Get current Jupyter config\n",
    "app = JupyterApp.instance()\n",
    "app.load_config_file()\n",
    "config = app.config"
   ]
  },
  {
   "cell_type": "code",
   "execution_count": null,
   "id": "afaec58d-609c-42c1-8ab1-f49e3f6faae3",
   "metadata": {},
   "outputs": [],
   "source": []
  },
  {
   "cell_type": "code",
   "execution_count": 8,
   "id": "2737d0f7-1358-439d-a147-85623d330e74",
   "metadata": {},
   "outputs": [
    {
     "ename": "NameError",
     "evalue": "name 'get_config' is not defined",
     "output_type": "error",
     "traceback": [
      "\u001b[0;31m---------------------------------------------------------------------------\u001b[0m",
      "\u001b[0;31mNameError\u001b[0m                                 Traceback (most recent call last)",
      "Cell \u001b[0;32mIn[8], line 1\u001b[0m\n\u001b[0;32m----> 1\u001b[0m \u001b[38;5;28;01mfrom\u001b[39;00m\u001b[38;5;250m \u001b[39m\u001b[38;5;21;01mnbgrader_config\u001b[39;00m\u001b[38;5;250m \u001b[39m\u001b[38;5;28;01mimport\u001b[39;00m c\n",
      "File \u001b[0;32m/app/nbgrader_config.py:1\u001b[0m\n\u001b[0;32m----> 1\u001b[0m c \u001b[38;5;241m=\u001b[39m \u001b[43mget_config\u001b[49m()\n\u001b[1;32m      3\u001b[0m \u001b[38;5;66;03m# c.Exchange.root = \"/exchange\"\u001b[39;00m\n\u001b[1;32m      4\u001b[0m c\u001b[38;5;241m.\u001b[39mCollectApp\u001b[38;5;241m.\u001b[39mcheck_owner \u001b[38;5;241m=\u001b[39m \u001b[38;5;28;01mFalse\u001b[39;00m\n",
      "\u001b[0;31mNameError\u001b[0m: name 'get_config' is not defined"
     ]
    }
   ],
   "source": [
    "from nbgrader_config import c"
   ]
  },
  {
   "cell_type": "code",
   "execution_count": null,
   "id": "2654dd30-b3a9-4d25-b728-61e44d0c7238",
   "metadata": {},
   "outputs": [],
   "source": [
    "EXCHANGE_PATH = \"/usr/local/share/nbgrader/exchange\"\n",
    "COUR"
   ]
  },
  {
   "cell_type": "code",
   "execution_count": 3,
   "id": "15497b77-d9b6-4c6d-9cbc-6ef62e637c37",
   "metadata": {},
   "outputs": [
    {
     "name": "stdout",
     "output_type": "stream",
     "text": [
      "itmo_recsys_2025_spring\n"
     ]
    }
   ],
   "source": [
    "!ls "
   ]
  },
  {
   "cell_type": "code",
   "execution_count": null,
   "id": "eac44207-a09b-4c22-90cb-f8b393a2efba",
   "metadata": {},
   "outputs": [],
   "source": [
    "STUDENTS_PATH = \"/exchange/"
   ]
  }
 ],
 "metadata": {
  "kernelspec": {
   "display_name": "Python 3 (ipykernel)",
   "language": "python",
   "name": "python3"
  },
  "language_info": {
   "codemirror_mode": {
    "name": "ipython",
    "version": 3
   },
   "file_extension": ".py",
   "mimetype": "text/x-python",
   "name": "python",
   "nbconvert_exporter": "python",
   "pygments_lexer": "ipython3",
   "version": "3.10.16"
  }
 },
 "nbformat": 4,
 "nbformat_minor": 5
}
