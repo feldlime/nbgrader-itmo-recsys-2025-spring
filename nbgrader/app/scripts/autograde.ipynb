{
 "cells": [
  {
   "cell_type": "code",
   "execution_count": 1,
   "id": "deeb7ff7-7cdd-49f2-83bc-23a8badee377",
   "metadata": {},
   "outputs": [],
   "source": [
    "import pandas as pd\n",
    "from pathlib import Path\n",
    "from nbgrader.api import Gradebook"
   ]
  },
  {
   "cell_type": "code",
   "execution_count": 2,
   "id": "8794f96a-fd29-4010-b62f-6b357bfb52f3",
   "metadata": {},
   "outputs": [],
   "source": [
    "COURSE_ID = \"itmo_recsys_2025_spring\"\n",
    "DB_URL = \"sqlite:////app/gradebook.db\""
   ]
  },
  {
   "cell_type": "code",
   "execution_count": 3,
   "id": "543187cc-040c-4547-806f-0028b03636ea",
   "metadata": {},
   "outputs": [],
   "source": [
    "gradebook = Gradebook(db_url=DB_URL, course_id=COURSE_ID)"
   ]
  },
  {
   "cell_type": "code",
   "execution_count": 9,
   "id": "62709603-aaaf-47ab-898d-50a494850aad",
   "metadata": {},
   "outputs": [
    {
     "data": {
      "text/plain": [
       "SubmittedAssignment<hw_2 for nbelyaev1>"
      ]
     },
     "execution_count": 9,
     "metadata": {},
     "output_type": "execute_result"
    }
   ],
   "source": [
    "gradebook.find_submission(\"hw_2\", \"nbelyaev1\")"
   ]
  },
  {
   "cell_type": "raw",
   "id": "74ac92eb-a198-4896-a213-0468a82805d0",
   "metadata": {},
   "source": [
    "gradebook.find_submission(\"hw_2\", \"n0tmyself\")"
   ]
  },
  {
   "cell_type": "code",
   "execution_count": null,
   "id": "f61cedab-a552-4fc0-b0d1-a93d01b3ec01",
   "metadata": {},
   "outputs": [],
   "source": [
    "gradebook."
   ]
  },
  {
   "cell_type": "code",
   "execution_count": 5,
   "id": "f6e53c3d-d931-47c2-b756-56c6fefd0c60",
   "metadata": {},
   "outputs": [],
   "source": [
    "ass_hw2 = gradebook.assignments[0]"
   ]
  },
  {
   "cell_type": "code",
   "execution_count": 8,
   "id": "1b344c28-c44d-4413-80e1-d32e60baf1ea",
   "metadata": {},
   "outputs": [
    {
     "data": {
      "text/plain": [
       "Assignment<hw_2>"
      ]
     },
     "execution_count": 8,
     "metadata": {},
     "output_type": "execute_result"
    }
   ],
   "source": [
    "ass_hw2"
   ]
  },
  {
   "cell_type": "code",
   "execution_count": 7,
   "id": "8706eca2-a112-4913-909c-dd1979c09a8e",
   "metadata": {},
   "outputs": [
    {
     "data": {
      "text/plain": [
       "[Notebook<hw_2/metrics>]"
      ]
     },
     "execution_count": 7,
     "metadata": {},
     "output_type": "execute_result"
    }
   ],
   "source": [
    "ass_hw2.notebooks"
   ]
  },
  {
   "cell_type": "code",
   "execution_count": null,
   "id": "49b49b37-eaba-47a0-a52b-8f8c603d255f",
   "metadata": {},
   "outputs": [],
   "source": []
  }
 ],
 "metadata": {
  "kernelspec": {
   "display_name": "Python 3 (ipykernel)",
   "language": "python",
   "name": "python3"
  },
  "language_info": {
   "codemirror_mode": {
    "name": "ipython",
    "version": 3
   },
   "file_extension": ".py",
   "mimetype": "text/x-python",
   "name": "python",
   "nbconvert_exporter": "python",
   "pygments_lexer": "ipython3",
   "version": "3.10.16"
  }
 },
 "nbformat": 4,
 "nbformat_minor": 5
}
