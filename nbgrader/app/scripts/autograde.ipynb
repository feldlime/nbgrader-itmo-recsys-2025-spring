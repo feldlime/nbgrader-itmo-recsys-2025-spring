{
 "cells": [
  {
   "cell_type": "code",
   "execution_count": 1,
   "id": "b894ef9f-9fd6-49d7-91d1-81f931b2588c",
   "metadata": {},
   "outputs": [],
   "source": [
    "import os\n",
    "os.chdir(\"/app\")"
   ]
  },
  {
   "cell_type": "code",
   "execution_count": 2,
   "id": "deeb7ff7-7cdd-49f2-83bc-23a8badee377",
   "metadata": {},
   "outputs": [],
   "source": [
    "import pandas as pd\n",
    "from pathlib import Path\n",
    "from nbgrader.api import Gradebook\n",
    "from nbgrader.apps import NbGraderAPI\n",
    "from traitlets.config import Config\n",
    "from tqdm.auto import tqdm"
   ]
  },
  {
   "cell_type": "code",
   "execution_count": 3,
   "id": "8794f96a-fd29-4010-b62f-6b357bfb52f3",
   "metadata": {},
   "outputs": [],
   "source": [
    "COURSE_ID = \"itmo_recsys_2025_spring\""
   ]
  },
  {
   "cell_type": "code",
   "execution_count": 4,
   "id": "04cdf328-231c-4da0-9e39-32aaec5fb254",
   "metadata": {},
   "outputs": [],
   "source": [
    "config = Config()\n",
    "config.CourseDirectory.course_id = COURSE_ID"
   ]
  },
  {
   "cell_type": "code",
   "execution_count": 5,
   "id": "04a974e9-85fd-4dab-a130-6368f116eae9",
   "metadata": {},
   "outputs": [],
   "source": [
    "nbg = NbGraderAPI(config=config)"
   ]
  },
  {
   "cell_type": "code",
   "execution_count": null,
   "id": "00c91a51-9563-4f02-b264-79341dc9dcfa",
   "metadata": {},
   "outputs": [],
   "source": []
  },
  {
   "cell_type": "code",
   "execution_count": 6,
   "id": "8a4b91d2-2952-452b-a210-043613e3646a",
   "metadata": {},
   "outputs": [],
   "source": [
    "ASSIGNMENT = \"hw_2\""
   ]
  },
  {
   "cell_type": "code",
   "execution_count": null,
   "id": "41243775-33e2-4133-8ceb-f01470603e59",
   "metadata": {},
   "outputs": [],
   "source": []
  },
  {
   "cell_type": "code",
   "execution_count": 7,
   "id": "809b4bee-25bf-4492-9570-51d490c6fd1f",
   "metadata": {},
   "outputs": [
    {
     "data": {
      "text/plain": [
       "47"
      ]
     },
     "execution_count": 7,
     "metadata": {},
     "output_type": "execute_result"
    }
   ],
   "source": [
    "students = nbg.get_students()\n",
    "student_ids = [student[\"id\"] for student in students]\n",
    "len(student_ids)"
   ]
  },
  {
   "cell_type": "code",
   "execution_count": 8,
   "id": "2a544536-f34b-4120-85cf-d416916f603d",
   "metadata": {},
   "outputs": [
    {
     "data": {
      "text/plain": [
       "(set, 39)"
      ]
     },
     "execution_count": 8,
     "metadata": {},
     "output_type": "execute_result"
    }
   ],
   "source": [
    "autograded_student_ids = nbg.get_autograded_students(ASSIGNMENT)\n",
    "type(autograded_student_ids), len(autograded_student_ids)"
   ]
  },
  {
   "cell_type": "code",
   "execution_count": 10,
   "id": "883d14e9-2724-43f2-9678-273a5e12d914",
   "metadata": {},
   "outputs": [
    {
     "data": {
      "text/plain": [
       "8"
      ]
     },
     "execution_count": 10,
     "metadata": {},
     "output_type": "execute_result"
    }
   ],
   "source": [
    "not_autograded_student_ids = [s_id for s_id in student_ids if s_id not in autograded_student_ids]\n",
    "len(not_autograded_student_ids)"
   ]
  },
  {
   "cell_type": "code",
   "execution_count": 11,
   "id": "3b2a846d-7e4e-4287-9906-2ec19250f13a",
   "metadata": {},
   "outputs": [
    {
     "data": {
      "text/plain": [
       "['koshkidadanet',\n",
       " 'Kraagger-del',\n",
       " 'limmark21',\n",
       " '1MaxOn1',\n",
       " 'savoskinsemyonq',\n",
       " 'stasstaf',\n",
       " 'dimajyg',\n",
       " 'nonodoubt']"
      ]
     },
     "execution_count": 11,
     "metadata": {},
     "output_type": "execute_result"
    }
   ],
   "source": [
    "not_autograded_student_ids"
   ]
  },
  {
   "cell_type": "code",
   "execution_count": 12,
   "id": "19929a9e-b823-4056-9685-3a62f3abe516",
   "metadata": {},
   "outputs": [
    {
     "data": {
      "text/plain": [
       "{'success': False,\n",
       " 'error': 'Traceback (most recent call last):\\n  File \"/usr/local/lib/python3.10/site-packages/nbgrader/utils.py\", line 542, in capture_log\\n    app.start()\\n  File \"/usr/local/lib/python3.10/site-packages/nbgrader/converters/base.py\", line 124, in start\\n    self.init_notebooks()\\n  File \"/usr/local/lib/python3.10/site-packages/nbgrader/converters/base.py\", line 182, in init_notebooks\\n    raise NbGraderException(msg)\\nnbgrader.converters.base.NbGraderException: No notebooks were matched by \\'/app/submitted/koshkidadanet/hw_2\\'\\n',\n",
       " 'log': \"[ERROR] No notebooks were matched by '/app/submitted/koshkidadanet/hw_2'\\n\"}"
      ]
     },
     "execution_count": 12,
     "metadata": {},
     "output_type": "execute_result"
    }
   ],
   "source": [
    "nbg.autograde(assignment_id=ASSIGNMENT, student_id=\"koshkidadanet\", force=False, create=False)"
   ]
  },
  {
   "cell_type": "code",
   "execution_count": null,
   "id": "17436695-1a9b-4e3d-98ee-1efb8ed2ecd7",
   "metadata": {},
   "outputs": [],
   "source": []
  },
  {
   "cell_type": "code",
   "execution_count": 43,
   "id": "bdcb8924-1ccf-40a1-95fd-f8706c77dfa0",
   "metadata": {},
   "outputs": [
    {
     "data": {
      "text/plain": [
       "4"
      ]
     },
     "execution_count": 43,
     "metadata": {},
     "output_type": "execute_result"
    }
   ],
   "source": [
    "not_autograded_student_ids.index(\"ONEPANTSU\")"
   ]
  },
  {
   "cell_type": "code",
   "execution_count": 44,
   "id": "51222f1a-5544-495a-a0fa-ad597e86a18a",
   "metadata": {},
   "outputs": [
    {
     "data": {
      "text/plain": [
       "{'success': True,\n",
       " 'log': '[INFO] Skipping existing assignment: /app/autograded/ONEPANTSU/hw_2\\n'}"
      ]
     },
     "execution_count": 44,
     "metadata": {},
     "output_type": "execute_result"
    }
   ],
   "source": [
    "results[4]"
   ]
  },
  {
   "cell_type": "code",
   "execution_count": 37,
   "id": "8b67ea37-e500-4ca9-8702-4da1db9622b6",
   "metadata": {},
   "outputs": [
    {
     "data": {
      "application/vnd.jupyter.widget-view+json": {
       "model_id": "ea8eb1698aec46388fcd3cef0a822fe0",
       "version_major": 2,
       "version_minor": 0
      },
      "text/plain": [
       "  0%|          | 0/42 [00:00<?, ?it/s]"
      ]
     },
     "metadata": {},
     "output_type": "display_data"
    }
   ],
   "source": [
    "results = []\n",
    "for student_id in tqdm(not_autograded_student_ids):\n",
    "    res = nbg.autograde(assignment_id=ASSIGNMENT, student_id=student_id, force=False, create=False)\n",
    "    results.append(res)"
   ]
  },
  {
   "cell_type": "code",
   "execution_count": 38,
   "id": "55e9bda5-ce9b-4bac-93ab-f3f7c8318b19",
   "metadata": {},
   "outputs": [
    {
     "name": "stdout",
     "output_type": "stream",
     "text": [
      "Total:  42\n",
      "failures:  8\n",
      "successes:  34\n",
      "graded:  0\n",
      "skipped:  34\n"
     ]
    }
   ],
   "source": [
    "successes = [res for res in results if res[\"success\"]]\n",
    "failures = [res for res in results if not res[\"success\"]]\n",
    "\n",
    "graded = [res for res in successes if \"[INFO] Autograding\" in res[\"log\"]]\n",
    "skipped = [res for res in successes if res[\"log\"].startswith(\"[INFO] Skipping\")]\n",
    "\n",
    "\n",
    "print(\"Total: \", len(results))\n",
    "print(\"failures: \", len(failures))\n",
    "print(\"successes: \", len(successes))\n",
    "print(\"graded: \", len(graded))\n",
    "print(\"skipped: \", len(skipped))"
   ]
  },
  {
   "cell_type": "code",
   "execution_count": null,
   "id": "b1dba5fe-8d51-459e-8c30-68192b298494",
   "metadata": {},
   "outputs": [],
   "source": []
  },
  {
   "cell_type": "code",
   "execution_count": 46,
   "id": "036e25be-c718-44df-91cb-0fc1a0fe74d3",
   "metadata": {},
   "outputs": [
    {
     "data": {
      "text/plain": [
       "(set, 39)"
      ]
     },
     "execution_count": 46,
     "metadata": {},
     "output_type": "execute_result"
    }
   ],
   "source": [
    "autograded_student_ids = nbg.get_autograded_students(ASSIGNMENT)\n",
    "type(autograded_student_ids), len(autograded_student_ids)"
   ]
  },
  {
   "cell_type": "code",
   "execution_count": 47,
   "id": "ed6a8861-e742-4401-a29e-cdee71954cce",
   "metadata": {},
   "outputs": [
    {
     "data": {
      "application/vnd.jupyter.widget-view+json": {
       "model_id": "7f0d8eb39daf4e5bb98a422e175cc9ed",
       "version_major": 2,
       "version_minor": 0
      },
      "text/plain": [
       "  0%|          | 0/39 [00:00<?, ?it/s]"
      ]
     },
     "metadata": {},
     "output_type": "display_data"
    }
   ],
   "source": [
    "for s_id in tqdm(autograded_student_ids):\n",
    "    nbg.generate_feedback(assignment_id=ASSIGNMENT, student_id=s_id, force=False)"
   ]
  },
  {
   "cell_type": "code",
   "execution_count": 13,
   "id": "efecc44c-5d8b-4d37-b110-8a891173294a",
   "metadata": {},
   "outputs": [],
   "source": [
    "from pathlib import Path\n",
    "import re"
   ]
  },
  {
   "cell_type": "code",
   "execution_count": 14,
   "id": "f3033c05-ca65-402b-b730-317927aedce9",
   "metadata": {},
   "outputs": [],
   "source": [
    "def get_scores():\n",
    "    scores = {}\n",
    "    for student_id in os.listdir(\"/app/feedback\"):\n",
    "        # print(student_id)\n",
    "        path = Path(\"/app/feedback\") / student_id / ASSIGNMENT / \"metrics.html\"\n",
    "        try:\n",
    "            text = path.read_text()\n",
    "        except FileNotFoundError as e:\n",
    "            print(e)\n",
    "            continue\n",
    "        \n",
    "        total_match = re.search(r\"metrics \\(Score: (\\d+\\.\\d+ / \\d+\\.\\d+)\\)\", text)\n",
    "        total_score = total_match.groups()[0]\n",
    "    \n",
    "        cell_scores = re.findall(r'<li><a href=\"#cell-\\w+?\">Test cell</a> \\(Score: (\\d+.\\d+ / \\d+.\\d+)\\)</li>', text)    \n",
    "    \n",
    "        scores[student_id] = {\"total\": total_score, \"cells\": cell_scores}\n",
    "    return scores"
   ]
  },
  {
   "cell_type": "code",
   "execution_count": 15,
   "id": "4edd139d-4185-43c0-abe8-ec7bb8e01fc6",
   "metadata": {},
   "outputs": [],
   "source": [
    "scores = get_scores()"
   ]
  },
  {
   "cell_type": "code",
   "execution_count": 16,
   "id": "06b2a941-a4a6-4265-a4fb-2fcafe970710",
   "metadata": {},
   "outputs": [
    {
     "data": {
      "text/plain": [
       "{'total': '8.0 / 15.0',\n",
       " 'cells': ['1.0 / 1.0',\n",
       "  '1.0 / 1.0',\n",
       "  '1.0 / 1.0',\n",
       "  '1.0 / 1.0',\n",
       "  '0.0 / 1.0',\n",
       "  '0.0 / 1.0',\n",
       "  '0.0 / 2.0',\n",
       "  '0.0 / 3.0',\n",
       "  '2.0 / 2.0',\n",
       "  '2.0 / 2.0']}"
      ]
     },
     "execution_count": 16,
     "metadata": {},
     "output_type": "execute_result"
    }
   ],
   "source": [
    "scores[\"stasstaf\"]"
   ]
  },
  {
   "cell_type": "code",
   "execution_count": 17,
   "id": "9a4ca596-f28b-4671-8964-5a48cf221837",
   "metadata": {},
   "outputs": [],
   "source": [
    "names = [\n",
    "    \"precision_and_recall\",  \n",
    "    \"ap_at_3_for_user_2\", \n",
    "    \"map_at_3\", \n",
    "    \"dcg_at_3_for_user_2\", \n",
    "    \"idcg_at_3_for_user_2\", \n",
    "    \"ndcg_at_3\",\n",
    "    \"weighted_recall_correct\",\n",
    "    \"weighted_recall_efficient\",\n",
    "    \"model_A\",\n",
    "    \"model_B\"\n",
    "]    "
   ]
  },
  {
   "cell_type": "code",
   "execution_count": 18,
   "id": "0fdd3f32-3b66-4d05-8fdf-cb9aecb994d8",
   "metadata": {},
   "outputs": [],
   "source": [
    "def parse_scores(scores):\n",
    "    total_scores = {}\n",
    "    students_feedback = []\n",
    "    for student_id, feedback in scores.items():\n",
    "        student_score = int(float(feedback[\"total\"].split(\" /\")[0]))\n",
    "        total_scores[student_id] = student_score\n",
    "        feedbacks = [f\"total: {feedback['total']}\"]\n",
    "        for name, result_score in zip(names, feedback[\"cells\"]):\n",
    "            feedbacks.append(f\"{name}: {result_score}\")\n",
    "        students_feedback.append({\n",
    "            \"student_id\": student_id,\n",
    "            \"feedback\": \", \".join(feedbacks),\n",
    "            \"score\": student_score\n",
    "        })\n",
    "    return total_scores, students_feedback"
   ]
  },
  {
   "cell_type": "code",
   "execution_count": 19,
   "id": "30f12fa0-25fc-4fb2-8030-7460de2d43bf",
   "metadata": {},
   "outputs": [],
   "source": [
    "total_scores, students_feedback = parse_scores(scores)"
   ]
  },
  {
   "cell_type": "code",
   "execution_count": 24,
   "id": "068e6630-b8f9-4f0e-a18a-849f66de6067",
   "metadata": {},
   "outputs": [
    {
     "data": {
      "text/plain": [
       "(8,\n",
       " [{'student_id': 'stasstaf',\n",
       "   'feedback': 'total: 8.0 / 15.0, precision_and_recall: 1.0 / 1.0, ap_at_3_for_user_2: 1.0 / 1.0, map_at_3: 1.0 / 1.0, dcg_at_3_for_user_2: 1.0 / 1.0, idcg_at_3_for_user_2: 0.0 / 1.0, ndcg_at_3: 0.0 / 1.0, weighted_recall_correct: 0.0 / 2.0, weighted_recall_efficient: 0.0 / 3.0, model_A: 2.0 / 2.0, model_B: 2.0 / 2.0',\n",
       "   'score': 8}])"
      ]
     },
     "execution_count": 24,
     "metadata": {},
     "output_type": "execute_result"
    }
   ],
   "source": [
    "total_scores[\"stasstaf\"], [sf for sf in students_feedback if sf[\"student_id\"] == \"stasstaf\"]"
   ]
  },
  {
   "cell_type": "code",
   "execution_count": 102,
   "id": "f747a7d8-4687-4004-9a47-598a7353f121",
   "metadata": {},
   "outputs": [],
   "source": [
    "manual_feedback = [\n",
    "    {\"student_id\": \"ONEPANTSU\",\n",
    "     \"feedback\": \"Invalid notebook error: https://github.com/ONEPANTSU/recommendation-service/blob/hw_2/notebooks/hw_2/metrics.ipynb\",\n",
    "     \"score\": 0,},\n",
    "    {\"student_id\": \"savoskinsemyonq\",\n",
    "     \"feedback\": \"404 error: https://github.com/savoskinsemyonq/RecSys_ITMO/blob/hw_2/notebooks/hw_2/metrics.ipynb\",\n",
    "     \"score\": 0,\n",
    "    },\n",
    "]"
   ]
  },
  {
   "cell_type": "code",
   "execution_count": 103,
   "id": "c6bdb59d-6145-43b2-9ecd-6fafba304e44",
   "metadata": {},
   "outputs": [],
   "source": [
    "import pandas as pd\n",
    "df = pd.DataFrame(students_feedback+manual_feedback)\n",
    "df.to_csv(\"hw2_feedback.csv\", index=False)"
   ]
  },
  {
   "cell_type": "code",
   "execution_count": 104,
   "id": "279f0fd5-ff2e-40db-b10a-25514bff34f7",
   "metadata": {},
   "outputs": [
    {
     "data": {
      "text/html": [
       "<div>\n",
       "<style scoped>\n",
       "    .dataframe tbody tr th:only-of-type {\n",
       "        vertical-align: middle;\n",
       "    }\n",
       "\n",
       "    .dataframe tbody tr th {\n",
       "        vertical-align: top;\n",
       "    }\n",
       "\n",
       "    .dataframe thead th {\n",
       "        text-align: right;\n",
       "    }\n",
       "</style>\n",
       "<table border=\"1\" class=\"dataframe\">\n",
       "  <thead>\n",
       "    <tr style=\"text-align: right;\">\n",
       "      <th></th>\n",
       "      <th>student_id</th>\n",
       "      <th>feedback</th>\n",
       "      <th>score</th>\n",
       "    </tr>\n",
       "  </thead>\n",
       "  <tbody>\n",
       "    <tr>\n",
       "      <th>0</th>\n",
       "      <td>ElenaSuhova</td>\n",
       "      <td>total: 15.0 / 15.0, precision_and_recall: 1.0 ...</td>\n",
       "      <td>15</td>\n",
       "    </tr>\n",
       "    <tr>\n",
       "      <th>1</th>\n",
       "      <td>nbusko</td>\n",
       "      <td>total: 8.0 / 15.0, precision_and_recall: 1.0 /...</td>\n",
       "      <td>8</td>\n",
       "    </tr>\n",
       "    <tr>\n",
       "      <th>2</th>\n",
       "      <td>Darinochka</td>\n",
       "      <td>total: 15.0 / 15.0, precision_and_recall: 1.0 ...</td>\n",
       "      <td>15</td>\n",
       "    </tr>\n",
       "    <tr>\n",
       "      <th>3</th>\n",
       "      <td>7Askar7</td>\n",
       "      <td>total: 15.0 / 15.0, precision_and_recall: 1.0 ...</td>\n",
       "      <td>15</td>\n",
       "    </tr>\n",
       "    <tr>\n",
       "      <th>4</th>\n",
       "      <td>NuatStanskiy</td>\n",
       "      <td>total: 8.0 / 15.0, precision_and_recall: 1.0 /...</td>\n",
       "      <td>8</td>\n",
       "    </tr>\n",
       "  </tbody>\n",
       "</table>\n",
       "</div>"
      ],
      "text/plain": [
       "     student_id                                           feedback  score\n",
       "0   ElenaSuhova  total: 15.0 / 15.0, precision_and_recall: 1.0 ...     15\n",
       "1        nbusko  total: 8.0 / 15.0, precision_and_recall: 1.0 /...      8\n",
       "2    Darinochka  total: 15.0 / 15.0, precision_and_recall: 1.0 ...     15\n",
       "3       7Askar7  total: 15.0 / 15.0, precision_and_recall: 1.0 ...     15\n",
       "4  NuatStanskiy  total: 8.0 / 15.0, precision_and_recall: 1.0 /...      8"
      ]
     },
     "execution_count": 104,
     "metadata": {},
     "output_type": "execute_result"
    }
   ],
   "source": [
    "df.head()"
   ]
  },
  {
   "cell_type": "markdown",
   "id": "468c19fd-e436-4d26-a3ed-15902b487903",
   "metadata": {},
   "source": [
    "# Regrade (after tests update)"
   ]
  },
  {
   "cell_type": "code",
   "execution_count": 115,
   "id": "dccb1471-a74f-4b85-9c60-111de611b6c6",
   "metadata": {},
   "outputs": [],
   "source": [
    "students_to_regrade = df[df[\"score\"]<15][\"student_id\"].values\n",
    "students_to_regrade = [x for x in students_to_regrade if x not in (\"ONEPANTSU\", \"savoskinsemyonq\")]"
   ]
  },
  {
   "cell_type": "code",
   "execution_count": 116,
   "id": "bdf7ec58-d06e-4c1e-9e7b-c87cd7bd9d91",
   "metadata": {},
   "outputs": [
    {
     "data": {
      "application/vnd.jupyter.widget-view+json": {
       "model_id": "db74fdedadc84dec874afef55731536a",
       "version_major": 2,
       "version_minor": 0
      },
      "text/plain": [
       "  0%|          | 0/25 [00:00<?, ?it/s]"
      ]
     },
     "metadata": {},
     "output_type": "display_data"
    }
   ],
   "source": [
    "results = []\n",
    "for student_id in tqdm(students_to_regrade):\n",
    "    res = nbg.autograde(assignment_id=ASSIGNMENT, student_id=student_id, force=True, create=False)\n",
    "    results.append(res)"
   ]
  },
  {
   "cell_type": "code",
   "execution_count": 117,
   "id": "21833066-b575-40de-898a-9dc625d106a8",
   "metadata": {},
   "outputs": [
    {
     "name": "stdout",
     "output_type": "stream",
     "text": [
      "Total:  25\n",
      "failures:  0\n",
      "successes:  25\n",
      "graded:  25\n",
      "skipped:  0\n"
     ]
    }
   ],
   "source": [
    "successes = [res for res in results if res[\"success\"]]\n",
    "failures = [res for res in results if not res[\"success\"]]\n",
    "\n",
    "graded = [res for res in successes if \"[INFO] Autograding\" in res[\"log\"]]\n",
    "skipped = [res for res in successes if res[\"log\"].startswith(\"[INFO] Skipping\")]\n",
    "\n",
    "\n",
    "print(\"Total: \", len(results))\n",
    "print(\"failures: \", len(failures))\n",
    "print(\"successes: \", len(successes))\n",
    "print(\"graded: \", len(graded))\n",
    "print(\"skipped: \", len(skipped))"
   ]
  },
  {
   "cell_type": "code",
   "execution_count": 118,
   "id": "f88871fb-444f-4d75-a281-94f029d6a73f",
   "metadata": {},
   "outputs": [
    {
     "data": {
      "text/plain": [
       "(set, 39)"
      ]
     },
     "execution_count": 118,
     "metadata": {},
     "output_type": "execute_result"
    }
   ],
   "source": [
    "autograded_student_ids = nbg.get_autograded_students(ASSIGNMENT)\n",
    "type(autograded_student_ids), len(autograded_student_ids)"
   ]
  },
  {
   "cell_type": "code",
   "execution_count": 119,
   "id": "235efabf-6a1d-44a0-9f93-dbfca93cebaf",
   "metadata": {},
   "outputs": [
    {
     "data": {
      "application/vnd.jupyter.widget-view+json": {
       "model_id": "2ffe6fa667a54060a6c462e5e599ca59",
       "version_major": 2,
       "version_minor": 0
      },
      "text/plain": [
       "  0%|          | 0/39 [00:00<?, ?it/s]"
      ]
     },
     "metadata": {},
     "output_type": "display_data"
    }
   ],
   "source": [
    "for s_id in tqdm(autograded_student_ids):\n",
    "    nbg.generate_feedback(assignment_id=ASSIGNMENT, student_id=s_id, force=True)"
   ]
  },
  {
   "cell_type": "code",
   "execution_count": 128,
   "id": "4fccbff7-95ea-4b34-998c-ef3158b06d4f",
   "metadata": {},
   "outputs": [],
   "source": [
    "scores = get_scores()"
   ]
  },
  {
   "cell_type": "code",
   "execution_count": 126,
   "id": "2086d2dc-3d06-4585-9b11-48cf5084a079",
   "metadata": {},
   "outputs": [],
   "source": [
    "scores"
   ]
  },
  {
   "cell_type": "code",
   "execution_count": 129,
   "id": "4600dc3e-3c00-4271-972f-8d0c3cc40944",
   "metadata": {},
   "outputs": [],
   "source": [
    "total_scores, students_feedback = parse_scores(scores)"
   ]
  },
  {
   "cell_type": "code",
   "execution_count": 133,
   "id": "6a5212c4-c49b-4c46-9481-bccc75567c3b",
   "metadata": {},
   "outputs": [
    {
     "data": {
      "text/plain": [
       "{'ElenaSuhova': 15,\n",
       " 'nbusko': 13,\n",
       " 'Darinochka': 15,\n",
       " '7Askar7': 15,\n",
       " 'NuatStanskiy': 8,\n",
       " 'DmitryRedko': 15,\n",
       " 'qw1zzard': 15,\n",
       " 'EugenePWN': 13,\n",
       " 'FanisNgv': 8,\n",
       " 'n0tmyself': 10,\n",
       " 'martynov-dm': 11,\n",
       " 'popov101': 8,\n",
       " 'smalda': 15,\n",
       " 'katimanova': 13,\n",
       " 'anaaaiva': 13,\n",
       " 'khrstln': 6,\n",
       " 'timsmr': 12,\n",
       " 'wilfordaf': 11,\n",
       " 'semyondipner': 15,\n",
       " 'nsgorbunov': 15,\n",
       " 'BulatMaratovich': 9,\n",
       " 'Qeshtir': 10,\n",
       " 'Postironia1': 8,\n",
       " 'V-slav-github': 13,\n",
       " 'alexbuyan': 13,\n",
       " 'ArtemIgnatenko': 9,\n",
       " 'nbelyaev1': 15,\n",
       " 'Laitielly': 10,\n",
       " 'LeftGoga': 15,\n",
       " 'ShamilNur': 11,\n",
       " 'Mihail-Olegovich': 13,\n",
       " 'UsefulTornado': 8,\n",
       " 'Evgenii-Iurin': 8,\n",
       " 'PaulRychkov': 10,\n",
       " 'GlebIsrailevich': 15,\n",
       " 'pavelkochkin1': 11}"
      ]
     },
     "execution_count": 133,
     "metadata": {},
     "output_type": "execute_result"
    }
   ],
   "source": [
    "total_scores"
   ]
  },
  {
   "cell_type": "code",
   "execution_count": 132,
   "id": "98514d18-fe2a-4f7e-9cd0-f7ed7c3168bd",
   "metadata": {},
   "outputs": [
    {
     "data": {
      "text/plain": [
       "[{'student_id': 'ElenaSuhova',\n",
       "  'feedback': 'total: 15.0 / 15.0, precision_and_recall: 1.0 / 1.0, ap_at_3_for_user_2: 1.0 / 1.0, map_at_3: 1.0 / 1.0, dcg_at_3_for_user_2: 1.0 / 1.0, idcg_at_3_for_user_2: 1.0 / 1.0, ndcg_at_3: 1.0 / 1.0, weighted_recall_correct: 2.0 / 2.0, weighted_recall_efficient: 3.0 / 3.0, model_A: 2.0 / 2.0, model_B: 2.0 / 2.0',\n",
       "  'score': 15},\n",
       " {'student_id': 'nbusko',\n",
       "  'feedback': 'total: 13.0 / 15.0, precision_and_recall: 1.0 / 1.0, ap_at_3_for_user_2: 0.0 / 1.0, map_at_3: 0.0 / 1.0, dcg_at_3_for_user_2: 1.0 / 1.0, idcg_at_3_for_user_2: 1.0 / 1.0, ndcg_at_3: 1.0 / 1.0, weighted_recall_correct: 2.0 / 2.0, weighted_recall_efficient: 3.0 / 3.0, model_A: 2.0 / 2.0, model_B: 2.0 / 2.0',\n",
       "  'score': 13},\n",
       " {'student_id': 'Darinochka',\n",
       "  'feedback': 'total: 15.0 / 15.0, precision_and_recall: 1.0 / 1.0, ap_at_3_for_user_2: 1.0 / 1.0, map_at_3: 1.0 / 1.0, dcg_at_3_for_user_2: 1.0 / 1.0, idcg_at_3_for_user_2: 1.0 / 1.0, ndcg_at_3: 1.0 / 1.0, weighted_recall_correct: 2.0 / 2.0, weighted_recall_efficient: 3.0 / 3.0, model_A: 2.0 / 2.0, model_B: 2.0 / 2.0',\n",
       "  'score': 15},\n",
       " {'student_id': '7Askar7',\n",
       "  'feedback': 'total: 15.0 / 15.0, precision_and_recall: 1.0 / 1.0, ap_at_3_for_user_2: 1.0 / 1.0, map_at_3: 1.0 / 1.0, dcg_at_3_for_user_2: 1.0 / 1.0, idcg_at_3_for_user_2: 1.0 / 1.0, ndcg_at_3: 1.0 / 1.0, weighted_recall_correct: 2.0 / 2.0, weighted_recall_efficient: 3.0 / 3.0, model_A: 2.0 / 2.0, model_B: 2.0 / 2.0',\n",
       "  'score': 15},\n",
       " {'student_id': 'NuatStanskiy',\n",
       "  'feedback': 'total: 8.0 / 15.0, precision_and_recall: 1.0 / 1.0, ap_at_3_for_user_2: 1.0 / 1.0, map_at_3: 1.0 / 1.0, dcg_at_3_for_user_2: 1.0 / 1.0, idcg_at_3_for_user_2: 0.0 / 1.0, ndcg_at_3: 0.0 / 1.0, weighted_recall_correct: 0.0 / 2.0, weighted_recall_efficient: 0.0 / 3.0, model_A: 2.0 / 2.0, model_B: 2.0 / 2.0',\n",
       "  'score': 8},\n",
       " {'student_id': 'DmitryRedko',\n",
       "  'feedback': 'total: 15.0 / 15.0, precision_and_recall: 1.0 / 1.0, ap_at_3_for_user_2: 1.0 / 1.0, map_at_3: 1.0 / 1.0, dcg_at_3_for_user_2: 1.0 / 1.0, idcg_at_3_for_user_2: 1.0 / 1.0, ndcg_at_3: 1.0 / 1.0, weighted_recall_correct: 2.0 / 2.0, weighted_recall_efficient: 3.0 / 3.0, model_A: 2.0 / 2.0, model_B: 2.0 / 2.0',\n",
       "  'score': 15},\n",
       " {'student_id': 'qw1zzard',\n",
       "  'feedback': 'total: 15.0 / 15.0, precision_and_recall: 1.0 / 1.0, ap_at_3_for_user_2: 1.0 / 1.0, map_at_3: 1.0 / 1.0, dcg_at_3_for_user_2: 1.0 / 1.0, idcg_at_3_for_user_2: 1.0 / 1.0, ndcg_at_3: 1.0 / 1.0, weighted_recall_correct: 2.0 / 2.0, weighted_recall_efficient: 3.0 / 3.0, model_A: 2.0 / 2.0, model_B: 2.0 / 2.0',\n",
       "  'score': 15},\n",
       " {'student_id': 'EugenePWN',\n",
       "  'feedback': 'total: 13.0 / 15.0, precision_and_recall: 1.0 / 1.0, ap_at_3_for_user_2: 1.0 / 1.0, map_at_3: 1.0 / 1.0, dcg_at_3_for_user_2: 1.0 / 1.0, idcg_at_3_for_user_2: 1.0 / 1.0, ndcg_at_3: 1.0 / 1.0, weighted_recall_correct: 2.0 / 2.0, weighted_recall_efficient: 3.0 / 3.0, model_A: 2.0 / 2.0, model_B: 0.0 / 2.0',\n",
       "  'score': 13},\n",
       " {'student_id': 'FanisNgv',\n",
       "  'feedback': 'total: 8.0 / 15.0, precision_and_recall: 1.0 / 1.0, ap_at_3_for_user_2: 0.0 / 1.0, map_at_3: 0.0 / 1.0, dcg_at_3_for_user_2: 0.0 / 1.0, idcg_at_3_for_user_2: 0.0 / 1.0, ndcg_at_3: 0.0 / 1.0, weighted_recall_correct: 2.0 / 2.0, weighted_recall_efficient: 3.0 / 3.0, model_A: 0.0 / 2.0, model_B: 2.0 / 2.0',\n",
       "  'score': 8},\n",
       " {'student_id': 'n0tmyself',\n",
       "  'feedback': 'total: 10.0 / 15.0, precision_and_recall: 1.0 / 1.0, ap_at_3_for_user_2: 1.0 / 1.0, map_at_3: 1.0 / 1.0, dcg_at_3_for_user_2: 1.0 / 1.0, idcg_at_3_for_user_2: 1.0 / 1.0, ndcg_at_3: 1.0 / 1.0, weighted_recall_correct: 0.0 / 2.0, weighted_recall_efficient: 0.0 / 3.0, model_A: 2.0 / 2.0, model_B: 2.0 / 2.0',\n",
       "  'score': 10},\n",
       " {'student_id': 'martynov-dm',\n",
       "  'feedback': 'total: 11.0 / 15.0, precision_and_recall: 1.0 / 1.0, ap_at_3_for_user_2: 1.0 / 1.0, map_at_3: 1.0 / 1.0, dcg_at_3_for_user_2: 1.0 / 1.0, idcg_at_3_for_user_2: 0.0 / 1.0, ndcg_at_3: 0.0 / 1.0, weighted_recall_correct: 2.0 / 2.0, weighted_recall_efficient: 3.0 / 3.0, model_A: 0.0 / 2.0, model_B: 2.0 / 2.0',\n",
       "  'score': 11},\n",
       " {'student_id': 'popov101',\n",
       "  'feedback': 'total: 8.0 / 15.0, precision_and_recall: 1.0 / 1.0, ap_at_3_for_user_2: 1.0 / 1.0, map_at_3: 1.0 / 1.0, dcg_at_3_for_user_2: 1.0 / 1.0, idcg_at_3_for_user_2: 1.0 / 1.0, ndcg_at_3: 1.0 / 1.0, weighted_recall_correct: 2.0 / 2.0, weighted_recall_efficient: 0.0 / 3.0, model_A: 0.0 / 2.0, model_B: 0.0 / 2.0',\n",
       "  'score': 8},\n",
       " {'student_id': 'smalda',\n",
       "  'feedback': 'total: 15.0 / 15.0, precision_and_recall: 1.0 / 1.0, ap_at_3_for_user_2: 1.0 / 1.0, map_at_3: 1.0 / 1.0, dcg_at_3_for_user_2: 1.0 / 1.0, idcg_at_3_for_user_2: 1.0 / 1.0, ndcg_at_3: 1.0 / 1.0, weighted_recall_correct: 2.0 / 2.0, weighted_recall_efficient: 3.0 / 3.0, model_A: 2.0 / 2.0, model_B: 2.0 / 2.0',\n",
       "  'score': 15},\n",
       " {'student_id': 'katimanova',\n",
       "  'feedback': 'total: 13.0 / 15.0, precision_and_recall: 1.0 / 1.0, ap_at_3_for_user_2: 1.0 / 1.0, map_at_3: 1.0 / 1.0, dcg_at_3_for_user_2: 1.0 / 1.0, idcg_at_3_for_user_2: 1.0 / 1.0, ndcg_at_3: 1.0 / 1.0, weighted_recall_correct: 2.0 / 2.0, weighted_recall_efficient: 3.0 / 3.0, model_A: 0.0 / 2.0, model_B: 2.0 / 2.0',\n",
       "  'score': 13},\n",
       " {'student_id': 'anaaaiva',\n",
       "  'feedback': 'total: 13.0 / 15.0, precision_and_recall: 1.0 / 1.0, ap_at_3_for_user_2: 1.0 / 1.0, map_at_3: 1.0 / 1.0, dcg_at_3_for_user_2: 1.0 / 1.0, idcg_at_3_for_user_2: 0.0 / 1.0, ndcg_at_3: 0.0 / 1.0, weighted_recall_correct: 2.0 / 2.0, weighted_recall_efficient: 3.0 / 3.0, model_A: 2.0 / 2.0, model_B: 2.0 / 2.0',\n",
       "  'score': 13},\n",
       " {'student_id': 'khrstln',\n",
       "  'feedback': 'total: 6.0 / 15.0, precision_and_recall: 1.0 / 1.0, ap_at_3_for_user_2: 1.0 / 1.0, map_at_3: 1.0 / 1.0, dcg_at_3_for_user_2: 1.0 / 1.0, idcg_at_3_for_user_2: 1.0 / 1.0, ndcg_at_3: 1.0 / 1.0, weighted_recall_correct: 0.0 / 2.0, weighted_recall_efficient: 0.0 / 3.0, model_A: 0.0 / 2.0, model_B: 0.0 / 2.0',\n",
       "  'score': 6},\n",
       " {'student_id': 'timsmr',\n",
       "  'feedback': 'total: 12.0 / 15.0, precision_and_recall: 1.0 / 1.0, ap_at_3_for_user_2: 1.0 / 1.0, map_at_3: 1.0 / 1.0, dcg_at_3_for_user_2: 1.0 / 1.0, idcg_at_3_for_user_2: 1.0 / 1.0, ndcg_at_3: 0.0 / 1.0, weighted_recall_correct: 2.0 / 2.0, weighted_recall_efficient: 3.0 / 3.0, model_A: 0.0 / 2.0, model_B: 2.0 / 2.0',\n",
       "  'score': 12},\n",
       " {'student_id': 'wilfordaf',\n",
       "  'feedback': 'total: 11.0 / 15.0, precision_and_recall: 1.0 / 1.0, ap_at_3_for_user_2: 1.0 / 1.0, map_at_3: 1.0 / 1.0, dcg_at_3_for_user_2: 1.0 / 1.0, idcg_at_3_for_user_2: 1.0 / 1.0, ndcg_at_3: 1.0 / 1.0, weighted_recall_correct: 2.0 / 2.0, weighted_recall_efficient: 3.0 / 3.0, model_A: 0.0 / 2.0, model_B: 0.0 / 2.0',\n",
       "  'score': 11},\n",
       " {'student_id': 'semyondipner',\n",
       "  'feedback': 'total: 15.0 / 15.0, precision_and_recall: 1.0 / 1.0, ap_at_3_for_user_2: 1.0 / 1.0, map_at_3: 1.0 / 1.0, dcg_at_3_for_user_2: 1.0 / 1.0, idcg_at_3_for_user_2: 1.0 / 1.0, ndcg_at_3: 1.0 / 1.0, weighted_recall_correct: 2.0 / 2.0, weighted_recall_efficient: 3.0 / 3.0, model_A: 2.0 / 2.0, model_B: 2.0 / 2.0',\n",
       "  'score': 15},\n",
       " {'student_id': 'nsgorbunov',\n",
       "  'feedback': 'total: 15.0 / 15.0, precision_and_recall: 1.0 / 1.0, ap_at_3_for_user_2: 1.0 / 1.0, map_at_3: 1.0 / 1.0, dcg_at_3_for_user_2: 1.0 / 1.0, idcg_at_3_for_user_2: 1.0 / 1.0, ndcg_at_3: 1.0 / 1.0, weighted_recall_correct: 2.0 / 2.0, weighted_recall_efficient: 3.0 / 3.0, model_A: 2.0 / 2.0, model_B: 2.0 / 2.0',\n",
       "  'score': 15},\n",
       " {'student_id': 'BulatMaratovich',\n",
       "  'feedback': 'total: 9.0 / 15.0, precision_and_recall: 1.0 / 1.0, ap_at_3_for_user_2: 0.0 / 1.0, map_at_3: 0.0 / 1.0, dcg_at_3_for_user_2: 1.0 / 1.0, idcg_at_3_for_user_2: 1.0 / 1.0, ndcg_at_3: 1.0 / 1.0, weighted_recall_correct: 2.0 / 2.0, weighted_recall_efficient: 3.0 / 3.0, model_A: 0.0 / 2.0, model_B: 0.0 / 2.0',\n",
       "  'score': 9},\n",
       " {'student_id': 'Qeshtir',\n",
       "  'feedback': 'total: 10.0 / 15.0, precision_and_recall: 1.0 / 1.0, ap_at_3_for_user_2: 1.0 / 1.0, map_at_3: 1.0 / 1.0, dcg_at_3_for_user_2: 1.0 / 1.0, idcg_at_3_for_user_2: 1.0 / 1.0, ndcg_at_3: 1.0 / 1.0, weighted_recall_correct: 0.0 / 2.0, weighted_recall_efficient: 0.0 / 3.0, model_A: 2.0 / 2.0, model_B: 2.0 / 2.0',\n",
       "  'score': 10},\n",
       " {'student_id': 'Postironia1',\n",
       "  'feedback': 'total: 8.0 / 15.0, precision_and_recall: 0.0 / 1.0, ap_at_3_for_user_2: 1.0 / 1.0, map_at_3: 1.0 / 1.0, dcg_at_3_for_user_2: 0.0 / 1.0, idcg_at_3_for_user_2: 0.0 / 1.0, ndcg_at_3: 0.0 / 1.0, weighted_recall_correct: 2.0 / 2.0, weighted_recall_efficient: 0.0 / 3.0, model_A: 2.0 / 2.0, model_B: 2.0 / 2.0',\n",
       "  'score': 8},\n",
       " {'student_id': 'V-slav-github',\n",
       "  'feedback': 'total: 13.0 / 15.0, precision_and_recall: 1.0 / 1.0, ap_at_3_for_user_2: 1.0 / 1.0, map_at_3: 1.0 / 1.0, dcg_at_3_for_user_2: 1.0 / 1.0, idcg_at_3_for_user_2: 1.0 / 1.0, ndcg_at_3: 1.0 / 1.0, weighted_recall_correct: 2.0 / 2.0, weighted_recall_efficient: 3.0 / 3.0, model_A: 0.0 / 2.0, model_B: 2.0 / 2.0',\n",
       "  'score': 13},\n",
       " {'student_id': 'alexbuyan',\n",
       "  'feedback': 'total: 13.0 / 15.0, precision_and_recall: 1.0 / 1.0, ap_at_3_for_user_2: 1.0 / 1.0, map_at_3: 1.0 / 1.0, dcg_at_3_for_user_2: 1.0 / 1.0, idcg_at_3_for_user_2: 1.0 / 1.0, ndcg_at_3: 1.0 / 1.0, weighted_recall_correct: 2.0 / 2.0, weighted_recall_efficient: 3.0 / 3.0, model_A: 0.0 / 2.0, model_B: 2.0 / 2.0',\n",
       "  'score': 13},\n",
       " {'student_id': 'ArtemIgnatenko',\n",
       "  'feedback': 'total: 9.0 / 15.0, precision_and_recall: 1.0 / 1.0, ap_at_3_for_user_2: 0.0 / 1.0, map_at_3: 0.0 / 1.0, dcg_at_3_for_user_2: 1.0 / 1.0, idcg_at_3_for_user_2: 1.0 / 1.0, ndcg_at_3: 1.0 / 1.0, weighted_recall_correct: 2.0 / 2.0, weighted_recall_efficient: 3.0 / 3.0, model_A: 0.0 / 2.0, model_B: 0.0 / 2.0',\n",
       "  'score': 9},\n",
       " {'student_id': 'nbelyaev1',\n",
       "  'feedback': 'total: 15.0 / 15.0, precision_and_recall: 1.0 / 1.0, ap_at_3_for_user_2: 1.0 / 1.0, map_at_3: 1.0 / 1.0, dcg_at_3_for_user_2: 1.0 / 1.0, idcg_at_3_for_user_2: 1.0 / 1.0, ndcg_at_3: 1.0 / 1.0, weighted_recall_correct: 2.0 / 2.0, weighted_recall_efficient: 3.0 / 3.0, model_A: 2.0 / 2.0, model_B: 2.0 / 2.0',\n",
       "  'score': 15},\n",
       " {'student_id': 'Laitielly',\n",
       "  'feedback': 'total: 10.0 / 15.0, precision_and_recall: 1.0 / 1.0, ap_at_3_for_user_2: 1.0 / 1.0, map_at_3: 1.0 / 1.0, dcg_at_3_for_user_2: 1.0 / 1.0, idcg_at_3_for_user_2: 1.0 / 1.0, ndcg_at_3: 1.0 / 1.0, weighted_recall_correct: 0.0 / 2.0, weighted_recall_efficient: 0.0 / 3.0, model_A: 2.0 / 2.0, model_B: 2.0 / 2.0',\n",
       "  'score': 10},\n",
       " {'student_id': 'LeftGoga',\n",
       "  'feedback': 'total: 15.0 / 15.0, precision_and_recall: 1.0 / 1.0, ap_at_3_for_user_2: 1.0 / 1.0, map_at_3: 1.0 / 1.0, dcg_at_3_for_user_2: 1.0 / 1.0, idcg_at_3_for_user_2: 1.0 / 1.0, ndcg_at_3: 1.0 / 1.0, weighted_recall_correct: 2.0 / 2.0, weighted_recall_efficient: 3.0 / 3.0, model_A: 2.0 / 2.0, model_B: 2.0 / 2.0',\n",
       "  'score': 15},\n",
       " {'student_id': 'ShamilNur',\n",
       "  'feedback': 'total: 11.0 / 15.0, precision_and_recall: 1.0 / 1.0, ap_at_3_for_user_2: 0.0 / 1.0, map_at_3: 0.0 / 1.0, dcg_at_3_for_user_2: 1.0 / 1.0, idcg_at_3_for_user_2: 1.0 / 1.0, ndcg_at_3: 1.0 / 1.0, weighted_recall_correct: 2.0 / 2.0, weighted_recall_efficient: 3.0 / 3.0, model_A: 0.0 / 2.0, model_B: 2.0 / 2.0',\n",
       "  'score': 11},\n",
       " {'student_id': 'Mihail-Olegovich',\n",
       "  'feedback': 'total: 13.0 / 15.0, precision_and_recall: 1.0 / 1.0, ap_at_3_for_user_2: 1.0 / 1.0, map_at_3: 1.0 / 1.0, dcg_at_3_for_user_2: 1.0 / 1.0, idcg_at_3_for_user_2: 1.0 / 1.0, ndcg_at_3: 1.0 / 1.0, weighted_recall_correct: 2.0 / 2.0, weighted_recall_efficient: 3.0 / 3.0, model_A: 0.0 / 2.0, model_B: 2.0 / 2.0',\n",
       "  'score': 13},\n",
       " {'student_id': 'UsefulTornado',\n",
       "  'feedback': 'total: 8.0 / 15.0, precision_and_recall: 1.0 / 1.0, ap_at_3_for_user_2: 1.0 / 1.0, map_at_3: 1.0 / 1.0, dcg_at_3_for_user_2: 1.0 / 1.0, idcg_at_3_for_user_2: 1.0 / 1.0, ndcg_at_3: 1.0 / 1.0, weighted_recall_correct: 0.0 / 2.0, weighted_recall_efficient: 0.0 / 3.0, model_A: 0.0 / 2.0, model_B: 2.0 / 2.0',\n",
       "  'score': 8},\n",
       " {'student_id': 'Evgenii-Iurin',\n",
       "  'feedback': 'total: 8.0 / 15.0, precision_and_recall: 1.0 / 1.0, ap_at_3_for_user_2: 1.0 / 1.0, map_at_3: 1.0 / 1.0, dcg_at_3_for_user_2: 1.0 / 1.0, idcg_at_3_for_user_2: 1.0 / 1.0, ndcg_at_3: 1.0 / 1.0, weighted_recall_correct: 0.0 / 2.0, weighted_recall_efficient: 0.0 / 3.0, model_A: 0.0 / 2.0, model_B: 2.0 / 2.0',\n",
       "  'score': 8},\n",
       " {'student_id': 'PaulRychkov',\n",
       "  'feedback': 'total: 10.0 / 15.0, precision_and_recall: 1.0 / 1.0, ap_at_3_for_user_2: 0.0 / 1.0, map_at_3: 0.0 / 1.0, dcg_at_3_for_user_2: 0.0 / 1.0, idcg_at_3_for_user_2: 0.0 / 1.0, ndcg_at_3: 0.0 / 1.0, weighted_recall_correct: 2.0 / 2.0, weighted_recall_efficient: 3.0 / 3.0, model_A: 2.0 / 2.0, model_B: 2.0 / 2.0',\n",
       "  'score': 10},\n",
       " {'student_id': 'GlebIsrailevich',\n",
       "  'feedback': 'total: 15.0 / 15.0, precision_and_recall: 1.0 / 1.0, ap_at_3_for_user_2: 1.0 / 1.0, map_at_3: 1.0 / 1.0, dcg_at_3_for_user_2: 1.0 / 1.0, idcg_at_3_for_user_2: 1.0 / 1.0, ndcg_at_3: 1.0 / 1.0, weighted_recall_correct: 2.0 / 2.0, weighted_recall_efficient: 3.0 / 3.0, model_A: 2.0 / 2.0, model_B: 2.0 / 2.0',\n",
       "  'score': 15},\n",
       " {'student_id': 'pavelkochkin1',\n",
       "  'feedback': 'total: 11.0 / 15.0, precision_and_recall: 1.0 / 1.0, ap_at_3_for_user_2: 0.0 / 1.0, map_at_3: 0.0 / 1.0, dcg_at_3_for_user_2: 1.0 / 1.0, idcg_at_3_for_user_2: 1.0 / 1.0, ndcg_at_3: 1.0 / 1.0, weighted_recall_correct: 2.0 / 2.0, weighted_recall_efficient: 3.0 / 3.0, model_A: 0.0 / 2.0, model_B: 2.0 / 2.0',\n",
       "  'score': 11}]"
      ]
     },
     "execution_count": 132,
     "metadata": {},
     "output_type": "execute_result"
    }
   ],
   "source": [
    "students_feedback"
   ]
  },
  {
   "cell_type": "code",
   "execution_count": 130,
   "id": "82e2f772-3c9f-4f99-b80d-04f3a3d36043",
   "metadata": {},
   "outputs": [],
   "source": [
    "df = pd.DataFrame(students_feedback+manual_feedback)\n",
    "df.to_csv(\"hw2_feedback.csv\", index=False)"
   ]
  },
  {
   "cell_type": "code",
   "execution_count": 131,
   "id": "a753cc06-b80c-46ac-94b1-006ae0c8d6a0",
   "metadata": {},
   "outputs": [
    {
     "data": {
      "text/html": [
       "<div>\n",
       "<style scoped>\n",
       "    .dataframe tbody tr th:only-of-type {\n",
       "        vertical-align: middle;\n",
       "    }\n",
       "\n",
       "    .dataframe tbody tr th {\n",
       "        vertical-align: top;\n",
       "    }\n",
       "\n",
       "    .dataframe thead th {\n",
       "        text-align: right;\n",
       "    }\n",
       "</style>\n",
       "<table border=\"1\" class=\"dataframe\">\n",
       "  <thead>\n",
       "    <tr style=\"text-align: right;\">\n",
       "      <th></th>\n",
       "      <th>student_id</th>\n",
       "      <th>feedback</th>\n",
       "      <th>score</th>\n",
       "    </tr>\n",
       "  </thead>\n",
       "  <tbody>\n",
       "    <tr>\n",
       "      <th>0</th>\n",
       "      <td>ElenaSuhova</td>\n",
       "      <td>total: 15.0 / 15.0, precision_and_recall: 1.0 ...</td>\n",
       "      <td>15</td>\n",
       "    </tr>\n",
       "    <tr>\n",
       "      <th>1</th>\n",
       "      <td>nbusko</td>\n",
       "      <td>total: 13.0 / 15.0, precision_and_recall: 1.0 ...</td>\n",
       "      <td>13</td>\n",
       "    </tr>\n",
       "    <tr>\n",
       "      <th>2</th>\n",
       "      <td>Darinochka</td>\n",
       "      <td>total: 15.0 / 15.0, precision_and_recall: 1.0 ...</td>\n",
       "      <td>15</td>\n",
       "    </tr>\n",
       "    <tr>\n",
       "      <th>3</th>\n",
       "      <td>7Askar7</td>\n",
       "      <td>total: 15.0 / 15.0, precision_and_recall: 1.0 ...</td>\n",
       "      <td>15</td>\n",
       "    </tr>\n",
       "    <tr>\n",
       "      <th>4</th>\n",
       "      <td>NuatStanskiy</td>\n",
       "      <td>total: 8.0 / 15.0, precision_and_recall: 1.0 /...</td>\n",
       "      <td>8</td>\n",
       "    </tr>\n",
       "    <tr>\n",
       "      <th>5</th>\n",
       "      <td>DmitryRedko</td>\n",
       "      <td>total: 15.0 / 15.0, precision_and_recall: 1.0 ...</td>\n",
       "      <td>15</td>\n",
       "    </tr>\n",
       "    <tr>\n",
       "      <th>6</th>\n",
       "      <td>qw1zzard</td>\n",
       "      <td>total: 15.0 / 15.0, precision_and_recall: 1.0 ...</td>\n",
       "      <td>15</td>\n",
       "    </tr>\n",
       "    <tr>\n",
       "      <th>7</th>\n",
       "      <td>EugenePWN</td>\n",
       "      <td>total: 13.0 / 15.0, precision_and_recall: 1.0 ...</td>\n",
       "      <td>13</td>\n",
       "    </tr>\n",
       "    <tr>\n",
       "      <th>8</th>\n",
       "      <td>FanisNgv</td>\n",
       "      <td>total: 8.0 / 15.0, precision_and_recall: 1.0 /...</td>\n",
       "      <td>8</td>\n",
       "    </tr>\n",
       "    <tr>\n",
       "      <th>9</th>\n",
       "      <td>n0tmyself</td>\n",
       "      <td>total: 10.0 / 15.0, precision_and_recall: 1.0 ...</td>\n",
       "      <td>10</td>\n",
       "    </tr>\n",
       "    <tr>\n",
       "      <th>10</th>\n",
       "      <td>martynov-dm</td>\n",
       "      <td>total: 11.0 / 15.0, precision_and_recall: 1.0 ...</td>\n",
       "      <td>11</td>\n",
       "    </tr>\n",
       "    <tr>\n",
       "      <th>11</th>\n",
       "      <td>popov101</td>\n",
       "      <td>total: 8.0 / 15.0, precision_and_recall: 1.0 /...</td>\n",
       "      <td>8</td>\n",
       "    </tr>\n",
       "    <tr>\n",
       "      <th>12</th>\n",
       "      <td>smalda</td>\n",
       "      <td>total: 15.0 / 15.0, precision_and_recall: 1.0 ...</td>\n",
       "      <td>15</td>\n",
       "    </tr>\n",
       "    <tr>\n",
       "      <th>13</th>\n",
       "      <td>katimanova</td>\n",
       "      <td>total: 13.0 / 15.0, precision_and_recall: 1.0 ...</td>\n",
       "      <td>13</td>\n",
       "    </tr>\n",
       "    <tr>\n",
       "      <th>14</th>\n",
       "      <td>anaaaiva</td>\n",
       "      <td>total: 13.0 / 15.0, precision_and_recall: 1.0 ...</td>\n",
       "      <td>13</td>\n",
       "    </tr>\n",
       "    <tr>\n",
       "      <th>15</th>\n",
       "      <td>khrstln</td>\n",
       "      <td>total: 6.0 / 15.0, precision_and_recall: 1.0 /...</td>\n",
       "      <td>6</td>\n",
       "    </tr>\n",
       "    <tr>\n",
       "      <th>16</th>\n",
       "      <td>timsmr</td>\n",
       "      <td>total: 12.0 / 15.0, precision_and_recall: 1.0 ...</td>\n",
       "      <td>12</td>\n",
       "    </tr>\n",
       "    <tr>\n",
       "      <th>17</th>\n",
       "      <td>wilfordaf</td>\n",
       "      <td>total: 11.0 / 15.0, precision_and_recall: 1.0 ...</td>\n",
       "      <td>11</td>\n",
       "    </tr>\n",
       "    <tr>\n",
       "      <th>18</th>\n",
       "      <td>semyondipner</td>\n",
       "      <td>total: 15.0 / 15.0, precision_and_recall: 1.0 ...</td>\n",
       "      <td>15</td>\n",
       "    </tr>\n",
       "    <tr>\n",
       "      <th>19</th>\n",
       "      <td>nsgorbunov</td>\n",
       "      <td>total: 15.0 / 15.0, precision_and_recall: 1.0 ...</td>\n",
       "      <td>15</td>\n",
       "    </tr>\n",
       "    <tr>\n",
       "      <th>20</th>\n",
       "      <td>BulatMaratovich</td>\n",
       "      <td>total: 9.0 / 15.0, precision_and_recall: 1.0 /...</td>\n",
       "      <td>9</td>\n",
       "    </tr>\n",
       "    <tr>\n",
       "      <th>21</th>\n",
       "      <td>Qeshtir</td>\n",
       "      <td>total: 10.0 / 15.0, precision_and_recall: 1.0 ...</td>\n",
       "      <td>10</td>\n",
       "    </tr>\n",
       "    <tr>\n",
       "      <th>22</th>\n",
       "      <td>Postironia1</td>\n",
       "      <td>total: 8.0 / 15.0, precision_and_recall: 0.0 /...</td>\n",
       "      <td>8</td>\n",
       "    </tr>\n",
       "    <tr>\n",
       "      <th>23</th>\n",
       "      <td>V-slav-github</td>\n",
       "      <td>total: 13.0 / 15.0, precision_and_recall: 1.0 ...</td>\n",
       "      <td>13</td>\n",
       "    </tr>\n",
       "    <tr>\n",
       "      <th>24</th>\n",
       "      <td>alexbuyan</td>\n",
       "      <td>total: 13.0 / 15.0, precision_and_recall: 1.0 ...</td>\n",
       "      <td>13</td>\n",
       "    </tr>\n",
       "    <tr>\n",
       "      <th>25</th>\n",
       "      <td>ArtemIgnatenko</td>\n",
       "      <td>total: 9.0 / 15.0, precision_and_recall: 1.0 /...</td>\n",
       "      <td>9</td>\n",
       "    </tr>\n",
       "    <tr>\n",
       "      <th>26</th>\n",
       "      <td>nbelyaev1</td>\n",
       "      <td>total: 15.0 / 15.0, precision_and_recall: 1.0 ...</td>\n",
       "      <td>15</td>\n",
       "    </tr>\n",
       "    <tr>\n",
       "      <th>27</th>\n",
       "      <td>Laitielly</td>\n",
       "      <td>total: 10.0 / 15.0, precision_and_recall: 1.0 ...</td>\n",
       "      <td>10</td>\n",
       "    </tr>\n",
       "    <tr>\n",
       "      <th>28</th>\n",
       "      <td>LeftGoga</td>\n",
       "      <td>total: 15.0 / 15.0, precision_and_recall: 1.0 ...</td>\n",
       "      <td>15</td>\n",
       "    </tr>\n",
       "    <tr>\n",
       "      <th>29</th>\n",
       "      <td>ShamilNur</td>\n",
       "      <td>total: 11.0 / 15.0, precision_and_recall: 1.0 ...</td>\n",
       "      <td>11</td>\n",
       "    </tr>\n",
       "    <tr>\n",
       "      <th>30</th>\n",
       "      <td>Mihail-Olegovich</td>\n",
       "      <td>total: 13.0 / 15.0, precision_and_recall: 1.0 ...</td>\n",
       "      <td>13</td>\n",
       "    </tr>\n",
       "    <tr>\n",
       "      <th>31</th>\n",
       "      <td>UsefulTornado</td>\n",
       "      <td>total: 8.0 / 15.0, precision_and_recall: 1.0 /...</td>\n",
       "      <td>8</td>\n",
       "    </tr>\n",
       "    <tr>\n",
       "      <th>32</th>\n",
       "      <td>Evgenii-Iurin</td>\n",
       "      <td>total: 8.0 / 15.0, precision_and_recall: 1.0 /...</td>\n",
       "      <td>8</td>\n",
       "    </tr>\n",
       "    <tr>\n",
       "      <th>33</th>\n",
       "      <td>PaulRychkov</td>\n",
       "      <td>total: 10.0 / 15.0, precision_and_recall: 1.0 ...</td>\n",
       "      <td>10</td>\n",
       "    </tr>\n",
       "    <tr>\n",
       "      <th>34</th>\n",
       "      <td>GlebIsrailevich</td>\n",
       "      <td>total: 15.0 / 15.0, precision_and_recall: 1.0 ...</td>\n",
       "      <td>15</td>\n",
       "    </tr>\n",
       "    <tr>\n",
       "      <th>35</th>\n",
       "      <td>pavelkochkin1</td>\n",
       "      <td>total: 11.0 / 15.0, precision_and_recall: 1.0 ...</td>\n",
       "      <td>11</td>\n",
       "    </tr>\n",
       "    <tr>\n",
       "      <th>36</th>\n",
       "      <td>ONEPANTSU</td>\n",
       "      <td>Invalid notebook error: https://github.com/ONE...</td>\n",
       "      <td>0</td>\n",
       "    </tr>\n",
       "    <tr>\n",
       "      <th>37</th>\n",
       "      <td>savoskinsemyonq</td>\n",
       "      <td>404 error: https://github.com/savoskinsemyonq/...</td>\n",
       "      <td>0</td>\n",
       "    </tr>\n",
       "  </tbody>\n",
       "</table>\n",
       "</div>"
      ],
      "text/plain": [
       "          student_id                                           feedback  score\n",
       "0        ElenaSuhova  total: 15.0 / 15.0, precision_and_recall: 1.0 ...     15\n",
       "1             nbusko  total: 13.0 / 15.0, precision_and_recall: 1.0 ...     13\n",
       "2         Darinochka  total: 15.0 / 15.0, precision_and_recall: 1.0 ...     15\n",
       "3            7Askar7  total: 15.0 / 15.0, precision_and_recall: 1.0 ...     15\n",
       "4       NuatStanskiy  total: 8.0 / 15.0, precision_and_recall: 1.0 /...      8\n",
       "5        DmitryRedko  total: 15.0 / 15.0, precision_and_recall: 1.0 ...     15\n",
       "6           qw1zzard  total: 15.0 / 15.0, precision_and_recall: 1.0 ...     15\n",
       "7          EugenePWN  total: 13.0 / 15.0, precision_and_recall: 1.0 ...     13\n",
       "8           FanisNgv  total: 8.0 / 15.0, precision_and_recall: 1.0 /...      8\n",
       "9          n0tmyself  total: 10.0 / 15.0, precision_and_recall: 1.0 ...     10\n",
       "10       martynov-dm  total: 11.0 / 15.0, precision_and_recall: 1.0 ...     11\n",
       "11          popov101  total: 8.0 / 15.0, precision_and_recall: 1.0 /...      8\n",
       "12            smalda  total: 15.0 / 15.0, precision_and_recall: 1.0 ...     15\n",
       "13        katimanova  total: 13.0 / 15.0, precision_and_recall: 1.0 ...     13\n",
       "14          anaaaiva  total: 13.0 / 15.0, precision_and_recall: 1.0 ...     13\n",
       "15           khrstln  total: 6.0 / 15.0, precision_and_recall: 1.0 /...      6\n",
       "16            timsmr  total: 12.0 / 15.0, precision_and_recall: 1.0 ...     12\n",
       "17         wilfordaf  total: 11.0 / 15.0, precision_and_recall: 1.0 ...     11\n",
       "18      semyondipner  total: 15.0 / 15.0, precision_and_recall: 1.0 ...     15\n",
       "19        nsgorbunov  total: 15.0 / 15.0, precision_and_recall: 1.0 ...     15\n",
       "20   BulatMaratovich  total: 9.0 / 15.0, precision_and_recall: 1.0 /...      9\n",
       "21           Qeshtir  total: 10.0 / 15.0, precision_and_recall: 1.0 ...     10\n",
       "22       Postironia1  total: 8.0 / 15.0, precision_and_recall: 0.0 /...      8\n",
       "23     V-slav-github  total: 13.0 / 15.0, precision_and_recall: 1.0 ...     13\n",
       "24         alexbuyan  total: 13.0 / 15.0, precision_and_recall: 1.0 ...     13\n",
       "25    ArtemIgnatenko  total: 9.0 / 15.0, precision_and_recall: 1.0 /...      9\n",
       "26         nbelyaev1  total: 15.0 / 15.0, precision_and_recall: 1.0 ...     15\n",
       "27         Laitielly  total: 10.0 / 15.0, precision_and_recall: 1.0 ...     10\n",
       "28          LeftGoga  total: 15.0 / 15.0, precision_and_recall: 1.0 ...     15\n",
       "29         ShamilNur  total: 11.0 / 15.0, precision_and_recall: 1.0 ...     11\n",
       "30  Mihail-Olegovich  total: 13.0 / 15.0, precision_and_recall: 1.0 ...     13\n",
       "31     UsefulTornado  total: 8.0 / 15.0, precision_and_recall: 1.0 /...      8\n",
       "32     Evgenii-Iurin  total: 8.0 / 15.0, precision_and_recall: 1.0 /...      8\n",
       "33       PaulRychkov  total: 10.0 / 15.0, precision_and_recall: 1.0 ...     10\n",
       "34   GlebIsrailevich  total: 15.0 / 15.0, precision_and_recall: 1.0 ...     15\n",
       "35     pavelkochkin1  total: 11.0 / 15.0, precision_and_recall: 1.0 ...     11\n",
       "36         ONEPANTSU  Invalid notebook error: https://github.com/ONE...      0\n",
       "37   savoskinsemyonq  404 error: https://github.com/savoskinsemyonq/...      0"
      ]
     },
     "execution_count": 131,
     "metadata": {},
     "output_type": "execute_result"
    }
   ],
   "source": [
    "df"
   ]
  },
  {
   "cell_type": "code",
   "execution_count": null,
   "id": "8d26d9d4-14ef-4475-92cd-e8a75954397b",
   "metadata": {},
   "outputs": [],
   "source": []
  }
 ],
 "metadata": {
  "kernelspec": {
   "display_name": "Python 3 (ipykernel)",
   "language": "python",
   "name": "python3"
  },
  "language_info": {
   "codemirror_mode": {
    "name": "ipython",
    "version": 3
   },
   "file_extension": ".py",
   "mimetype": "text/x-python",
   "name": "python",
   "nbconvert_exporter": "python",
   "pygments_lexer": "ipython3",
   "version": "3.10.16"
  }
 },
 "nbformat": 4,
 "nbformat_minor": 5
}
