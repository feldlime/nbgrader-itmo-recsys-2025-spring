{
 "cells": [
  {
   "cell_type": "code",
   "execution_count": 1,
   "id": "b894ef9f-9fd6-49d7-91d1-81f931b2588c",
   "metadata": {},
   "outputs": [],
   "source": [
    "import os\n",
    "os.chdir(\"/app\")"
   ]
  },
  {
   "cell_type": "code",
   "execution_count": 2,
   "id": "deeb7ff7-7cdd-49f2-83bc-23a8badee377",
   "metadata": {},
   "outputs": [],
   "source": [
    "import pandas as pd\n",
    "from pathlib import Path\n",
    "from nbgrader.api import Gradebook\n",
    "from nbgrader.apps import NbGraderAPI\n",
    "from traitlets.config import Config\n",
    "from tqdm.auto import tqdm\n",
    "import re\n",
    "import os\n",
    "import time"
   ]
  },
  {
   "cell_type": "code",
   "execution_count": 3,
   "id": "8794f96a-fd29-4010-b62f-6b357bfb52f3",
   "metadata": {},
   "outputs": [],
   "source": [
    "COURSE_ID = \"itmo_recsys_2025_spring\""
   ]
  },
  {
   "cell_type": "code",
   "execution_count": 47,
   "id": "04cdf328-231c-4da0-9e39-32aaec5fb254",
   "metadata": {},
   "outputs": [],
   "source": [
    "config = Config()\n",
    "config.CourseDirectory.course_id = COURSE_ID\n",
    "# config.ExecutePreprocessor.environment = {\n",
    "#     'DATA_PATH_2': '/path/to/data'\n",
    "# }\n",
    "config.ExecutePreprocessor.timeout = 3600"
   ]
  },
  {
   "cell_type": "code",
   "execution_count": 5,
   "id": "04a974e9-85fd-4dab-a130-6368f116eae9",
   "metadata": {},
   "outputs": [],
   "source": [
    "nbg = NbGraderAPI(config=config)\n",
    "gradebook = nbg.gradebook"
   ]
  },
  {
   "cell_type": "code",
   "execution_count": null,
   "id": "00c91a51-9563-4f02-b264-79341dc9dcfa",
   "metadata": {},
   "outputs": [],
   "source": []
  },
  {
   "cell_type": "code",
   "execution_count": 6,
   "id": "8a4b91d2-2952-452b-a210-043613e3646a",
   "metadata": {},
   "outputs": [],
   "source": [
    "ASSIGNMENT = \"hw_4\"\n",
    "NOTEBOOK = \"mf\"  # without .ipynb\n",
    "MAX_SCORE = 20"
   ]
  },
  {
   "cell_type": "code",
   "execution_count": null,
   "id": "e79bc462-c38e-43a8-8e44-e3b132dbfdf0",
   "metadata": {},
   "outputs": [],
   "source": []
  },
  {
   "cell_type": "code",
   "execution_count": 7,
   "id": "fb9a0483-94ed-43d7-9f4b-0ccd61e4c76f",
   "metadata": {},
   "outputs": [],
   "source": [
    "os.environ[\"DATA_PATH\"] = \"/usr/local/share/nbgrader/exchange/data/data_original\""
   ]
  },
  {
   "cell_type": "markdown",
   "id": "3a3343eb-5685-4a35-bd7d-b6a99181501f",
   "metadata": {},
   "source": [
    "# Collect"
   ]
  },
  {
   "cell_type": "code",
   "execution_count": 9,
   "id": "c9d543fd-81e8-495a-be44-17a4682a86a9",
   "metadata": {
    "scrolled": true
   },
   "outputs": [
    {
     "data": {
      "text/plain": [
       "{'success': True,\n",
       " 'log': \"[INFO] Processing 41 submissions of 'hw_3' for course 'itmo_recsys_2025_spring'\\n[WARNING] \\n    /usr/local/share/nbgrader/exchange/itmo_recsys_2025_spring/inbound/smalda+hw_3+2025-04-03T05:42:09 UTC+00 claims to be submitted by smalda but is owned by dev; cheating attempt?\\n    you may disable this warning by unsetting the option CollectApp.check_owner\\n    \\n[INFO] Collecting submission: smalda hw_3\\n[WARNING] \\n    /usr/local/share/nbgrader/exchange/itmo_recsys_2025_spring/inbound/ElenaSuhova+hw_3+2025-04-03T05:42:43 UTC+00 claims to be submitted by ElenaSuhova but is owned by dev; cheating attempt?\\n    you may disable this warning by unsetting the option CollectApp.check_owner\\n    \\n[INFO] Collecting submission: ElenaSuhova hw_3\\n[WARNING] \\n    /usr/local/share/nbgrader/exchange/itmo_recsys_2025_spring/inbound/qw1zzard+hw_3+2025-04-03T05:42:19 UTC+00 claims to be submitted by qw1zzard but is owned by dev; cheating attempt?\\n    you may disable this warning by unsetting the option CollectApp.check_owner\\n    \\n[INFO] Collecting submission: qw1zzard hw_3\\n[WARNING] \\n    /usr/local/share/nbgrader/exchange/itmo_recsys_2025_spring/inbound/7Askar7+hw_3+2025-04-03T05:42:46 UTC+00 claims to be submitted by 7Askar7 but is owned by dev; cheating attempt?\\n    you may disable this warning by unsetting the option CollectApp.check_owner\\n    \\n[INFO] Collecting submission: 7Askar7 hw_3\\n[WARNING] \\n    /usr/local/share/nbgrader/exchange/itmo_recsys_2025_spring/inbound/LeftGoga+hw_3+2025-04-03T05:42:57 UTC+00 claims to be submitted by LeftGoga but is owned by dev; cheating attempt?\\n    you may disable this warning by unsetting the option CollectApp.check_owner\\n    \\n[INFO] Updating submission: LeftGoga hw_3\\n[WARNING] \\n    /usr/local/share/nbgrader/exchange/itmo_recsys_2025_spring/inbound/Mihail-Olegovich+hw_3+2025-04-03T05:42:54 UTC+00 claims to be submitted by Mihail-Olegovich but is owned by dev; cheating attempt?\\n    you may disable this warning by unsetting the option CollectApp.check_owner\\n    \\n[INFO] Updating submission: Mihail-Olegovich hw_3\\n[WARNING] \\n    /usr/local/share/nbgrader/exchange/itmo_recsys_2025_spring/inbound/GlebIsrailevich+hw_3+2025-04-03T05:41:59 UTC+00 claims to be submitted by GlebIsrailevich but is owned by dev; cheating attempt?\\n    you may disable this warning by unsetting the option CollectApp.check_owner\\n    \\n[INFO] Collecting submission: GlebIsrailevich hw_3\\n[WARNING] \\n    /usr/local/share/nbgrader/exchange/itmo_recsys_2025_spring/inbound/Qeshtir+hw_3+2025-04-03T05:42:29 UTC+00 claims to be submitted by Qeshtir but is owned by dev; cheating attempt?\\n    you may disable this warning by unsetting the option CollectApp.check_owner\\n    \\n[INFO] Collecting submission: Qeshtir hw_3\\n[WARNING] \\n    /usr/local/share/nbgrader/exchange/itmo_recsys_2025_spring/inbound/PaulRychkov+hw_3+2025-04-03T05:42:58 UTC+00 claims to be submitted by PaulRychkov but is owned by dev; cheating attempt?\\n    you may disable this warning by unsetting the option CollectApp.check_owner\\n    \\n[INFO] Collecting submission: PaulRychkov hw_3\\n[WARNING] \\n    /usr/local/share/nbgrader/exchange/itmo_recsys_2025_spring/inbound/Postironia1+hw_3+2025-04-03T05:42:35 UTC+00 claims to be submitted by Postironia1 but is owned by dev; cheating attempt?\\n    you may disable this warning by unsetting the option CollectApp.check_owner\\n    \\n[INFO] Collecting submission: Postironia1 hw_3\\n[WARNING] \\n    /usr/local/share/nbgrader/exchange/itmo_recsys_2025_spring/inbound/n0tmyself+hw_3+2025-04-03T05:42:48 UTC+00 claims to be submitted by n0tmyself but is owned by dev; cheating attempt?\\n    you may disable this warning by unsetting the option CollectApp.check_owner\\n    \\n[INFO] Collecting submission: n0tmyself hw_3\\n[WARNING] \\n    /usr/local/share/nbgrader/exchange/itmo_recsys_2025_spring/inbound/EugenePWN+hw_3+2025-04-03T05:42:52 UTC+00 claims to be submitted by EugenePWN but is owned by dev; cheating attempt?\\n    you may disable this warning by unsetting the option CollectApp.check_owner\\n    \\n[INFO] Collecting submission: EugenePWN hw_3\\n[WARNING] \\n    /usr/local/share/nbgrader/exchange/itmo_recsys_2025_spring/inbound/dimajyg+hw_3+2025-04-03T05:42:24 UTC+00 claims to be submitted by dimajyg but is owned by dev; cheating attempt?\\n    you may disable this warning by unsetting the option CollectApp.check_owner\\n    \\n[INFO] Collecting submission: dimajyg hw_3\\n[WARNING] \\n    /usr/local/share/nbgrader/exchange/itmo_recsys_2025_spring/inbound/nbusko+hw_3+2025-04-03T05:42:12 UTC+00 claims to be submitted by nbusko but is owned by dev; cheating attempt?\\n    you may disable this warning by unsetting the option CollectApp.check_owner\\n    \\n[INFO] Collecting submission: nbusko hw_3\\n[WARNING] \\n    /usr/local/share/nbgrader/exchange/itmo_recsys_2025_spring/inbound/FanisNgv+hw_3+2025-04-03T05:42:42 UTC+00 claims to be submitted by FanisNgv but is owned by dev; cheating attempt?\\n    you may disable this warning by unsetting the option CollectApp.check_owner\\n    \\n[INFO] Collecting submission: FanisNgv hw_3\\n[WARNING] \\n    /usr/local/share/nbgrader/exchange/itmo_recsys_2025_spring/inbound/semyondipner+hw_3+2025-04-03T05:42:39 UTC+00 claims to be submitted by semyondipner but is owned by dev; cheating attempt?\\n    you may disable this warning by unsetting the option CollectApp.check_owner\\n    \\n[INFO] Collecting submission: semyondipner hw_3\\n[WARNING] \\n    /usr/local/share/nbgrader/exchange/itmo_recsys_2025_spring/inbound/popov101+hw_3+2025-04-03T05:42:03 UTC+00 claims to be submitted by popov101 but is owned by dev; cheating attempt?\\n    you may disable this warning by unsetting the option CollectApp.check_owner\\n    \\n[INFO] Collecting submission: popov101 hw_3\\n[WARNING] \\n    /usr/local/share/nbgrader/exchange/itmo_recsys_2025_spring/inbound/katimanova+hw_3+2025-04-03T05:42:15 UTC+00 claims to be submitted by katimanova but is owned by dev; cheating attempt?\\n    you may disable this warning by unsetting the option CollectApp.check_owner\\n    \\n[INFO] Collecting submission: katimanova hw_3\\n[WARNING] \\n    /usr/local/share/nbgrader/exchange/itmo_recsys_2025_spring/inbound/ONEPANTSU+hw_3+2025-04-03T05:42:26 UTC+00 claims to be submitted by ONEPANTSU but is owned by dev; cheating attempt?\\n    you may disable this warning by unsetting the option CollectApp.check_owner\\n    \\n[INFO] Collecting submission: ONEPANTSU hw_3\\n[WARNING] \\n    /usr/local/share/nbgrader/exchange/itmo_recsys_2025_spring/inbound/V-slav-github+hw_3+2025-04-03T05:43:03 UTC+00 claims to be submitted by V-slav-github but is owned by dev; cheating attempt?\\n    you may disable this warning by unsetting the option CollectApp.check_owner\\n    \\n[INFO] Collecting submission: V-slav-github hw_3\\n[WARNING] \\n    /usr/local/share/nbgrader/exchange/itmo_recsys_2025_spring/inbound/khrstln+hw_3+2025-04-03T05:42:07 UTC+00 claims to be submitted by khrstln but is owned by dev; cheating attempt?\\n    you may disable this warning by unsetting the option CollectApp.check_owner\\n    \\n[INFO] Collecting submission: khrstln hw_3\\n[WARNING] \\n    /usr/local/share/nbgrader/exchange/itmo_recsys_2025_spring/inbound/DmitryRedko+hw_3+2025-04-03T05:42:32 UTC+00 claims to be submitted by DmitryRedko but is owned by dev; cheating attempt?\\n    you may disable this warning by unsetting the option CollectApp.check_owner\\n    \\n[INFO] Collecting submission: DmitryRedko hw_3\\n[WARNING] \\n    /usr/local/share/nbgrader/exchange/itmo_recsys_2025_spring/inbound/nonodoubt+hw_3+2025-04-03T05:43:01 UTC+00 claims to be submitted by nonodoubt but is owned by dev; cheating attempt?\\n    you may disable this warning by unsetting the option CollectApp.check_owner\\n    \\n[INFO] Collecting submission: nonodoubt hw_3\\n[WARNING] \\n    /usr/local/share/nbgrader/exchange/itmo_recsys_2025_spring/inbound/nsgorbunov+hw_3+2025-04-03T05:41:57 UTC+00 claims to be submitted by nsgorbunov but is owned by dev; cheating attempt?\\n    you may disable this warning by unsetting the option CollectApp.check_owner\\n    \\n[INFO] Collecting submission: nsgorbunov hw_3\\n[WARNING] \\n    /usr/local/share/nbgrader/exchange/itmo_recsys_2025_spring/inbound/anaaaiva+hw_3+2025-04-03T05:42:51 UTC+00 claims to be submitted by anaaaiva but is owned by dev; cheating attempt?\\n    you may disable this warning by unsetting the option CollectApp.check_owner\\n    \\n[INFO] Collecting submission: anaaaiva hw_3\\n[WARNING] \\n    /usr/local/share/nbgrader/exchange/itmo_recsys_2025_spring/inbound/ShamilNur+hw_3+2025-04-03T05:43:04 UTC+00 claims to be submitted by ShamilNur but is owned by dev; cheating attempt?\\n    you may disable this warning by unsetting the option CollectApp.check_owner\\n    \\n[INFO] Collecting submission: ShamilNur hw_3\\n[WARNING] \\n    /usr/local/share/nbgrader/exchange/itmo_recsys_2025_spring/inbound/Evgenii-Iurin+hw_3+2025-04-03T05:42:37 UTC+00 claims to be submitted by Evgenii-Iurin but is owned by dev; cheating attempt?\\n    you may disable this warning by unsetting the option CollectApp.check_owner\\n    \\n[INFO] Collecting submission: Evgenii-Iurin hw_3\\n[WARNING] \\n    /usr/local/share/nbgrader/exchange/itmo_recsys_2025_spring/inbound/BulatMaratovich+hw_3+2025-04-03T05:42:01 UTC+00 claims to be submitted by BulatMaratovich but is owned by dev; cheating attempt?\\n    you may disable this warning by unsetting the option CollectApp.check_owner\\n    \\n[INFO] Collecting submission: BulatMaratovich hw_3\\n[WARNING] \\n    /usr/local/share/nbgrader/exchange/itmo_recsys_2025_spring/inbound/ArtemIgnatenko+hw_3+2025-04-03T05:42:45 UTC+00 claims to be submitted by ArtemIgnatenko but is owned by dev; cheating attempt?\\n    you may disable this warning by unsetting the option CollectApp.check_owner\\n    \\n[INFO] Collecting submission: ArtemIgnatenko hw_3\\n[WARNING] \\n    /usr/local/share/nbgrader/exchange/itmo_recsys_2025_spring/inbound/stasstaf+hw_3+2025-04-03T05:42:06 UTC+00 claims to be submitted by stasstaf but is owned by dev; cheating attempt?\\n    you may disable this warning by unsetting the option CollectApp.check_owner\\n    \\n[INFO] Collecting submission: stasstaf hw_3\\n[WARNING] \\n    /usr/local/share/nbgrader/exchange/itmo_recsys_2025_spring/inbound/alexbuyan+hw_3+2025-04-03T05:42:49 UTC+00 claims to be submitted by alexbuyan but is owned by dev; cheating attempt?\\n    you may disable this warning by unsetting the option CollectApp.check_owner\\n    \\n[INFO] Collecting submission: alexbuyan hw_3\\n[WARNING] \\n    /usr/local/share/nbgrader/exchange/itmo_recsys_2025_spring/inbound/wilfordaf+hw_3+2025-04-03T05:42:25 UTC+00 claims to be submitted by wilfordaf but is owned by dev; cheating attempt?\\n    you may disable this warning by unsetting the option CollectApp.check_owner\\n    \\n[INFO] Collecting submission: wilfordaf hw_3\\n[WARNING] \\n    /usr/local/share/nbgrader/exchange/itmo_recsys_2025_spring/inbound/pavelkochkin1+hw_3+2025-04-03T05:42:16 UTC+00 claims to be submitted by pavelkochkin1 but is owned by dev; cheating attempt?\\n    you may disable this warning by unsetting the option CollectApp.check_owner\\n    \\n[INFO] Collecting submission: pavelkochkin1 hw_3\\n[WARNING] \\n    /usr/local/share/nbgrader/exchange/itmo_recsys_2025_spring/inbound/timsmr+hw_3+2025-04-03T05:43:00 UTC+00 claims to be submitted by timsmr but is owned by dev; cheating attempt?\\n    you may disable this warning by unsetting the option CollectApp.check_owner\\n    \\n[INFO] Collecting submission: timsmr hw_3\\n[WARNING] \\n    /usr/local/share/nbgrader/exchange/itmo_recsys_2025_spring/inbound/martynov-dm+hw_3+2025-04-03T05:42:55 UTC+00 claims to be submitted by martynov-dm but is owned by dev; cheating attempt?\\n    you may disable this warning by unsetting the option CollectApp.check_owner\\n    \\n[INFO] Collecting submission: martynov-dm hw_3\\n[WARNING] \\n    /usr/local/share/nbgrader/exchange/itmo_recsys_2025_spring/inbound/Darinochka+hw_3+2025-04-03T05:42:20 UTC+00 claims to be submitted by Darinochka but is owned by dev; cheating attempt?\\n    you may disable this warning by unsetting the option CollectApp.check_owner\\n    \\n[INFO] Collecting submission: Darinochka hw_3\\n[WARNING] \\n    /usr/local/share/nbgrader/exchange/itmo_recsys_2025_spring/inbound/savoskinsemyonq+hw_3+2025-04-03T05:42:04 UTC+00 claims to be submitted by savoskinsemyonq but is owned by dev; cheating attempt?\\n    you may disable this warning by unsetting the option CollectApp.check_owner\\n    \\n[INFO] Collecting submission: savoskinsemyonq hw_3\\n[WARNING] \\n    /usr/local/share/nbgrader/exchange/itmo_recsys_2025_spring/inbound/koshkidadanet+hw_3+2025-04-03T05:42:10 UTC+00 claims to be submitted by koshkidadanet but is owned by dev; cheating attempt?\\n    you may disable this warning by unsetting the option CollectApp.check_owner\\n    \\n[INFO] Collecting submission: koshkidadanet hw_3\\n[WARNING] \\n    /usr/local/share/nbgrader/exchange/itmo_recsys_2025_spring/inbound/UsefulTornado+hw_3+2025-04-03T05:42:13 UTC+00 claims to be submitted by UsefulTornado but is owned by dev; cheating attempt?\\n    you may disable this warning by unsetting the option CollectApp.check_owner\\n    \\n[INFO] Collecting submission: UsefulTornado hw_3\\n[WARNING] \\n    /usr/local/share/nbgrader/exchange/itmo_recsys_2025_spring/inbound/Laitielly+hw_3+2025-04-03T05:42:34 UTC+00 claims to be submitted by Laitielly but is owned by dev; cheating attempt?\\n    you may disable this warning by unsetting the option CollectApp.check_owner\\n    \\n[INFO] Collecting submission: Laitielly hw_3\\n[WARNING] \\n    /usr/local/share/nbgrader/exchange/itmo_recsys_2025_spring/inbound/NuatStanskiy+hw_3+2025-04-03T05:42:22 UTC+00 claims to be submitted by NuatStanskiy but is owned by dev; cheating attempt?\\n    you may disable this warning by unsetting the option CollectApp.check_owner\\n    \\n[INFO] Collecting submission: NuatStanskiy hw_3\\n\"}"
      ]
     },
     "execution_count": 9,
     "metadata": {},
     "output_type": "execute_result"
    }
   ],
   "source": [
    "nbg.collect(ASSIGNMENT, update=False)"
   ]
  },
  {
   "cell_type": "markdown",
   "id": "83a5544e-9e48-49e9-88d2-b9428bfe2016",
   "metadata": {},
   "source": [
    "# Autograde"
   ]
  },
  {
   "cell_type": "code",
   "execution_count": 43,
   "id": "180ff72d-d2dc-4750-9d49-5adccd55a3b7",
   "metadata": {},
   "outputs": [
    {
     "data": {
      "text/plain": [
       "6"
      ]
     },
     "execution_count": 43,
     "metadata": {},
     "output_type": "execute_result"
    }
   ],
   "source": [
    "autograded_student_ids = nbg.get_autograded_students(ASSIGNMENT)\n",
    "scores = {\n",
    "    s_id: gradebook.find_submission_notebook(NOTEBOOK, ASSIGNMENT, s_id).score\n",
    "    for s_id in autograded_student_ids\n",
    "}\n",
    "len({s_id: score for s_id, score in scores.items() if score < MAX_SCORE})"
   ]
  },
  {
   "cell_type": "code",
   "execution_count": 44,
   "id": "64e5ae30-23f4-4f62-95d2-511207c098a0",
   "metadata": {
    "scrolled": true
   },
   "outputs": [
    {
     "name": "stdout",
     "output_type": "stream",
     "text": [
      "timsmr: 0.0\n",
      "  - NameError\n",
      "    - NameError\\u001b[0m: name 'interactions' is not defined\n",
      "    - NameError\\u001b[0m: name 'train' is not defined\n",
      "    - NameError\\u001b[0m: name 'config' is not defined\n",
      "    - NameError\\u001b[0m: name 'train' is not defined\n",
      "    - NameError\\u001b[0m: name 'dataset2' is not defined\n",
      "    - NameError\\u001b[0m: name 'users' is not defined\n",
      "    - NameError\\u001b[0m: name 'items' is not defined\n",
      "    - NameError\\u001b[0m: name 'items' is not defined\n",
      "    - NameError\\u001b[0m: name 'genre_feature' is not defined\n",
      "    - NameError\\u001b[0m: name 'train' is not defined\n",
      "    - NameError\\u001b[0m: name 'dataset_with_features' is not defined\n",
      "    - NameError\\u001b[0m: name 'dataset_with_features' is not defined\n",
      "    - NameError\\u001b[0m: name 'dataset_with_features' is not defined\n",
      "==================================================\n",
      "\n",
      "anaaaiva: 0.0\n",
      "  - Module not found\n",
      "    - ModuleNotFoundError\\u001b[0m: No module named 'lightfm'\"\n",
      "==================================================\n",
      "\n",
      "Postironia1: 0.0\n",
      "  - Module not found\n",
      "    - ModuleNotFoundError\\u001b[0m: No module named 'lightfm'\"\n",
      "==================================================\n",
      "\n",
      "katimanova: 0.0\n",
      "  - Module not found\n",
      "    - ModuleNotFoundError\\u001b[0m: No module named 'lightfm'\"\n",
      "==================================================\n",
      "\n",
      "qw1zzard: 0.0\n",
      "  - Module not found\n",
      "    - ModuleNotFoundError\\u001b[0m: No module named 'lightfm'\"\n",
      "==================================================\n",
      "\n",
      "ONEPANTSU: 0.0\n",
      "  - Module not found\n",
      "    - ModuleNotFoundError\\u001b[0m: No module named 'lightfm'\"\n",
      "==================================================\n",
      "\n"
     ]
    }
   ],
   "source": [
    "for student_id, score in scores.items():\n",
    "    if score == MAX_SCORE:\n",
    "        continue\n",
    "    print(f\"{student_id}: {score}\")\n",
    "    \n",
    "    nb_path = Path(\"autograded\") / student_id / ASSIGNMENT / f\"{NOTEBOOK}.ipynb\"\n",
    "    nb_text = nb_path.read_text()\n",
    "\n",
    "    if \"CellTimeoutError\" in nb_text:\n",
    "        print(\"- CellTimeoutError\")\n",
    "        \n",
    "        \n",
    "    elif \"ModuleNotFound\" in nb_text:\n",
    "        print(\"  - Module not found\")\n",
    "        for match in re.findall(r\"ModuleNotFound.*No module named.+\", nb_text):\n",
    "            print(f\"    - {match}\")\n",
    "\n",
    "    elif \"NameError\" in nb_text:\n",
    "        print(\"  - NameError\")\n",
    "        for match in re.findall(r\"NameError.+not defined\", nb_text):\n",
    "            print(f\"    - {match}\")\n",
    "\n",
    "    print(\"=\" * 50)\n",
    "    print()"
   ]
  },
  {
   "cell_type": "code",
   "execution_count": 100,
   "id": "b410e041-157e-46df-9eb8-e8db7b69a517",
   "metadata": {},
   "outputs": [],
   "source": [
    "student_ids_requested_to_grade = [\n",
    "    \"anaaaiva\",\n",
    "]\n",
    "# student_ids_requested_to_grade = None"
   ]
  },
  {
   "cell_type": "raw",
   "id": "f1303259-00b3-4805-8144-f398a4a49f56",
   "metadata": {},
   "source": [
    "\n",
    "- V-slav-github - не уложился в 30 мин\n",
    "- n0tmyself - что-то вылетает по памяти\n",
    "- martynov-dm - Notebook does not appear to be JSON\n",
    "- Mihail-Olegovich - дропнул ячейку с проверкой, вместо нее поставил свою, баллы не засчитались, докинул руками, 20 баллов\n",
    "- ArtemIgnatenko - все проверочные ячейки поломал, даже вручную баллы проставить некуда, но все норм - 20 баллов\n"
   ]
  },
  {
   "cell_type": "raw",
   "id": "0f465484-27db-42a9-b625-6db2453a974e",
   "metadata": {},
   "source": [
    "autograded_student_ids = nbg.get_autograded_students(ASSIGNMENT)\n",
    "zero_scored_user_ids = []\n",
    "for student_id in autograded_student_ids:\n",
    "    nb = gradebook.find_submission_notebook(NOTEBOOK, ASSIGNMENT, student_id)\n",
    "    if nb.score == 0:\n",
    "        zero_scored_user_ids.append(student_id)\n",
    "student_ids_requested_to_grade = zero_scored_user_ids\n",
    "len(student_ids_requested_to_grade)"
   ]
  },
  {
   "cell_type": "code",
   "execution_count": 101,
   "id": "5ef8db2e-82c3-46bb-bd69-0246f4dc541d",
   "metadata": {},
   "outputs": [
    {
     "data": {
      "text/plain": [
       "(set, 38)"
      ]
     },
     "execution_count": 101,
     "metadata": {},
     "output_type": "execute_result"
    }
   ],
   "source": [
    "submitted_student_ids = nbg.get_submitted_students(ASSIGNMENT)\n",
    "type(submitted_student_ids), len(submitted_student_ids)"
   ]
  },
  {
   "cell_type": "code",
   "execution_count": 102,
   "id": "2a544536-f34b-4120-85cf-d416916f603d",
   "metadata": {},
   "outputs": [
    {
     "data": {
      "text/plain": [
       "(set, 35)"
      ]
     },
     "execution_count": 102,
     "metadata": {},
     "output_type": "execute_result"
    }
   ],
   "source": [
    "autograded_student_ids = nbg.get_autograded_students(ASSIGNMENT)\n",
    "type(autograded_student_ids), len(autograded_student_ids)"
   ]
  },
  {
   "cell_type": "code",
   "execution_count": 103,
   "id": "883d14e9-2724-43f2-9678-273a5e12d914",
   "metadata": {},
   "outputs": [
    {
     "data": {
      "text/plain": [
       "3"
      ]
     },
     "execution_count": 103,
     "metadata": {},
     "output_type": "execute_result"
    }
   ],
   "source": [
    "not_autograded_student_ids = list(submitted_student_ids - autograded_student_ids)\n",
    "len(not_autograded_student_ids)"
   ]
  },
  {
   "cell_type": "code",
   "execution_count": 104,
   "id": "20e60fb5-79c4-4939-90f6-c1c00b67bb57",
   "metadata": {},
   "outputs": [],
   "source": [
    "if student_ids_requested_to_grade is not None:\n",
    "    student_ids_to_grade = student_ids_requested_to_grade\n",
    "    force = True\n",
    "else:\n",
    "    student_ids_to_grade = not_autograded_student_ids\n",
    "    force = False"
   ]
  },
  {
   "cell_type": "code",
   "execution_count": 115,
   "id": "fb7399e5-ad9e-435b-8a20-86a3f1cf4373",
   "metadata": {
    "scrolled": true
   },
   "outputs": [
    {
     "data": {
      "text/plain": [
       "('force=True', ['anaaaiva'])"
      ]
     },
     "execution_count": 115,
     "metadata": {},
     "output_type": "execute_result"
    }
   ],
   "source": [
    "f\"{force=}\", student_ids_to_grade"
   ]
  },
  {
   "cell_type": "code",
   "execution_count": 106,
   "id": "42116cf4-f8d6-4122-980f-9fed5609ad6e",
   "metadata": {},
   "outputs": [
    {
     "data": {
      "text/plain": [
       "1"
      ]
     },
     "execution_count": 106,
     "metadata": {},
     "output_type": "execute_result"
    }
   ],
   "source": [
    "excuded_students_ids = {\n",
    "    \"V-slav-github\",  # Долгий\n",
    "    \"n0tmyself\",  # memory\n",
    "}\n",
    "student_ids_to_grade = [s_id for s_id in student_ids_to_grade if s_id not in excuded_students_ids]\n",
    "len(student_ids_to_grade)"
   ]
  },
  {
   "cell_type": "code",
   "execution_count": 116,
   "id": "8b67ea37-e500-4ca9-8702-4da1db9622b6",
   "metadata": {},
   "outputs": [
    {
     "data": {
      "application/vnd.jupyter.widget-view+json": {
       "model_id": "f00d1088dee944ae8a796a5139a0bf8b",
       "version_major": 2,
       "version_minor": 0
      },
      "text/plain": [
       "  0%|          | 0/1 [00:00<?, ?it/s]"
      ]
     },
     "metadata": {},
     "output_type": "display_data"
    }
   ],
   "source": [
    "results = {}\n",
    "for student_id in tqdm(student_ids_to_grade):\n",
    "    ts = time.time()\n",
    "    res = nbg.autograde(assignment_id=ASSIGNMENT, student_id=student_id, force=force, create=False)\n",
    "    elapsed = time.time() - ts\n",
    "    res[\"time\"] = elapsed\n",
    "    results[student_id] = res"
   ]
  },
  {
   "cell_type": "code",
   "execution_count": 117,
   "id": "04364633-16b7-4a63-a3e6-7f00f68aca11",
   "metadata": {},
   "outputs": [
    {
     "data": {
      "text/plain": [
       "(1, 0)"
      ]
     },
     "execution_count": 117,
     "metadata": {},
     "output_type": "execute_result"
    }
   ],
   "source": [
    "successes = {sid: res for sid, res in results.items() if res[\"success\"]}\n",
    "failures = {sid: res for sid, res in results.items() if not res[\"success\"]}\n",
    "len(successes), len(failures)"
   ]
  },
  {
   "cell_type": "code",
   "execution_count": null,
   "id": "455644bb-83df-4f5d-a4d2-a48922a1dbab",
   "metadata": {},
   "outputs": [],
   "source": []
  },
  {
   "cell_type": "raw",
   "id": "861b6d9d-9660-4874-8d15-ad1206b9d7a9",
   "metadata": {},
   "source": [
    "print(failures[\"martynov-dm\"][\"log\"])"
   ]
  },
  {
   "cell_type": "markdown",
   "id": "27511c08-2f67-4b1e-a83f-19ed7d3c0255",
   "metadata": {},
   "source": [
    "# Get per-task scores"
   ]
  },
  {
   "cell_type": "code",
   "execution_count": 108,
   "id": "0444edee-7029-435a-b762-3dfc85b0ff83",
   "metadata": {},
   "outputs": [],
   "source": [
    "student_ids_requested_to_grade = None"
   ]
  },
  {
   "cell_type": "code",
   "execution_count": 118,
   "id": "4b280c5f-fa05-43eb-8afd-0f8eff32995e",
   "metadata": {},
   "outputs": [],
   "source": [
    "if student_ids_requested_to_grade is not None:\n",
    "    students_to_get_scores = student_ids_requested_to_grade\n",
    "else:\n",
    "    students_to_get_scores = nbg.get_autograded_students(ASSIGNMENT)"
   ]
  },
  {
   "cell_type": "code",
   "execution_count": 127,
   "id": "27616f80-d2b2-4e7d-a6a4-305ce1d53802",
   "metadata": {},
   "outputs": [
    {
     "data": {
      "application/vnd.jupyter.widget-view+json": {
       "model_id": "ef2b034d8f7f436c83bd6b5a72fb0880",
       "version_major": 2,
       "version_minor": 0
      },
      "text/plain": [
       "  0%|          | 0/35 [00:00<?, ?it/s]"
      ]
     },
     "metadata": {},
     "output_type": "display_data"
    }
   ],
   "source": [
    "scores = {}\n",
    "for student_id in tqdm(students_to_get_scores):\n",
    "    nb = gradebook.find_submission_notebook(NOTEBOOK, ASSIGNMENT, student_id)\n",
    "    student_scores = {\n",
    "        \"total\": {\"actual\": nb.score, \"max\": nb.max_score},\n",
    "        \"cells\": [\n",
    "            {\"actual\": g.score, \"max\": g.max_score}\n",
    "            for g in nb.grades\n",
    "        ]\n",
    "    }\n",
    "    scores[student_id] = student_scores"
   ]
  },
  {
   "cell_type": "code",
   "execution_count": 128,
   "id": "267d9f7d-8376-4020-8357-5b9f75093bc8",
   "metadata": {},
   "outputs": [
    {
     "data": {
      "text/plain": [
       "35"
      ]
     },
     "execution_count": 128,
     "metadata": {},
     "output_type": "execute_result"
    }
   ],
   "source": [
    "total_scores = {sid: int(s[\"total\"][\"actual\"]) for sid, s in scores.items()}\n",
    "total_scores[\"ArtemIgnatenko\"] = 20\n",
    "len(total_scores)"
   ]
  },
  {
   "cell_type": "code",
   "execution_count": 129,
   "id": "07631580-b249-4e49-b813-81a692697456",
   "metadata": {},
   "outputs": [
    {
     "data": {
      "text/plain": [
       "{'timsmr': 20,\n",
       " 'anaaaiva': 20,\n",
       " 'Postironia1': 7,\n",
       " 'katimanova': 20,\n",
       " 'qw1zzard': 20,\n",
       " 'ONEPANTSU': 7,\n",
       " 'alexbuyan': 20,\n",
       " 'ShamilNur': 20,\n",
       " 'dimajyg': 20,\n",
       " 'Laitielly': 20,\n",
       " 'Mihail-Olegovich': 20,\n",
       " 'nbusko': 7,\n",
       " 'wilfordaf': 2,\n",
       " 'Evgenii-Iurin': 4,\n",
       " '7Askar7': 15,\n",
       " 'ElenaSuhova': 7,\n",
       " 'UsefulTornado': 0,\n",
       " 'stasstaf': 20,\n",
       " 'PaulRychkov': 20,\n",
       " 'Darinochka': 0,\n",
       " 'EugenePWN': 20,\n",
       " 'DmitryRedko': 7,\n",
       " 'FanisNgv': 4,\n",
       " 'koshkidadanet': 2,\n",
       " 'semyondipner': 11,\n",
       " 'nsgorbunov': 20,\n",
       " 'khrstln': 20,\n",
       " 'savoskinsemyonq': 4,\n",
       " 'nonodoubt': 20,\n",
       " 'NuatStanskiy': 20,\n",
       " 'GlebIsrailevich': 0,\n",
       " 'Qeshtir': 20,\n",
       " 'ArtemIgnatenko': 20,\n",
       " 'LeftGoga': 7,\n",
       " 'popov101': 20}"
      ]
     },
     "execution_count": 129,
     "metadata": {},
     "output_type": "execute_result"
    }
   ],
   "source": [
    "total_scores"
   ]
  },
  {
   "cell_type": "code",
   "execution_count": 130,
   "id": "147176fb-3b19-4af2-90c9-b8c682e6fc00",
   "metadata": {},
   "outputs": [
    {
     "data": {
      "text/plain": [
       "19"
      ]
     },
     "execution_count": 130,
     "metadata": {},
     "output_type": "execute_result"
    }
   ],
   "source": [
    "max_score_students = [s_id for s_id, score in total_scores.items() if score == MAX_SCORE]\n",
    "len(max_score_students)"
   ]
  },
  {
   "cell_type": "code",
   "execution_count": 133,
   "id": "8b7ffbed-f306-4066-8a47-adb068bd6dae",
   "metadata": {},
   "outputs": [
    {
     "name": "stdout",
     "output_type": "stream",
     "text": [
      "timsmr\n",
      "anaaaiva\n",
      "katimanova\n",
      "qw1zzard\n",
      "alexbuyan\n",
      "ShamilNur\n",
      "dimajyg\n",
      "Laitielly\n",
      "Mihail-Olegovich\n",
      "stasstaf\n",
      "PaulRychkov\n",
      "EugenePWN\n",
      "nsgorbunov\n",
      "khrstln\n",
      "nonodoubt\n",
      "NuatStanskiy\n",
      "Qeshtir\n",
      "ArtemIgnatenko\n",
      "popov101\n"
     ]
    }
   ],
   "source": [
    "print(\"\\n\".join(max_score_students))"
   ]
  },
  {
   "cell_type": "code",
   "execution_count": null,
   "id": "d723b0b5-5ed6-43a6-b858-d8c9d62efd2a",
   "metadata": {},
   "outputs": [],
   "source": []
  },
  {
   "cell_type": "code",
   "execution_count": null,
   "id": "9b80fdb0-02e3-4279-9fae-7ac3ef13fcf0",
   "metadata": {},
   "outputs": [],
   "source": []
  },
  {
   "cell_type": "code",
   "execution_count": 111,
   "id": "4d6f5a43-ceb5-4d75-815a-4168881b0ac9",
   "metadata": {},
   "outputs": [
    {
     "data": {
      "text/plain": [
       "{'timsmr': {'total': {'actual': 20.0, 'max': 20.0},\n",
       "  'cells': [{'actual': 4.0, 'max': 4.0},\n",
       "   {'actual': 4.0, 'max': 4.0},\n",
       "   {'actual': 2.0, 'max': 2.0},\n",
       "   {'actual': 5.0, 'max': 5.0},\n",
       "   {'actual': 5.0, 'max': 5.0}]},\n",
       " 'anaaaiva': {'total': {'actual': 12.0, 'max': 20.0},\n",
       "  'cells': [{'actual': 0.0, 'max': 4.0},\n",
       "   {'actual': 0.0, 'max': 4.0},\n",
       "   {'actual': 2.0, 'max': 2.0},\n",
       "   {'actual': 5.0, 'max': 5.0},\n",
       "   {'actual': 5.0, 'max': 5.0}]},\n",
       " 'Postironia1': {'total': {'actual': 7.0, 'max': 20.0},\n",
       "  'cells': [{'actual': 0.0, 'max': 4.0},\n",
       "   {'actual': 0.0, 'max': 4.0},\n",
       "   {'actual': 2.0, 'max': 2.0},\n",
       "   {'actual': 0.0, 'max': 5.0},\n",
       "   {'actual': 5.0, 'max': 5.0}]},\n",
       " 'katimanova': {'total': {'actual': 20.0, 'max': 20.0},\n",
       "  'cells': [{'actual': 4.0, 'max': 4.0},\n",
       "   {'actual': 4.0, 'max': 4.0},\n",
       "   {'actual': 2.0, 'max': 2.0},\n",
       "   {'actual': 5.0, 'max': 5.0},\n",
       "   {'actual': 5.0, 'max': 5.0}]},\n",
       " 'qw1zzard': {'total': {'actual': 16.0, 'max': 20.0},\n",
       "  'cells': [{'actual': 4.0, 'max': 4.0},\n",
       "   {'actual': 0.0, 'max': 4.0},\n",
       "   {'actual': 2.0, 'max': 2.0},\n",
       "   {'actual': 5.0, 'max': 5.0},\n",
       "   {'actual': 5.0, 'max': 5.0}]},\n",
       " 'ONEPANTSU': {'total': {'actual': 7.0, 'max': 20.0},\n",
       "  'cells': [{'actual': 0.0, 'max': 4.0},\n",
       "   {'actual': 0.0, 'max': 4.0},\n",
       "   {'actual': 2.0, 'max': 2.0},\n",
       "   {'actual': 0.0, 'max': 5.0},\n",
       "   {'actual': 5.0, 'max': 5.0}]},\n",
       " 'alexbuyan': {'total': {'actual': 20.0, 'max': 20.0},\n",
       "  'cells': [{'actual': 4.0, 'max': 4.0},\n",
       "   {'actual': 4.0, 'max': 4.0},\n",
       "   {'actual': 2.0, 'max': 2.0},\n",
       "   {'actual': 5.0, 'max': 5.0},\n",
       "   {'actual': 5.0, 'max': 5.0}]},\n",
       " 'ShamilNur': {'total': {'actual': 15.0, 'max': 20.0},\n",
       "  'cells': [{'actual': 4.0, 'max': 4.0},\n",
       "   {'actual': 4.0, 'max': 4.0},\n",
       "   {'actual': 2.0, 'max': 2.0},\n",
       "   {'actual': 5.0, 'max': 5.0},\n",
       "   {'actual': 0.0, 'max': 5.0}]},\n",
       " 'dimajyg': {'total': {'actual': 20.0, 'max': 20.0},\n",
       "  'cells': [{'actual': 4.0, 'max': 4.0},\n",
       "   {'actual': 4.0, 'max': 4.0},\n",
       "   {'actual': 2.0, 'max': 2.0},\n",
       "   {'actual': 5.0, 'max': 5.0},\n",
       "   {'actual': 5.0, 'max': 5.0}]},\n",
       " 'Laitielly': {'total': {'actual': 20.0, 'max': 20.0},\n",
       "  'cells': [{'actual': 4.0, 'max': 4.0},\n",
       "   {'actual': 4.0, 'max': 4.0},\n",
       "   {'actual': 2.0, 'max': 2.0},\n",
       "   {'actual': 5.0, 'max': 5.0},\n",
       "   {'actual': 5.0, 'max': 5.0}]},\n",
       " 'Mihail-Olegovich': {'total': {'actual': 20.0, 'max': 20.0},\n",
       "  'cells': [{'actual': 0.0, 'max': 4.0},\n",
       "   {'actual': 8.0, 'max': 4.0},\n",
       "   {'actual': 2.0, 'max': 2.0},\n",
       "   {'actual': 5.0, 'max': 5.0},\n",
       "   {'actual': 5.0, 'max': 5.0}]},\n",
       " 'nbusko': {'total': {'actual': 7.0, 'max': 20.0},\n",
       "  'cells': [{'actual': 0.0, 'max': 4.0},\n",
       "   {'actual': 0.0, 'max': 4.0},\n",
       "   {'actual': 2.0, 'max': 2.0},\n",
       "   {'actual': 0.0, 'max': 5.0},\n",
       "   {'actual': 5.0, 'max': 5.0}]},\n",
       " 'wilfordaf': {'total': {'actual': 2.0, 'max': 20.0},\n",
       "  'cells': [{'actual': 0.0, 'max': 4.0},\n",
       "   {'actual': 0.0, 'max': 4.0},\n",
       "   {'actual': 2.0, 'max': 2.0},\n",
       "   {'actual': 0.0, 'max': 5.0},\n",
       "   {'actual': 0.0, 'max': 5.0}]},\n",
       " 'Evgenii-Iurin': {'total': {'actual': 4.0, 'max': 20.0},\n",
       "  'cells': [{'actual': 4.0, 'max': 4.0},\n",
       "   {'actual': 0.0, 'max': 4.0},\n",
       "   {'actual': 0.0, 'max': 2.0},\n",
       "   {'actual': 0.0, 'max': 5.0},\n",
       "   {'actual': 0.0, 'max': 5.0}]},\n",
       " '7Askar7': {'total': {'actual': 15.0, 'max': 20.0},\n",
       "  'cells': [{'actual': 4.0, 'max': 4.0},\n",
       "   {'actual': 4.0, 'max': 4.0},\n",
       "   {'actual': 2.0, 'max': 2.0},\n",
       "   {'actual': 5.0, 'max': 5.0},\n",
       "   {'actual': 0.0, 'max': 5.0}]},\n",
       " 'ElenaSuhova': {'total': {'actual': 7.0, 'max': 20.0},\n",
       "  'cells': [{'actual': 0.0, 'max': 4.0},\n",
       "   {'actual': 0.0, 'max': 4.0},\n",
       "   {'actual': 2.0, 'max': 2.0},\n",
       "   {'actual': 0.0, 'max': 5.0},\n",
       "   {'actual': 5.0, 'max': 5.0}]},\n",
       " 'UsefulTornado': {'total': {'actual': 0.0, 'max': 20.0},\n",
       "  'cells': [{'actual': 0.0, 'max': 4.0},\n",
       "   {'actual': 0.0, 'max': 4.0},\n",
       "   {'actual': 0.0, 'max': 2.0},\n",
       "   {'actual': 0.0, 'max': 5.0},\n",
       "   {'actual': 0.0, 'max': 5.0}]},\n",
       " 'stasstaf': {'total': {'actual': 20.0, 'max': 20.0},\n",
       "  'cells': [{'actual': 4.0, 'max': 4.0},\n",
       "   {'actual': 4.0, 'max': 4.0},\n",
       "   {'actual': 2.0, 'max': 2.0},\n",
       "   {'actual': 5.0, 'max': 5.0},\n",
       "   {'actual': 5.0, 'max': 5.0}]},\n",
       " 'PaulRychkov': {'total': {'actual': 20.0, 'max': 20.0},\n",
       "  'cells': [{'actual': 4.0, 'max': 4.0},\n",
       "   {'actual': 4.0, 'max': 4.0},\n",
       "   {'actual': 2.0, 'max': 2.0},\n",
       "   {'actual': 5.0, 'max': 5.0},\n",
       "   {'actual': 5.0, 'max': 5.0}]},\n",
       " 'Darinochka': {'total': {'actual': 0.0, 'max': 20.0},\n",
       "  'cells': [{'actual': 0.0, 'max': 4.0},\n",
       "   {'actual': 0.0, 'max': 4.0},\n",
       "   {'actual': 0.0, 'max': 2.0},\n",
       "   {'actual': 0.0, 'max': 5.0},\n",
       "   {'actual': 0.0, 'max': 5.0}]},\n",
       " 'EugenePWN': {'total': {'actual': 20.0, 'max': 20.0},\n",
       "  'cells': [{'actual': 4.0, 'max': 4.0},\n",
       "   {'actual': 4.0, 'max': 4.0},\n",
       "   {'actual': 2.0, 'max': 2.0},\n",
       "   {'actual': 5.0, 'max': 5.0},\n",
       "   {'actual': 5.0, 'max': 5.0}]},\n",
       " 'DmitryRedko': {'total': {'actual': 7.0, 'max': 20.0},\n",
       "  'cells': [{'actual': 0.0, 'max': 4.0},\n",
       "   {'actual': 0.0, 'max': 4.0},\n",
       "   {'actual': 2.0, 'max': 2.0},\n",
       "   {'actual': 0.0, 'max': 5.0},\n",
       "   {'actual': 5.0, 'max': 5.0}]},\n",
       " 'FanisNgv': {'total': {'actual': 4.0, 'max': 20.0},\n",
       "  'cells': [{'actual': 4.0, 'max': 4.0},\n",
       "   {'actual': 0.0, 'max': 4.0},\n",
       "   {'actual': 0.0, 'max': 2.0},\n",
       "   {'actual': 0.0, 'max': 5.0},\n",
       "   {'actual': 0.0, 'max': 5.0}]},\n",
       " 'koshkidadanet': {'total': {'actual': 2.0, 'max': 20.0},\n",
       "  'cells': [{'actual': 0.0, 'max': 4.0},\n",
       "   {'actual': 0.0, 'max': 4.0},\n",
       "   {'actual': 2.0, 'max': 2.0},\n",
       "   {'actual': 0.0, 'max': 5.0},\n",
       "   {'actual': 0.0, 'max': 5.0}]},\n",
       " 'semyondipner': {'total': {'actual': 11.0, 'max': 20.0},\n",
       "  'cells': [{'actual': 4.0, 'max': 4.0},\n",
       "   {'actual': 0.0, 'max': 4.0},\n",
       "   {'actual': 2.0, 'max': 2.0},\n",
       "   {'actual': 5.0, 'max': 5.0},\n",
       "   {'actual': 0.0, 'max': 5.0}]},\n",
       " 'nsgorbunov': {'total': {'actual': 20.0, 'max': 20.0},\n",
       "  'cells': [{'actual': 4.0, 'max': 4.0},\n",
       "   {'actual': 4.0, 'max': 4.0},\n",
       "   {'actual': 2.0, 'max': 2.0},\n",
       "   {'actual': 5.0, 'max': 5.0},\n",
       "   {'actual': 5.0, 'max': 5.0}]},\n",
       " 'khrstln': {'total': {'actual': 20.0, 'max': 20.0},\n",
       "  'cells': [{'actual': 4.0, 'max': 4.0},\n",
       "   {'actual': 4.0, 'max': 4.0},\n",
       "   {'actual': 2.0, 'max': 2.0},\n",
       "   {'actual': 5.0, 'max': 5.0},\n",
       "   {'actual': 5.0, 'max': 5.0}]},\n",
       " 'savoskinsemyonq': {'total': {'actual': 4.0, 'max': 20.0},\n",
       "  'cells': [{'actual': 4.0, 'max': 4.0},\n",
       "   {'actual': 0.0, 'max': 4.0},\n",
       "   {'actual': 0.0, 'max': 2.0},\n",
       "   {'actual': 0.0, 'max': 5.0},\n",
       "   {'actual': 0.0, 'max': 5.0}]},\n",
       " 'nonodoubt': {'total': {'actual': 15.0, 'max': 20.0},\n",
       "  'cells': [{'actual': 4.0, 'max': 4.0},\n",
       "   {'actual': 4.0, 'max': 4.0},\n",
       "   {'actual': 2.0, 'max': 2.0},\n",
       "   {'actual': 5.0, 'max': 5.0},\n",
       "   {'actual': 0.0, 'max': 5.0}]},\n",
       " 'NuatStanskiy': {'total': {'actual': 20.0, 'max': 20.0},\n",
       "  'cells': [{'actual': 4.0, 'max': 4.0},\n",
       "   {'actual': 4.0, 'max': 4.0},\n",
       "   {'actual': 2.0, 'max': 2.0},\n",
       "   {'actual': 5.0, 'max': 5.0},\n",
       "   {'actual': 5.0, 'max': 5.0}]},\n",
       " 'GlebIsrailevich': {'total': {'actual': 0.0, 'max': 20.0},\n",
       "  'cells': [{'actual': 0.0, 'max': 4.0},\n",
       "   {'actual': 0.0, 'max': 4.0},\n",
       "   {'actual': 0.0, 'max': 2.0},\n",
       "   {'actual': 0.0, 'max': 5.0},\n",
       "   {'actual': 0.0, 'max': 5.0}]},\n",
       " 'Qeshtir': {'total': {'actual': 20.0, 'max': 20.0},\n",
       "  'cells': [{'actual': 4.0, 'max': 4.0},\n",
       "   {'actual': 4.0, 'max': 4.0},\n",
       "   {'actual': 2.0, 'max': 2.0},\n",
       "   {'actual': 5.0, 'max': 5.0},\n",
       "   {'actual': 5.0, 'max': 5.0}]},\n",
       " 'ArtemIgnatenko': {'total': {'actual': 0.0, 'max': 20.0},\n",
       "  'cells': [{'actual': 0.0, 'max': 4.0},\n",
       "   {'actual': 0.0, 'max': 4.0},\n",
       "   {'actual': 0.0, 'max': 2.0},\n",
       "   {'actual': 0.0, 'max': 5.0},\n",
       "   {'actual': 0.0, 'max': 5.0}]},\n",
       " 'LeftGoga': {'total': {'actual': 7.0, 'max': 20.0},\n",
       "  'cells': [{'actual': 0.0, 'max': 4.0},\n",
       "   {'actual': 0.0, 'max': 4.0},\n",
       "   {'actual': 2.0, 'max': 2.0},\n",
       "   {'actual': 0.0, 'max': 5.0},\n",
       "   {'actual': 5.0, 'max': 5.0}]},\n",
       " 'popov101': {'total': {'actual': 20.0, 'max': 20.0},\n",
       "  'cells': [{'actual': 4.0, 'max': 4.0},\n",
       "   {'actual': 4.0, 'max': 4.0},\n",
       "   {'actual': 2.0, 'max': 2.0},\n",
       "   {'actual': 5.0, 'max': 5.0},\n",
       "   {'actual': 5.0, 'max': 5.0}]}}"
      ]
     },
     "execution_count": 111,
     "metadata": {},
     "output_type": "execute_result"
    }
   ],
   "source": [
    "scores"
   ]
  },
  {
   "cell_type": "markdown",
   "id": "7529f8b7-feb3-4968-9ae8-87acb76644cd",
   "metadata": {},
   "source": [
    "# Make human-readable feedback"
   ]
  },
  {
   "cell_type": "code",
   "execution_count": 30,
   "id": "f608cb45-a5e7-4432-a82e-6791ee8f9200",
   "metadata": {},
   "outputs": [],
   "source": [
    "CELL_NAMES = [\n",
    "    \"тестовая выборка\",  \n",
    "    \"правильность холодных\", \n",
    "    \"метрики холодных\", \n",
    "    \"правильность горячих\", \n",
    "    \"метрики горячих\",\n",
    "]"
   ]
  },
  {
   "cell_type": "markdown",
   "id": "d17a958d-b63c-43e1-ac4c-20fb39167c3e",
   "metadata": {},
   "source": [
    "**Скоры предполагаются целыми**"
   ]
  },
  {
   "cell_type": "code",
   "execution_count": 31,
   "id": "bf91baea-1a06-4ae0-a4d4-18d970b8d4cb",
   "metadata": {},
   "outputs": [],
   "source": [
    "feedbacks = []\n",
    "for student_id, student_scores in scores.items():\n",
    "    total_score = student_scores[\"total\"]\n",
    "    feedback_scores = [f\"total: {total_score['actual']:.0f} / {total_score['max']:.0f}\"]\n",
    "    for cell_name, cell_score in zip(CELL_NAMES, student_scores[\"cells\"]):\n",
    "        feedback_scores.append(f\"{cell_name}: {cell_score['actual']:.0f} / {cell_score['max']:.0f}\")\n",
    "    feedback = {\n",
    "        \"student_id\": student_id,\n",
    "        \"feedback\": \", \".join(feedback_scores),\n",
    "        \"score\": round(total_score[\"actual\"])\n",
    "    }\n",
    "    feedbacks.append(feedback)"
   ]
  },
  {
   "cell_type": "code",
   "execution_count": 32,
   "id": "7f8e23ee-c504-4331-be47-26f77ed70863",
   "metadata": {},
   "outputs": [
    {
     "data": {
      "text/plain": [
       "[{'student_id': 'dimajyg',\n",
       "  'feedback': 'total: 15 / 15, тестовая выборка: 3 / 3, правильность холодных: 2 / 2, метрики холодных: 2 / 2, правильность горячих: 3 / 3, метрики горячих: 5 / 5',\n",
       "  'score': 15},\n",
       " {'student_id': 'DmitryRedko',\n",
       "  'feedback': 'total: 15 / 15, тестовая выборка: 3 / 3, правильность холодных: 2 / 2, метрики холодных: 2 / 2, правильность горячих: 3 / 3, метрики горячих: 5 / 5',\n",
       "  'score': 15},\n",
       " {'student_id': 'PaulRychkov',\n",
       "  'feedback': 'total: 15 / 15, тестовая выборка: 3 / 3, правильность холодных: 2 / 2, метрики холодных: 2 / 2, правильность горячих: 3 / 3, метрики горячих: 5 / 5',\n",
       "  'score': 15},\n",
       " {'student_id': 'n0tmyself',\n",
       "  'feedback': 'total: 15 / 15, тестовая выборка: 3 / 3, правильность холодных: 2 / 2, метрики холодных: 2 / 2, правильность горячих: 3 / 3, метрики горячих: 5 / 5',\n",
       "  'score': 15},\n",
       " {'student_id': 'LeftGoga',\n",
       "  'feedback': 'total: 15 / 15, тестовая выборка: 3 / 3, правильность холодных: 2 / 2, метрики холодных: 2 / 2, правильность горячих: 3 / 3, метрики горячих: 5 / 5',\n",
       "  'score': 15},\n",
       " {'student_id': 'Postironia1',\n",
       "  'feedback': 'total: 15 / 15, тестовая выборка: 3 / 3, правильность холодных: 2 / 2, метрики холодных: 2 / 2, правильность горячих: 3 / 3, метрики горячих: 5 / 5',\n",
       "  'score': 15},\n",
       " {'student_id': 'khrstln',\n",
       "  'feedback': 'total: 15 / 15, тестовая выборка: 3 / 3, правильность холодных: 2 / 2, метрики холодных: 2 / 2, правильность горячих: 3 / 3, метрики горячих: 5 / 5',\n",
       "  'score': 15},\n",
       " {'student_id': 'V-slav-github',\n",
       "  'feedback': 'total: 15 / 15, тестовая выборка: 3 / 3, правильность холодных: 2 / 2, метрики холодных: 2 / 2, правильность горячих: 3 / 3, метрики горячих: 5 / 5',\n",
       "  'score': 15},\n",
       " {'student_id': 'nbusko',\n",
       "  'feedback': 'total: 15 / 15, тестовая выборка: 3 / 3, правильность холодных: 2 / 2, метрики холодных: 2 / 2, правильность горячих: 3 / 3, метрики горячих: 5 / 5',\n",
       "  'score': 15},\n",
       " {'student_id': 'GlebIsrailevich',\n",
       "  'feedback': 'total: 15 / 15, тестовая выборка: 3 / 3, правильность холодных: 2 / 2, метрики холодных: 2 / 2, правильность горячих: 3 / 3, метрики горячих: 5 / 5',\n",
       "  'score': 15},\n",
       " {'student_id': 'ShamilNur',\n",
       "  'feedback': 'total: 15 / 15, тестовая выборка: 3 / 3, правильность холодных: 2 / 2, метрики холодных: 2 / 2, правильность горячих: 3 / 3, метрики горячих: 5 / 5',\n",
       "  'score': 15},\n",
       " {'student_id': 'FanisNgv',\n",
       "  'feedback': 'total: 15 / 15, тестовая выборка: 3 / 3, правильность холодных: 2 / 2, метрики холодных: 2 / 2, правильность горячих: 3 / 3, метрики горячих: 5 / 5',\n",
       "  'score': 15},\n",
       " {'student_id': 'martynov-dm',\n",
       "  'feedback': 'total: 12 / 15, тестовая выборка: 3 / 3, правильность холодных: 2 / 2, метрики холодных: 2 / 2, правильность горячих: 0 / 3, метрики горячих: 5 / 5',\n",
       "  'score': 12},\n",
       " {'student_id': 'Laitielly',\n",
       "  'feedback': 'total: 15 / 15, тестовая выборка: 3 / 3, правильность холодных: 2 / 2, метрики холодных: 2 / 2, правильность горячих: 3 / 3, метрики горячих: 5 / 5',\n",
       "  'score': 15},\n",
       " {'student_id': 'UsefulTornado',\n",
       "  'feedback': 'total: 15 / 15, тестовая выборка: 3 / 3, правильность холодных: 2 / 2, метрики холодных: 2 / 2, правильность горячих: 3 / 3, метрики горячих: 5 / 5',\n",
       "  'score': 15},\n",
       " {'student_id': 'wilfordaf',\n",
       "  'feedback': 'total: 15 / 15, тестовая выборка: 3 / 3, правильность холодных: 2 / 2, метрики холодных: 2 / 2, правильность горячих: 3 / 3, метрики горячих: 5 / 5',\n",
       "  'score': 15},\n",
       " {'student_id': 'koshkidadanet',\n",
       "  'feedback': 'total: 15 / 15, тестовая выборка: 3 / 3, правильность холодных: 2 / 2, метрики холодных: 2 / 2, правильность горячих: 3 / 3, метрики горячих: 5 / 5',\n",
       "  'score': 15},\n",
       " {'student_id': 'savoskinsemyonq',\n",
       "  'feedback': 'total: 15 / 15, тестовая выборка: 3 / 3, правильность холодных: 2 / 2, метрики холодных: 2 / 2, правильность горячих: 3 / 3, метрики горячих: 5 / 5',\n",
       "  'score': 15},\n",
       " {'student_id': 'popov101',\n",
       "  'feedback': 'total: 10 / 15, тестовая выборка: 3 / 3, правильность холодных: 2 / 2, метрики холодных: 2 / 2, правильность горячих: 3 / 3, метрики горячих: 0 / 5',\n",
       "  'score': 10},\n",
       " {'student_id': 'stasstaf',\n",
       "  'feedback': 'total: 15 / 15, тестовая выборка: 3 / 3, правильность холодных: 2 / 2, метрики холодных: 2 / 2, правильность горячих: 3 / 3, метрики горячих: 5 / 5',\n",
       "  'score': 15},\n",
       " {'student_id': 'EugenePWN',\n",
       "  'feedback': 'total: 15 / 15, тестовая выборка: 3 / 3, правильность холодных: 2 / 2, метрики холодных: 2 / 2, правильность горячих: 3 / 3, метрики горячих: 5 / 5',\n",
       "  'score': 15},\n",
       " {'student_id': 'BulatMaratovich',\n",
       "  'feedback': 'total: 7 / 15, тестовая выборка: 3 / 3, правильность холодных: 2 / 2, метрики холодных: 2 / 2, правильность горячих: 0 / 3, метрики горячих: 0 / 5',\n",
       "  'score': 7},\n",
       " {'student_id': 'Qeshtir',\n",
       "  'feedback': 'total: 13 / 15, тестовая выборка: 3 / 3, правильность холодных: 2 / 2, метрики холодных: 0 / 2, правильность горячих: 3 / 3, метрики горячих: 5 / 5',\n",
       "  'score': 13},\n",
       " {'student_id': 'smalda',\n",
       "  'feedback': 'total: 12 / 15, тестовая выборка: 3 / 3, правильность холодных: 2 / 2, метрики холодных: 2 / 2, правильность горячих: 0 / 3, метрики горячих: 5 / 5',\n",
       "  'score': 12},\n",
       " {'student_id': 'semyondipner',\n",
       "  'feedback': 'total: 15 / 15, тестовая выборка: 3 / 3, правильность холодных: 2 / 2, метрики холодных: 2 / 2, правильность горячих: 3 / 3, метрики горячих: 5 / 5',\n",
       "  'score': 15},\n",
       " {'student_id': 'anaaaiva',\n",
       "  'feedback': 'total: 15 / 15, тестовая выборка: 3 / 3, правильность холодных: 2 / 2, метрики холодных: 2 / 2, правильность горячих: 3 / 3, метрики горячих: 5 / 5',\n",
       "  'score': 15},\n",
       " {'student_id': 'alexbuyan',\n",
       "  'feedback': 'total: 15 / 15, тестовая выборка: 3 / 3, правильность холодных: 2 / 2, метрики холодных: 2 / 2, правильность горячих: 3 / 3, метрики горячих: 5 / 5',\n",
       "  'score': 15},\n",
       " {'student_id': 'Evgenii-Iurin',\n",
       "  'feedback': 'total: 15 / 15, тестовая выборка: 3 / 3, правильность холодных: 2 / 2, метрики холодных: 2 / 2, правильность горячих: 3 / 3, метрики горячих: 5 / 5',\n",
       "  'score': 15},\n",
       " {'student_id': 'timsmr',\n",
       "  'feedback': 'total: 15 / 15, тестовая выборка: 3 / 3, правильность холодных: 2 / 2, метрики холодных: 2 / 2, правильность горячих: 3 / 3, метрики горячих: 5 / 5',\n",
       "  'score': 15},\n",
       " {'student_id': 'Mihail-Olegovich',\n",
       "  'feedback': 'total: 15 / 15, тестовая выборка: 3 / 3, правильность холодных: 2 / 2, метрики холодных: 2 / 2, правильность горячих: 3 / 3, метрики горячих: 5 / 5',\n",
       "  'score': 15},\n",
       " {'student_id': 'qw1zzard',\n",
       "  'feedback': 'total: 15 / 15, тестовая выборка: 3 / 3, правильность холодных: 2 / 2, метрики холодных: 2 / 2, правильность горячих: 3 / 3, метрики горячих: 5 / 5',\n",
       "  'score': 15},\n",
       " {'student_id': 'katimanova',\n",
       "  'feedback': 'total: 15 / 15, тестовая выборка: 3 / 3, правильность холодных: 2 / 2, метрики холодных: 2 / 2, правильность горячих: 3 / 3, метрики горячих: 5 / 5',\n",
       "  'score': 15},\n",
       " {'student_id': 'nsgorbunov',\n",
       "  'feedback': 'total: 15 / 15, тестовая выборка: 3 / 3, правильность холодных: 2 / 2, метрики холодных: 2 / 2, правильность горячих: 3 / 3, метрики горячих: 5 / 5',\n",
       "  'score': 15},\n",
       " {'student_id': '7Askar7',\n",
       "  'feedback': 'total: 15 / 15, тестовая выборка: 3 / 3, правильность холодных: 2 / 2, метрики холодных: 2 / 2, правильность горячих: 3 / 3, метрики горячих: 5 / 5',\n",
       "  'score': 15},\n",
       " {'student_id': 'ArtemIgnatenko',\n",
       "  'feedback': 'total: 15 / 15, тестовая выборка: 3 / 3, правильность холодных: 2 / 2, метрики холодных: 2 / 2, правильность горячих: 3 / 3, метрики горячих: 5 / 5',\n",
       "  'score': 15},\n",
       " {'student_id': 'NuatStanskiy',\n",
       "  'feedback': 'total: 15 / 15, тестовая выборка: 3 / 3, правильность холодных: 2 / 2, метрики холодных: 2 / 2, правильность горячих: 3 / 3, метрики горячих: 5 / 5',\n",
       "  'score': 15},\n",
       " {'student_id': 'Darinochka',\n",
       "  'feedback': 'total: 15 / 15, тестовая выборка: 3 / 3, правильность холодных: 2 / 2, метрики холодных: 2 / 2, правильность горячих: 3 / 3, метрики горячих: 5 / 5',\n",
       "  'score': 15},\n",
       " {'student_id': 'ElenaSuhova',\n",
       "  'feedback': 'total: 15 / 15, тестовая выборка: 3 / 3, правильность холодных: 2 / 2, метрики холодных: 2 / 2, правильность горячих: 3 / 3, метрики горячих: 5 / 5',\n",
       "  'score': 15},\n",
       " {'student_id': 'pavelkochkin1',\n",
       "  'feedback': 'total: 15 / 15, тестовая выборка: 3 / 3, правильность холодных: 2 / 2, метрики холодных: 2 / 2, правильность горячих: 3 / 3, метрики горячих: 5 / 5',\n",
       "  'score': 15},\n",
       " {'student_id': 'nonodoubt',\n",
       "  'feedback': 'total: 12 / 15, тестовая выборка: 3 / 3, правильность холодных: 2 / 2, метрики холодных: 2 / 2, правильность горячих: 0 / 3, метрики горячих: 5 / 5',\n",
       "  'score': 12}]"
      ]
     },
     "execution_count": 32,
     "metadata": {},
     "output_type": "execute_result"
    }
   ],
   "source": [
    "feedbacks"
   ]
  },
  {
   "cell_type": "code",
   "execution_count": 49,
   "id": "1aa039ac-6ced-4bfc-882f-e33f203a1d8b",
   "metadata": {},
   "outputs": [
    {
     "data": {
      "text/html": [
       "<div>\n",
       "<style scoped>\n",
       "    .dataframe tbody tr th:only-of-type {\n",
       "        vertical-align: middle;\n",
       "    }\n",
       "\n",
       "    .dataframe tbody tr th {\n",
       "        vertical-align: top;\n",
       "    }\n",
       "\n",
       "    .dataframe thead th {\n",
       "        text-align: right;\n",
       "    }\n",
       "</style>\n",
       "<table border=\"1\" class=\"dataframe\">\n",
       "  <thead>\n",
       "    <tr style=\"text-align: right;\">\n",
       "      <th></th>\n",
       "      <th>student_id</th>\n",
       "      <th>feedback</th>\n",
       "      <th>score</th>\n",
       "    </tr>\n",
       "  </thead>\n",
       "  <tbody>\n",
       "    <tr>\n",
       "      <th>0</th>\n",
       "      <td>dimajyg</td>\n",
       "      <td>total: 15 / 15, тестовая выборка: 3 / 3, прави...</td>\n",
       "      <td>15</td>\n",
       "    </tr>\n",
       "    <tr>\n",
       "      <th>1</th>\n",
       "      <td>DmitryRedko</td>\n",
       "      <td>total: 15 / 15, тестовая выборка: 3 / 3, прави...</td>\n",
       "      <td>15</td>\n",
       "    </tr>\n",
       "    <tr>\n",
       "      <th>2</th>\n",
       "      <td>PaulRychkov</td>\n",
       "      <td>total: 15 / 15, тестовая выборка: 3 / 3, прави...</td>\n",
       "      <td>15</td>\n",
       "    </tr>\n",
       "    <tr>\n",
       "      <th>3</th>\n",
       "      <td>n0tmyself</td>\n",
       "      <td>total: 15 / 15, тестовая выборка: 3 / 3, прави...</td>\n",
       "      <td>15</td>\n",
       "    </tr>\n",
       "    <tr>\n",
       "      <th>4</th>\n",
       "      <td>LeftGoga</td>\n",
       "      <td>total: 15 / 15, тестовая выборка: 3 / 3, прави...</td>\n",
       "      <td>15</td>\n",
       "    </tr>\n",
       "    <tr>\n",
       "      <th>5</th>\n",
       "      <td>Postironia1</td>\n",
       "      <td>total: 15 / 15, тестовая выборка: 3 / 3, прави...</td>\n",
       "      <td>15</td>\n",
       "    </tr>\n",
       "    <tr>\n",
       "      <th>6</th>\n",
       "      <td>khrstln</td>\n",
       "      <td>total: 15 / 15, тестовая выборка: 3 / 3, прави...</td>\n",
       "      <td>15</td>\n",
       "    </tr>\n",
       "    <tr>\n",
       "      <th>7</th>\n",
       "      <td>V-slav-github</td>\n",
       "      <td>total: 15 / 15, тестовая выборка: 3 / 3, прави...</td>\n",
       "      <td>15</td>\n",
       "    </tr>\n",
       "    <tr>\n",
       "      <th>8</th>\n",
       "      <td>nbusko</td>\n",
       "      <td>total: 15 / 15, тестовая выборка: 3 / 3, прави...</td>\n",
       "      <td>15</td>\n",
       "    </tr>\n",
       "    <tr>\n",
       "      <th>9</th>\n",
       "      <td>GlebIsrailevich</td>\n",
       "      <td>total: 15 / 15, тестовая выборка: 3 / 3, прави...</td>\n",
       "      <td>15</td>\n",
       "    </tr>\n",
       "    <tr>\n",
       "      <th>10</th>\n",
       "      <td>ShamilNur</td>\n",
       "      <td>total: 15 / 15, тестовая выборка: 3 / 3, прави...</td>\n",
       "      <td>15</td>\n",
       "    </tr>\n",
       "    <tr>\n",
       "      <th>11</th>\n",
       "      <td>FanisNgv</td>\n",
       "      <td>total: 15 / 15, тестовая выборка: 3 / 3, прави...</td>\n",
       "      <td>15</td>\n",
       "    </tr>\n",
       "    <tr>\n",
       "      <th>12</th>\n",
       "      <td>martynov-dm</td>\n",
       "      <td>total: 12 / 15, тестовая выборка: 3 / 3, прави...</td>\n",
       "      <td>12</td>\n",
       "    </tr>\n",
       "    <tr>\n",
       "      <th>13</th>\n",
       "      <td>Laitielly</td>\n",
       "      <td>total: 15 / 15, тестовая выборка: 3 / 3, прави...</td>\n",
       "      <td>15</td>\n",
       "    </tr>\n",
       "    <tr>\n",
       "      <th>14</th>\n",
       "      <td>UsefulTornado</td>\n",
       "      <td>total: 15 / 15, тестовая выборка: 3 / 3, прави...</td>\n",
       "      <td>15</td>\n",
       "    </tr>\n",
       "    <tr>\n",
       "      <th>15</th>\n",
       "      <td>wilfordaf</td>\n",
       "      <td>total: 15 / 15, тестовая выборка: 3 / 3, прави...</td>\n",
       "      <td>15</td>\n",
       "    </tr>\n",
       "    <tr>\n",
       "      <th>16</th>\n",
       "      <td>koshkidadanet</td>\n",
       "      <td>total: 15 / 15, тестовая выборка: 3 / 3, прави...</td>\n",
       "      <td>15</td>\n",
       "    </tr>\n",
       "    <tr>\n",
       "      <th>17</th>\n",
       "      <td>savoskinsemyonq</td>\n",
       "      <td>total: 15 / 15, тестовая выборка: 3 / 3, прави...</td>\n",
       "      <td>15</td>\n",
       "    </tr>\n",
       "    <tr>\n",
       "      <th>18</th>\n",
       "      <td>popov101</td>\n",
       "      <td>total: 10 / 15, тестовая выборка: 3 / 3, прави...</td>\n",
       "      <td>10</td>\n",
       "    </tr>\n",
       "    <tr>\n",
       "      <th>19</th>\n",
       "      <td>stasstaf</td>\n",
       "      <td>total: 15 / 15, тестовая выборка: 3 / 3, прави...</td>\n",
       "      <td>15</td>\n",
       "    </tr>\n",
       "    <tr>\n",
       "      <th>20</th>\n",
       "      <td>EugenePWN</td>\n",
       "      <td>total: 15 / 15, тестовая выборка: 3 / 3, прави...</td>\n",
       "      <td>15</td>\n",
       "    </tr>\n",
       "    <tr>\n",
       "      <th>21</th>\n",
       "      <td>BulatMaratovich</td>\n",
       "      <td>total: 7 / 15, тестовая выборка: 3 / 3, правил...</td>\n",
       "      <td>7</td>\n",
       "    </tr>\n",
       "    <tr>\n",
       "      <th>22</th>\n",
       "      <td>Qeshtir</td>\n",
       "      <td>total: 13 / 15, тестовая выборка: 3 / 3, прави...</td>\n",
       "      <td>13</td>\n",
       "    </tr>\n",
       "    <tr>\n",
       "      <th>23</th>\n",
       "      <td>smalda</td>\n",
       "      <td>total: 12 / 15, тестовая выборка: 3 / 3, прави...</td>\n",
       "      <td>12</td>\n",
       "    </tr>\n",
       "    <tr>\n",
       "      <th>24</th>\n",
       "      <td>semyondipner</td>\n",
       "      <td>total: 15 / 15, тестовая выборка: 3 / 3, прави...</td>\n",
       "      <td>15</td>\n",
       "    </tr>\n",
       "    <tr>\n",
       "      <th>25</th>\n",
       "      <td>anaaaiva</td>\n",
       "      <td>total: 15 / 15, тестовая выборка: 3 / 3, прави...</td>\n",
       "      <td>15</td>\n",
       "    </tr>\n",
       "    <tr>\n",
       "      <th>26</th>\n",
       "      <td>alexbuyan</td>\n",
       "      <td>total: 15 / 15, тестовая выборка: 3 / 3, прави...</td>\n",
       "      <td>15</td>\n",
       "    </tr>\n",
       "    <tr>\n",
       "      <th>27</th>\n",
       "      <td>Evgenii-Iurin</td>\n",
       "      <td>total: 15 / 15, тестовая выборка: 3 / 3, прави...</td>\n",
       "      <td>15</td>\n",
       "    </tr>\n",
       "    <tr>\n",
       "      <th>28</th>\n",
       "      <td>timsmr</td>\n",
       "      <td>total: 15 / 15, тестовая выборка: 3 / 3, прави...</td>\n",
       "      <td>15</td>\n",
       "    </tr>\n",
       "    <tr>\n",
       "      <th>29</th>\n",
       "      <td>Mihail-Olegovich</td>\n",
       "      <td>total: 15 / 15, тестовая выборка: 3 / 3, прави...</td>\n",
       "      <td>15</td>\n",
       "    </tr>\n",
       "    <tr>\n",
       "      <th>30</th>\n",
       "      <td>qw1zzard</td>\n",
       "      <td>total: 15 / 15, тестовая выборка: 3 / 3, прави...</td>\n",
       "      <td>15</td>\n",
       "    </tr>\n",
       "    <tr>\n",
       "      <th>31</th>\n",
       "      <td>katimanova</td>\n",
       "      <td>total: 15 / 15, тестовая выборка: 3 / 3, прави...</td>\n",
       "      <td>15</td>\n",
       "    </tr>\n",
       "    <tr>\n",
       "      <th>32</th>\n",
       "      <td>nsgorbunov</td>\n",
       "      <td>total: 15 / 15, тестовая выборка: 3 / 3, прави...</td>\n",
       "      <td>15</td>\n",
       "    </tr>\n",
       "    <tr>\n",
       "      <th>33</th>\n",
       "      <td>7Askar7</td>\n",
       "      <td>total: 15 / 15, тестовая выборка: 3 / 3, прави...</td>\n",
       "      <td>15</td>\n",
       "    </tr>\n",
       "    <tr>\n",
       "      <th>34</th>\n",
       "      <td>ArtemIgnatenko</td>\n",
       "      <td>total: 15 / 15, тестовая выборка: 3 / 3, прави...</td>\n",
       "      <td>15</td>\n",
       "    </tr>\n",
       "    <tr>\n",
       "      <th>35</th>\n",
       "      <td>NuatStanskiy</td>\n",
       "      <td>total: 15 / 15, тестовая выборка: 3 / 3, прави...</td>\n",
       "      <td>15</td>\n",
       "    </tr>\n",
       "    <tr>\n",
       "      <th>36</th>\n",
       "      <td>Darinochka</td>\n",
       "      <td>total: 15 / 15, тестовая выборка: 3 / 3, прави...</td>\n",
       "      <td>15</td>\n",
       "    </tr>\n",
       "    <tr>\n",
       "      <th>37</th>\n",
       "      <td>ElenaSuhova</td>\n",
       "      <td>total: 15 / 15, тестовая выборка: 3 / 3, прави...</td>\n",
       "      <td>15</td>\n",
       "    </tr>\n",
       "    <tr>\n",
       "      <th>38</th>\n",
       "      <td>pavelkochkin1</td>\n",
       "      <td>total: 15 / 15, тестовая выборка: 3 / 3, прави...</td>\n",
       "      <td>15</td>\n",
       "    </tr>\n",
       "    <tr>\n",
       "      <th>39</th>\n",
       "      <td>nonodoubt</td>\n",
       "      <td>total: 12 / 15, тестовая выборка: 3 / 3, прави...</td>\n",
       "      <td>12</td>\n",
       "    </tr>\n",
       "  </tbody>\n",
       "</table>\n",
       "</div>"
      ],
      "text/plain": [
       "          student_id                                           feedback  score\n",
       "0            dimajyg  total: 15 / 15, тестовая выборка: 3 / 3, прави...     15\n",
       "1        DmitryRedko  total: 15 / 15, тестовая выборка: 3 / 3, прави...     15\n",
       "2        PaulRychkov  total: 15 / 15, тестовая выборка: 3 / 3, прави...     15\n",
       "3          n0tmyself  total: 15 / 15, тестовая выборка: 3 / 3, прави...     15\n",
       "4           LeftGoga  total: 15 / 15, тестовая выборка: 3 / 3, прави...     15\n",
       "5        Postironia1  total: 15 / 15, тестовая выборка: 3 / 3, прави...     15\n",
       "6            khrstln  total: 15 / 15, тестовая выборка: 3 / 3, прави...     15\n",
       "7      V-slav-github  total: 15 / 15, тестовая выборка: 3 / 3, прави...     15\n",
       "8             nbusko  total: 15 / 15, тестовая выборка: 3 / 3, прави...     15\n",
       "9    GlebIsrailevich  total: 15 / 15, тестовая выборка: 3 / 3, прави...     15\n",
       "10         ShamilNur  total: 15 / 15, тестовая выборка: 3 / 3, прави...     15\n",
       "11          FanisNgv  total: 15 / 15, тестовая выборка: 3 / 3, прави...     15\n",
       "12       martynov-dm  total: 12 / 15, тестовая выборка: 3 / 3, прави...     12\n",
       "13         Laitielly  total: 15 / 15, тестовая выборка: 3 / 3, прави...     15\n",
       "14     UsefulTornado  total: 15 / 15, тестовая выборка: 3 / 3, прави...     15\n",
       "15         wilfordaf  total: 15 / 15, тестовая выборка: 3 / 3, прави...     15\n",
       "16     koshkidadanet  total: 15 / 15, тестовая выборка: 3 / 3, прави...     15\n",
       "17   savoskinsemyonq  total: 15 / 15, тестовая выборка: 3 / 3, прави...     15\n",
       "18          popov101  total: 10 / 15, тестовая выборка: 3 / 3, прави...     10\n",
       "19          stasstaf  total: 15 / 15, тестовая выборка: 3 / 3, прави...     15\n",
       "20         EugenePWN  total: 15 / 15, тестовая выборка: 3 / 3, прави...     15\n",
       "21   BulatMaratovich  total: 7 / 15, тестовая выборка: 3 / 3, правил...      7\n",
       "22           Qeshtir  total: 13 / 15, тестовая выборка: 3 / 3, прави...     13\n",
       "23            smalda  total: 12 / 15, тестовая выборка: 3 / 3, прави...     12\n",
       "24      semyondipner  total: 15 / 15, тестовая выборка: 3 / 3, прави...     15\n",
       "25          anaaaiva  total: 15 / 15, тестовая выборка: 3 / 3, прави...     15\n",
       "26         alexbuyan  total: 15 / 15, тестовая выборка: 3 / 3, прави...     15\n",
       "27     Evgenii-Iurin  total: 15 / 15, тестовая выборка: 3 / 3, прави...     15\n",
       "28            timsmr  total: 15 / 15, тестовая выборка: 3 / 3, прави...     15\n",
       "29  Mihail-Olegovich  total: 15 / 15, тестовая выборка: 3 / 3, прави...     15\n",
       "30          qw1zzard  total: 15 / 15, тестовая выборка: 3 / 3, прави...     15\n",
       "31        katimanova  total: 15 / 15, тестовая выборка: 3 / 3, прави...     15\n",
       "32        nsgorbunov  total: 15 / 15, тестовая выборка: 3 / 3, прави...     15\n",
       "33           7Askar7  total: 15 / 15, тестовая выборка: 3 / 3, прави...     15\n",
       "34    ArtemIgnatenko  total: 15 / 15, тестовая выборка: 3 / 3, прави...     15\n",
       "35      NuatStanskiy  total: 15 / 15, тестовая выборка: 3 / 3, прави...     15\n",
       "36        Darinochka  total: 15 / 15, тестовая выборка: 3 / 3, прави...     15\n",
       "37       ElenaSuhova  total: 15 / 15, тестовая выборка: 3 / 3, прави...     15\n",
       "38     pavelkochkin1  total: 15 / 15, тестовая выборка: 3 / 3, прави...     15\n",
       "39         nonodoubt  total: 12 / 15, тестовая выборка: 3 / 3, прави...     12"
      ]
     },
     "execution_count": 49,
     "metadata": {},
     "output_type": "execute_result"
    }
   ],
   "source": [
    "df = pd.DataFrame(feedbacks)\n",
    "df"
   ]
  },
  {
   "cell_type": "code",
   "execution_count": 35,
   "id": "526fb9a1-062c-4e16-a176-fbf0934c2208",
   "metadata": {},
   "outputs": [
    {
     "data": {
      "text/plain": [
       "'total: 9 / 15, precision_and_recall: 1 / 1, ap_at_3_for_user_2: 1 / 1, map_at_3: 1 / 1, dcg_at_3_for_user_2: 1 / 1, idcg_at_3_for_user_2: 1 / 1, ndcg_at_3: 0 / 1, weighted_recall_correct: 0 / 2, weighted_recall_efficient: 0 / 3, model_A: 2 / 2, model_B: 2 / 2'"
      ]
     },
     "execution_count": 35,
     "metadata": {},
     "output_type": "execute_result"
    }
   ],
   "source": [
    "df[\"feedback\"][0]"
   ]
  },
  {
   "cell_type": "code",
   "execution_count": null,
   "id": "bbdefc6a-7730-454f-b8d9-5a88e93a7fb9",
   "metadata": {},
   "outputs": [],
   "source": []
  },
  {
   "cell_type": "code",
   "execution_count": 46,
   "id": "32da11cd-4c99-4e96-95e0-28514e32f6d7",
   "metadata": {},
   "outputs": [
    {
     "data": {
      "text/html": [
       "<div>\n",
       "<style scoped>\n",
       "    .dataframe tbody tr th:only-of-type {\n",
       "        vertical-align: middle;\n",
       "    }\n",
       "\n",
       "    .dataframe tbody tr th {\n",
       "        vertical-align: top;\n",
       "    }\n",
       "\n",
       "    .dataframe thead th {\n",
       "        text-align: right;\n",
       "    }\n",
       "</style>\n",
       "<table border=\"1\" class=\"dataframe\">\n",
       "  <thead>\n",
       "    <tr style=\"text-align: right;\">\n",
       "      <th></th>\n",
       "      <th>ФИО</th>\n",
       "      <th>student_id</th>\n",
       "    </tr>\n",
       "  </thead>\n",
       "  <tbody>\n",
       "    <tr>\n",
       "      <th>1</th>\n",
       "      <td>Горбунов Никита Сергеевич</td>\n",
       "      <td>nsgorbunov</td>\n",
       "    </tr>\n",
       "    <tr>\n",
       "      <th>2</th>\n",
       "      <td>Ильин Глеб Романович</td>\n",
       "      <td>GlebIsrailevich</td>\n",
       "    </tr>\n",
       "    <tr>\n",
       "      <th>3</th>\n",
       "      <td>Клакевич Александр Викторович</td>\n",
       "      <td>AlViKl</td>\n",
       "    </tr>\n",
       "    <tr>\n",
       "      <th>4</th>\n",
       "      <td>Латыпов Булат Маратович</td>\n",
       "      <td>BulatMaratovich</td>\n",
       "    </tr>\n",
       "    <tr>\n",
       "      <th>6</th>\n",
       "      <td>Попов Владимир Алексеевич</td>\n",
       "      <td>popov101</td>\n",
       "    </tr>\n",
       "  </tbody>\n",
       "</table>\n",
       "</div>"
      ],
      "text/plain": [
       "                             ФИО       student_id\n",
       "1      Горбунов Никита Сергеевич       nsgorbunov\n",
       "2           Ильин Глеб Романович  GlebIsrailevich\n",
       "3  Клакевич Александр Викторович           AlViKl\n",
       "4        Латыпов Булат Маратович  BulatMaratovich\n",
       "6      Попов Владимир Алексеевич         popov101"
      ]
     },
     "execution_count": 46,
     "metadata": {},
     "output_type": "execute_result"
    }
   ],
   "source": [
    "students_df = pd.read_csv(\"/usr/local/share/nbgrader/exchange/itmo_recsys_2025_spring/students.tsv\", sep=\"\\t\")\n",
    "\n",
    "students_df = students_df.loc[students_df[\"Github repo\"].notnull()].copy()\n",
    "students_df[\"student_id\"] = students_df[\"Github repo\"].str.removeprefix(\"https://github.com/\").str.split(\"/\", expand=True)[0]\n",
    "students_df = students_df[[\"ФИО\", \"student_id\"]]\n",
    "students_df.head()"
   ]
  },
  {
   "cell_type": "code",
   "execution_count": 50,
   "id": "07c907c7-c0a4-40b1-af4f-e4470db25a8f",
   "metadata": {},
   "outputs": [
    {
     "data": {
      "text/html": [
       "<div>\n",
       "<style scoped>\n",
       "    .dataframe tbody tr th:only-of-type {\n",
       "        vertical-align: middle;\n",
       "    }\n",
       "\n",
       "    .dataframe tbody tr th {\n",
       "        vertical-align: top;\n",
       "    }\n",
       "\n",
       "    .dataframe thead th {\n",
       "        text-align: right;\n",
       "    }\n",
       "</style>\n",
       "<table border=\"1\" class=\"dataframe\">\n",
       "  <thead>\n",
       "    <tr style=\"text-align: right;\">\n",
       "      <th></th>\n",
       "      <th>ФИО</th>\n",
       "      <th>student_id</th>\n",
       "      <th>feedback</th>\n",
       "      <th>score</th>\n",
       "    </tr>\n",
       "  </thead>\n",
       "  <tbody>\n",
       "    <tr>\n",
       "      <th>0</th>\n",
       "      <td>Тихановский Дмитрий Александрович</td>\n",
       "      <td>dimajyg</td>\n",
       "      <td>total: 15 / 15, тестовая выборка: 3 / 3, прави...</td>\n",
       "      <td>15</td>\n",
       "    </tr>\n",
       "    <tr>\n",
       "      <th>1</th>\n",
       "      <td>Редько Дмитрий Александрович</td>\n",
       "      <td>DmitryRedko</td>\n",
       "      <td>total: 15 / 15, тестовая выборка: 3 / 3, прави...</td>\n",
       "      <td>15</td>\n",
       "    </tr>\n",
       "    <tr>\n",
       "      <th>2</th>\n",
       "      <td>Рычков Павел Андреевич</td>\n",
       "      <td>PaulRychkov</td>\n",
       "      <td>total: 15 / 15, тестовая выборка: 3 / 3, прави...</td>\n",
       "      <td>15</td>\n",
       "    </tr>\n",
       "    <tr>\n",
       "      <th>3</th>\n",
       "      <td>Альшевский Дмитрий Владимирович</td>\n",
       "      <td>n0tmyself</td>\n",
       "      <td>total: 15 / 15, тестовая выборка: 3 / 3, прави...</td>\n",
       "      <td>15</td>\n",
       "    </tr>\n",
       "    <tr>\n",
       "      <th>4</th>\n",
       "      <td>Поляков Егор Сергеевич</td>\n",
       "      <td>LeftGoga</td>\n",
       "      <td>total: 15 / 15, тестовая выборка: 3 / 3, прави...</td>\n",
       "      <td>15</td>\n",
       "    </tr>\n",
       "  </tbody>\n",
       "</table>\n",
       "</div>"
      ],
      "text/plain": [
       "                                 ФИО   student_id  \\\n",
       "0  Тихановский Дмитрий Александрович      dimajyg   \n",
       "1       Редько Дмитрий Александрович  DmitryRedko   \n",
       "2             Рычков Павел Андреевич  PaulRychkov   \n",
       "3    Альшевский Дмитрий Владимирович    n0tmyself   \n",
       "4             Поляков Егор Сергеевич     LeftGoga   \n",
       "\n",
       "                                            feedback  score  \n",
       "0  total: 15 / 15, тестовая выборка: 3 / 3, прави...     15  \n",
       "1  total: 15 / 15, тестовая выборка: 3 / 3, прави...     15  \n",
       "2  total: 15 / 15, тестовая выборка: 3 / 3, прави...     15  \n",
       "3  total: 15 / 15, тестовая выборка: 3 / 3, прави...     15  \n",
       "4  total: 15 / 15, тестовая выборка: 3 / 3, прави...     15  "
      ]
     },
     "execution_count": 50,
     "metadata": {},
     "output_type": "execute_result"
    }
   ],
   "source": [
    "student_id_to_name = students_df.set_index(\"student_id\")[\"ФИО\"]\n",
    "df.insert(0, \"ФИО\", df[\"student_id\"].map(student_id_to_name))\n",
    "df.head()"
   ]
  },
  {
   "cell_type": "code",
   "execution_count": 51,
   "id": "90f69d47-5641-4a86-9f0d-20a3b66725cf",
   "metadata": {},
   "outputs": [],
   "source": [
    "df.to_csv(\"hw_3_feedback.tsv\", sep=\"\\t\", index=False)"
   ]
  },
  {
   "cell_type": "code",
   "execution_count": null,
   "id": "cef495c8-3738-40c9-a2c4-582308e6d6a0",
   "metadata": {},
   "outputs": [],
   "source": []
  },
  {
   "cell_type": "code",
   "execution_count": null,
   "id": "949923c2-9da7-41da-9874-154cca490ebd",
   "metadata": {},
   "outputs": [],
   "source": []
  },
  {
   "cell_type": "code",
   "execution_count": null,
   "id": "a9c1f9d4-0a9a-4157-8ab8-a7c852fd1fce",
   "metadata": {},
   "outputs": [],
   "source": []
  },
  {
   "cell_type": "code",
   "execution_count": null,
   "id": "45593663-e84f-456a-a567-3053a0359cfa",
   "metadata": {},
   "outputs": [],
   "source": []
  },
  {
   "cell_type": "code",
   "execution_count": null,
   "id": "cf49578a-53e1-4c62-9b5b-257ca1b8518e",
   "metadata": {},
   "outputs": [],
   "source": []
  },
  {
   "cell_type": "code",
   "execution_count": null,
   "id": "20eba9d6-8b5a-4c33-b13c-8fafe0999b59",
   "metadata": {},
   "outputs": [],
   "source": []
  },
  {
   "cell_type": "code",
   "execution_count": null,
   "id": "e5e8328a-acc7-440d-86fc-12cdba9d3b5d",
   "metadata": {},
   "outputs": [],
   "source": []
  }
 ],
 "metadata": {
  "kernelspec": {
   "display_name": "Python 3 (ipykernel)",
   "language": "python",
   "name": "python3"
  },
  "language_info": {
   "codemirror_mode": {
    "name": "ipython",
    "version": 3
   },
   "file_extension": ".py",
   "mimetype": "text/x-python",
   "name": "python",
   "nbconvert_exporter": "python",
   "pygments_lexer": "ipython3",
   "version": "3.10.16"
  }
 },
 "nbformat": 4,
 "nbformat_minor": 5
}
