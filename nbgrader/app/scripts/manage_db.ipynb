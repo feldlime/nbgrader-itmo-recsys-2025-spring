{
 "cells": [
  {
   "cell_type": "code",
   "execution_count": 1,
   "id": "17aa4c95-f7cf-4574-90f3-102a62d7289d",
   "metadata": {},
   "outputs": [],
   "source": [
    "import sqlite3"
   ]
  },
  {
   "cell_type": "code",
   "execution_count": 4,
   "id": "53845641-6eca-4501-9a12-c49da6043bad",
   "metadata": {},
   "outputs": [],
   "source": [
    "DB_PATH = \"/app/gradebook.db\""
   ]
  },
  {
   "cell_type": "code",
   "execution_count": 5,
   "id": "a02d423e-0663-4e5a-ba17-a9c63a852daa",
   "metadata": {},
   "outputs": [],
   "source": [
    "conn = sqlite3.connect(DB_PATH)"
   ]
  },
  {
   "cell_type": "code",
   "execution_count": 7,
   "id": "14559340-e95f-491f-9448-490e3f6a1ad0",
   "metadata": {},
   "outputs": [],
   "source": [
    "sql = \"DELETE FROM submitted_assignment WHERE id = '6bcb74e957504c60bfce55379030fe66'\"\n",
    "conn.execute(sql)\n",
    "conn.commit()"
   ]
  },
  {
   "cell_type": "code",
   "execution_count": null,
   "id": "cf2dc9e2-10ef-409e-9456-f29a32e708e8",
   "metadata": {},
   "outputs": [],
   "source": []
  }
 ],
 "metadata": {
  "kernelspec": {
   "display_name": "Python 3 (ipykernel)",
   "language": "python",
   "name": "python3"
  },
  "language_info": {
   "codemirror_mode": {
    "name": "ipython",
    "version": 3
   },
   "file_extension": ".py",
   "mimetype": "text/x-python",
   "name": "python",
   "nbconvert_exporter": "python",
   "pygments_lexer": "ipython3",
   "version": "3.10.16"
  }
 },
 "nbformat": 4,
 "nbformat_minor": 5
}
