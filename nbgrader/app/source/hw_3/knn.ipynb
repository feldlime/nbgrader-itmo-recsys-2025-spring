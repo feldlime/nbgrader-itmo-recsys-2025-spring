{
 "cells": [
  {
   "cell_type": "markdown",
   "id": "df183879-3cc9-4598-8111-6f9aab4c0e9a",
   "metadata": {
    "nbgrader": {
     "grade": false,
     "grade_id": "cell-8619aa6f1d11d3e0",
     "locked": true,
     "schema_version": 3,
     "solution": false,
     "task": false
    }
   },
   "source": [
    "# Домашнее задание №3. Вариант рекомендательной системы с knn"
   ]
  },
  {
   "cell_type": "code",
   "execution_count": 28,
   "id": "86de5ff6-ae70-4882-8c2c-671bd4e36e1f",
   "metadata": {
    "nbgrader": {
     "grade": false,
     "grade_id": "cell-6520937952d69a16",
     "locked": true,
     "schema_version": 3,
     "solution": false,
     "task": false
    }
   },
   "outputs": [],
   "source": [
    "from collections import Counter\n",
    "from typing import Union\n",
    "\n",
    "import implicit\n",
    "import rectools\n",
    "import requests\n",
    "import scipy as sp\n",
    "import numpy as np\n",
    "import pandas as pd\n",
    "from rectools import Columns\n",
    "from rectools.metrics import MAP, MeanInvUserFreq\n",
    "from rectools.dataset import Dataset\n",
    "from scipy.sparse import coo_matrix, spmatrix\n",
    "from implicit.nearest_neighbours import ItemItemRecommender"
   ]
  },
  {
   "cell_type": "code",
   "execution_count": 39,
   "id": "8710b1c2-947f-4ea7-be09-2fbd1298013b",
   "metadata": {
    "nbgrader": {
     "grade": false,
     "grade_id": "cell-93a83ccdf573ad30",
     "locked": true,
     "schema_version": 3,
     "solution": false,
     "task": false
    }
   },
   "outputs": [
    {
     "name": "stdout",
     "output_type": "stream",
     "text": [
      "implicit: 0.7.2\n",
      "requests: 2.32.3\n",
      "rectools: 0.12.0\n",
      "pandas: 2.2.3\n",
      "numpy: 1.26.4\n",
      "scipy: 1.12.0\n"
     ]
    }
   ],
   "source": [
    "print(\"implicit:\", implicit.__version__)\n",
    "print(\"requests:\", requests.__version__)\n",
    "print(\"rectools:\", rectools.__version__)\n",
    "print(\"pandas:\", pd.__version__)\n",
    "print(\"numpy:\", np.__version__)\n",
    "print(\"scipy:\", sp.__version__)"
   ]
  },
  {
   "cell_type": "code",
   "execution_count": 4,
   "id": "f5f7b564-5a54-42d7-9b07-bccc45500901",
   "metadata": {
    "nbgrader": {
     "grade": false,
     "grade_id": "cell-9ff78718038dcc04",
     "locked": true,
     "schema_version": 3,
     "solution": false,
     "task": false
    }
   },
   "outputs": [
    {
     "name": "stdout",
     "output_type": "stream",
     "text": [
      "Archive:  kion_train.zip\n",
      "   creating: data_original/\n",
      "  inflating: data_original/interactions.csv  \n",
      "  inflating: data_original/users.csv  \n",
      "  inflating: data_original/items.csv  \n",
      "CPU times: user 488 ms, sys: 123 ms, total: 611 ms\n",
      "Wall time: 19.3 s\n"
     ]
    }
   ],
   "source": [
    "%%time\n",
    "\n",
    "!wget -q https://github.com/irsafilo/KION_DATASET/raw/f69775be31fa5779907cf0a92ddedb70037fb5ae/data_original.zip -O kion_train.zip\n",
    "!unzip -o kion_train.zip -x '__MACOSX/*'\n",
    "!rm kion_train.zip"
   ]
  },
  {
   "cell_type": "code",
   "execution_count": 5,
   "id": "c964a927-5d4f-431e-88a7-38ff6370796d",
   "metadata": {
    "nbgrader": {
     "grade": false,
     "grade_id": "cell-b42aa4e57bf28d60",
     "locked": true,
     "schema_version": 3,
     "solution": false,
     "task": false
    }
   },
   "outputs": [
    {
     "name": "stdout",
     "output_type": "stream",
     "text": [
      "(5476251, 5)\n"
     ]
    },
    {
     "data": {
      "text/html": [
       "<div>\n",
       "<style scoped>\n",
       "    .dataframe tbody tr th:only-of-type {\n",
       "        vertical-align: middle;\n",
       "    }\n",
       "\n",
       "    .dataframe tbody tr th {\n",
       "        vertical-align: top;\n",
       "    }\n",
       "\n",
       "    .dataframe thead th {\n",
       "        text-align: right;\n",
       "    }\n",
       "</style>\n",
       "<table border=\"1\" class=\"dataframe\">\n",
       "  <thead>\n",
       "    <tr style=\"text-align: right;\">\n",
       "      <th></th>\n",
       "      <th>user_id</th>\n",
       "      <th>item_id</th>\n",
       "      <th>datetime</th>\n",
       "      <th>weight</th>\n",
       "      <th>watched_pct</th>\n",
       "    </tr>\n",
       "  </thead>\n",
       "  <tbody>\n",
       "    <tr>\n",
       "      <th>0</th>\n",
       "      <td>176549</td>\n",
       "      <td>9506</td>\n",
       "      <td>2021-05-11</td>\n",
       "      <td>4250</td>\n",
       "      <td>72.0</td>\n",
       "    </tr>\n",
       "    <tr>\n",
       "      <th>1</th>\n",
       "      <td>699317</td>\n",
       "      <td>1659</td>\n",
       "      <td>2021-05-29</td>\n",
       "      <td>8317</td>\n",
       "      <td>100.0</td>\n",
       "    </tr>\n",
       "    <tr>\n",
       "      <th>2</th>\n",
       "      <td>656683</td>\n",
       "      <td>7107</td>\n",
       "      <td>2021-05-09</td>\n",
       "      <td>10</td>\n",
       "      <td>0.0</td>\n",
       "    </tr>\n",
       "    <tr>\n",
       "      <th>3</th>\n",
       "      <td>864613</td>\n",
       "      <td>7638</td>\n",
       "      <td>2021-07-05</td>\n",
       "      <td>14483</td>\n",
       "      <td>100.0</td>\n",
       "    </tr>\n",
       "    <tr>\n",
       "      <th>4</th>\n",
       "      <td>964868</td>\n",
       "      <td>9506</td>\n",
       "      <td>2021-04-30</td>\n",
       "      <td>6725</td>\n",
       "      <td>100.0</td>\n",
       "    </tr>\n",
       "  </tbody>\n",
       "</table>\n",
       "</div>"
      ],
      "text/plain": [
       "   user_id  item_id   datetime  weight  watched_pct\n",
       "0   176549     9506 2021-05-11    4250         72.0\n",
       "1   699317     1659 2021-05-29    8317        100.0\n",
       "2   656683     7107 2021-05-09      10          0.0\n",
       "3   864613     7638 2021-07-05   14483        100.0\n",
       "4   964868     9506 2021-04-30    6725        100.0"
      ]
     },
     "execution_count": 5,
     "metadata": {},
     "output_type": "execute_result"
    }
   ],
   "source": [
    "interactions = (\n",
    "    pd.read_csv('data_original/interactions.csv', parse_dates=[\"last_watch_dt\"])\n",
    "    .rename(columns={'total_dur': Columns.Weight,\n",
    "                     'last_watch_dt': Columns.Datetime})\n",
    ")\n",
    "users = pd.read_csv('data_original/users.csv')\n",
    "items = pd.read_csv('data_original/items.csv')\n",
    "\n",
    "print(interactions.shape)\n",
    "interactions.head(5)"
   ]
  },
  {
   "cell_type": "markdown",
   "id": "6e79119c-f196-4899-b0b9-54e0af3af38e",
   "metadata": {
    "nbgrader": {
     "grade": false,
     "grade_id": "cell-52b23c87b1866217",
     "locked": true,
     "schema_version": 3,
     "solution": false,
     "task": false
    }
   },
   "source": [
    "# Ситуация: \n",
    "\n",
    "Ваш коллега ушел в отпуск, оставив вам недописанную модель в `userknn.py` (код из семинара №3 будет в ячейке этого ноутбука далее)\n",
    "\n",
    "Через 3 дня ее нужно выкатить в А/B тест. Это значит, что модель должна уметь выдавать рекомендации размера `k` любым пользователям (холодным / горячим). \n",
    "\n",
    "Требуется дописать методы класса UserKnn:\n",
    "\n",
    "- метод, который выдает рекомендации холодным пользователям (сейчас модель этого не умеет)\n",
    "- в методе, который выдает рекомендации горячим пользователям, дописать код так, чтобы у всех было одинаковое кол-во рекомендаций k, а не меньше k, как сейчас.\n",
    "\n",
    "Также была договоренность, что перед выкаткой вы покажете продакт менеджеру финальные значения по оффлайн метрикам."
   ]
  },
  {
   "cell_type": "markdown",
   "id": "303d4c04-3785-484b-9f5b-069cb6e4636e",
   "metadata": {
    "nbgrader": {
     "grade": false,
     "grade_id": "cell-b654fb723ac79668",
     "locked": true,
     "schema_version": 3,
     "solution": false,
     "task": false
    }
   },
   "source": [
    "# Готовим тестовую выборку\n",
    "\n",
    "Здесь и далее жестко фиксируем тестовую выборку **ровно последние 14 дней из `interactions`**  - по результатам на ней будут выставляться баллы\n",
    "\n",
    "Сохраните тестовую выборку (тестовые interactions) в pandas DataFrame и назовите его `test`. \n",
    "\n",
    "Оставьте в нем все поля из `interactions`. Удостоверьтесь, что формат полей следующий:\n",
    "\n",
    "    Column   Dtype         \n",
    " - user_id -    int64         \n",
    " - item_id -    int64         \n",
    " - datetime -   datetime64\n",
    " - weight -      int64         \n",
    " - watched_pct - float64    \n"
   ]
  },
  {
   "cell_type": "code",
   "execution_count": 6,
   "id": "1e36493a-5da4-4cd6-b8d7-cb2652d683ba",
   "metadata": {
    "nbgrader": {
     "grade": false,
     "grade_id": "cell-d6819c2c430a8e75",
     "locked": false,
     "schema_version": 3,
     "solution": true,
     "task": false
    }
   },
   "outputs": [],
   "source": [
    "### BEGIN SOLUTION\n",
    "N_DAYS = 14\n",
    "\n",
    "max_date = interactions['datetime'].max()\n",
    "train = interactions[(interactions['datetime'] <= max_date - pd.Timedelta(days=N_DAYS))]\n",
    "test = interactions[(interactions['datetime'] > max_date - pd.Timedelta(days=N_DAYS))]\n",
    "### END SOLUTION"
   ]
  },
  {
   "cell_type": "markdown",
   "id": "2925c9d4-1678-440a-abde-5403ec7fa557",
   "metadata": {
    "nbgrader": {
     "grade": false,
     "grade_id": "cell-b375f544307c12a0",
     "locked": true,
     "schema_version": 3,
     "solution": false,
     "task": false
    }
   },
   "source": [
    "## Проверка:  тестовая выборка - 3 балла\n",
    "\n",
    "Внимание! Есть скрытые тесты "
   ]
  },
  {
   "cell_type": "code",
   "execution_count": 7,
   "id": "317056ee-8974-46ba-bbe2-d2f5a8f330e8",
   "metadata": {
    "nbgrader": {
     "grade": true,
     "grade_id": "cell-d4177ea915281721",
     "locked": true,
     "points": 3,
     "schema_version": 3,
     "solution": false,
     "task": false
    }
   },
   "outputs": [],
   "source": [
    "assert isinstance(test, pd.DataFrame)\n",
    "assert test.datetime.nunique() == 14\n",
    "\n",
    "expected_mean = 6887.2\n",
    "actual_mean = round(test['weight'].mean(), 1)\n",
    "assert abs(actual_mean - expected_mean) < 0.001\n",
    "\n",
    "### BEGIN HIDDEN TESTS\n",
    "\n",
    "# тест на соответствие user_id\n",
    "user_ids = {995862, 211739, 323802, 475035, 238781, 619481, 776999, 496770,\n",
    "            70969,  84642, 931062,  91743, 825195, 750113, 5398}\n",
    "assert user_ids.issubset(set(test.user_id))\n",
    "\n",
    "# тест на соответствие item_id\n",
    "item_ids = {2130,   657,   308, 10761, 16166, 14591, 13865,  3734, 13018,\n",
    "        8169,  7280,  5906, 14488, 12201, 10884}\n",
    "assert item_ids.issubset(set(test.item_id))\n",
    "\n",
    "### END HIDDEN TESTS"
   ]
  },
  {
   "cell_type": "markdown",
   "id": "39d737c4-2f0c-45f0-ae0e-2ed1d37ba113",
   "metadata": {
    "nbgrader": {
     "grade": false,
     "grade_id": "cell-305dab6e173e62b4",
     "locked": true,
     "schema_version": 3,
     "solution": false,
     "task": false
    }
   },
   "source": [
    "# Код модели\n",
    "\n",
    "Допишите методы `fit_cold_model` и  `recommend_cold`, которые делают рекомендации холодным пользователям (сейчас модель этого не умеет)"
   ]
  },
  {
   "cell_type": "code",
   "execution_count": 12,
   "id": "7aee4dce-4e2d-410b-8997-6ae2d4de1e20",
   "metadata": {
    "nbgrader": {
     "grade": false,
     "grade_id": "cell-fc1beb2c90026cfd",
     "locked": false,
     "schema_version": 3,
     "solution": true,
     "task": false
    }
   },
   "outputs": [],
   "source": [
    "class UserKnn:\n",
    "    \"\"\"\n",
    "    A user-based KNN model wrapper around `implicit.nearest_neighbours.ItemItemRecommender`\n",
    "    \"\"\"\n",
    "\n",
    "    SIMILAR_USER_COLUMN = \"similar_user_id\"\n",
    "    SIMILARITY_COLUMN = \"similarity\"\n",
    "    IDF_COLUMN = \"idf\"\n",
    "\n",
    "    def __init__(self, model: ItemItemRecommender, N_similar_users: int):\n",
    "        self.model = model\n",
    "        self.N_similar_users = N_similar_users\n",
    "\n",
    "        self.users_inv_mapping = None\n",
    "        self.users_mapping = None\n",
    "        self.items_inv_mapping = None\n",
    "        self.items_mapping = None\n",
    "\n",
    "        self.watched_items_dataframe = None\n",
    "        self.item_idf = None\n",
    "        self.cold_model_fitted = False\n",
    "\n",
    "    def _set_mappings(self, interactions: pd.DataFrame) -> None:\n",
    "        \"\"\"\n",
    "        Create dictionaries to map external IDs (users, items) to internal IDs and vice versa.\n",
    "        \"\"\"\n",
    "        unique_users = interactions[Columns.User].unique()\n",
    "        self.users_inv_mapping = dict(enumerate(unique_users))\n",
    "        self.users_mapping = {v: k for k, v in self.users_inv_mapping.items()}\n",
    "\n",
    "        unique_items = interactions[Columns.Item].unique()\n",
    "        self.items_inv_mapping = dict(enumerate(unique_items))\n",
    "        self.items_mapping = {v: k for k, v in self.items_inv_mapping.items()}\n",
    "\n",
    "    def _get_user_item_matrix(self, interactions: pd.DataFrame) -> spmatrix:\n",
    "        \"\"\"\n",
    "        Construct a sparse user-item matrix in CSR format.\n",
    "        Rows represent users, and columns represent items.\n",
    "        \"\"\"\n",
    "        user_idx = interactions[Columns.User].map(self.users_mapping.get)\n",
    "        item_idx = interactions[Columns.Item].map(self.items_mapping.get)\n",
    "        data = interactions[Columns.Weight].astype(np.float32)\n",
    "\n",
    "        user_item_coo = coo_matrix((data, (user_idx, item_idx)))\n",
    "        return user_item_coo.tocsr()\n",
    "\n",
    "    def _set_interacted_items_dataframe(self, interactions: pd.DataFrame) -> None:\n",
    "        \"\"\"\n",
    "        Groups interactions by user to get item_id list for each user\n",
    "        \"\"\"\n",
    "        self.interacted_items_dataframe = (\n",
    "            interactions.groupby(Columns.User, as_index=False)\n",
    "            .agg({Columns.Item: list})\n",
    "            .rename(columns={Columns.User: self.SIMILAR_USER_COLUMN})\n",
    "        )\n",
    "\n",
    "    @staticmethod\n",
    "    def idf(n: int, x: float):\n",
    "        \"\"\"\n",
    "        Calculates IDF for one item\n",
    "        \"\"\"\n",
    "        return np.log((1 + n) / (1 + x) + 1)\n",
    "\n",
    "    def _count_item_idf(self, interactions: pd.DataFrame) -> None:\n",
    "        \"\"\"\n",
    "        Calculate IDF values for all items present in the interactions dataset\n",
    "         and store the result in self.item_idf.\n",
    "        \"\"\"\n",
    "        item_freqs = Counter(interactions[Columns.Item].values)\n",
    "        item_idf_df = (\n",
    "            pd.DataFrame\n",
    "            .from_dict(item_freqs, orient=\"index\", columns=[\"doc_freq\"])\n",
    "            .reset_index()\n",
    "        )\n",
    "        total_interactions = len(interactions)\n",
    "        item_idf_df[self.IDF_COLUMN] = item_idf_df[\"doc_freq\"].apply(\n",
    "            lambda x: self.idf(total_interactions, x)\n",
    "        )\n",
    "        self.item_idf = item_idf_df\n",
    "\n",
    "    def _prepare_for_model(self, train_interactions: pd.DataFrame) -> None:\n",
    "        \"\"\"\n",
    "        Sets mappings, grouped interactions, calculates idf\n",
    "        \"\"\"\n",
    "        self._set_mappings(train_interactions)\n",
    "        self._set_interacted_items_dataframe(train_interactions)\n",
    "        self._count_item_idf(train_interactions)\n",
    "\n",
    "    def fit_cold_model(self, train_interactions: pd.DataFrame) -> None:\n",
    "        \"\"\"\n",
    "        Fit a model for cold recommendations.\n",
    "\n",
    "        Parameters:\n",
    "        train_interactions (pd.DataFrame): interaction data used to train the model.\n",
    "        \"\"\"\n",
    "        ### BEGIN SOLUTION\n",
    "        from rectools.models import PopularModel\n",
    "        self.cold_model = PopularModel(popularity=\"n_interactions\")\n",
    "        self.dataset = Dataset.construct(train_interactions)\n",
    "        self.cold_model.fit(self.dataset)\n",
    "        self.cold_model_fitted = True\n",
    "\n",
    "        ### END SOLUTION\n",
    "\n",
    "    def recommend_cold(self, users: Union[list, np.array],\n",
    "                        k: int = 100) -> pd.DataFrame:\n",
    "        \"\"\"\n",
    "        Return recommendations for the given cold users.\n",
    "        Can be called separately or within the class. Supports both list and numpy array as input.\n",
    "\n",
    "        Parameters:\n",
    "        users (list | np.array): List or array of users for whom recommendations will be generated.\n",
    "        k (int, optional): Number of recommendations to generate per user. Default is 100.\n",
    "\n",
    "        Returns:\n",
    "        pd.DataFrame: A dataframe containing user-item recommendations.\n",
    "        \"\"\"\n",
    "        \n",
    "        ### BEGIN SOLUTION\n",
    "\n",
    "        if not getattr(self, \"cold_model_fitted\", False):\n",
    "            raise ValueError(\"Cold model is not fitted. Call `fit_cold_model(train_interactions)` first.\")\n",
    "\n",
    "        return self.cold_model.recommend(users, self.dataset, k=k, filter_viewed=False)\n",
    "\n",
    "        ### END SOLUTION\n",
    "\n",
    "    def fit(self, train_interactions: pd.DataFrame) -> None:\n",
    "        \"\"\"\n",
    "        Fit the model on the provided training data.\n",
    "\n",
    "        Internally:\n",
    "        1) Prepare mappings, watchlist DataFrame, and item IDF.\n",
    "        2) Create a user-item matrix and fit the underlying Implicit model.\n",
    "        \"\"\"\n",
    "        self._prepare_for_model(train_interactions)\n",
    "        user_item_matrix = self._get_user_item_matrix(train_interactions)\n",
    "        self.model.fit(user_item_matrix.T)\n",
    "        ### BEGIN SOLUTION\n",
    "        self.fit_cold_model(train_interactions)\n",
    "        ### END SOLUTION\n",
    "\n",
    "    def _get_similar_users(self, external_user_id: int) -> tuple[list[int], list[float]]:\n",
    "        \"\"\"\n",
    "        Retrieve a list of similar users and corresponding similarities\n",
    "        from the underlying Implicit model.\n",
    "        \"\"\"\n",
    "        if external_user_id not in self.users_mapping:\n",
    "            # if user doesn't exist in mapping, return sentinel (-1).\n",
    "            return [-1], [-1]\n",
    "\n",
    "        internal_user_id = self.users_mapping[external_user_id]\n",
    "        user_ids, similarities = self.model.similar_items(\n",
    "            internal_user_id,\n",
    "            N=self.N_similar_users\n",
    "        )\n",
    "        # convert back to external IDs\n",
    "        external_user_ids = [self.users_inv_mapping[u_id] for u_id in user_ids]\n",
    "        return external_user_ids, similarities\n",
    "\n",
    "    @staticmethod\n",
    "    def get_rank(recs: pd.DataFrame, k: int) -> pd.DataFrame:\n",
    "        \"\"\"\n",
    "        Sort recommendations by score in descending order,\n",
    "        assign ranks within each user group, and then truncate by top-k.\n",
    "        \"\"\"\n",
    "        recs = recs.sort_values([Columns.User, Columns.Score], ascending=False)\n",
    "        recs = recs.drop_duplicates([Columns.User, Columns.Item])\n",
    "        recs[Columns.Rank] = recs.groupby(Columns.User).cumcount() + 1\n",
    "        recs = recs[recs[Columns.Rank] <= k][\n",
    "            [Columns.User, Columns.Item, Columns.Score, Columns.Rank]\n",
    "        ]\n",
    "\n",
    "        return recs\n",
    "\n",
    "    def recommend(self, users: np.ndarray, k: int) -> pd.DataFrame:\n",
    "        \"\"\"\n",
    "        Generate top-k recommendations for the specified list of users.\n",
    "\n",
    "        Steps:\n",
    "        1) Find similar users for each target user.\n",
    "        2) Join watched items from these similar users.\n",
    "        3) Compute a final score as similarity * IDF.\n",
    "        4) Return top-k items per user.\n",
    "        \"\"\"\n",
    "\n",
    "        recs = pd.DataFrame({Columns.User: users})\n",
    "        recs[self.SIMILAR_USER_COLUMN], recs[self.SIMILARITY_COLUMN] = zip(\n",
    "            *recs[Columns.User].map(lambda user_id: self._get_similar_users(user_id))\n",
    "        )\n",
    "        recs = recs.set_index(Columns.User).apply(pd.Series.explode).reset_index()\n",
    "\n",
    "        recs = (\n",
    "            recs[~(recs[Columns.User] == recs[self.SIMILAR_USER_COLUMN])]\n",
    "            .merge(\n",
    "                self.interacted_items_dataframe,\n",
    "                on=[self.SIMILAR_USER_COLUMN],\n",
    "                how=\"left\",\n",
    "            )\n",
    "            .explode(Columns.Item)\n",
    "            .sort_values([Columns.User, self.SIMILARITY_COLUMN], ascending=False)\n",
    "            .drop_duplicates([Columns.User, Columns.Item], keep=\"first\")\n",
    "            .merge(self.item_idf, left_on=Columns.Item, right_on=\"index\", how=\"left\")\n",
    "        )\n",
    "\n",
    "        recs[Columns.Score] = recs[self.SIMILARITY_COLUMN] * recs[self.IDF_COLUMN]\n",
    "        recs = recs[[Columns.User, Columns.Item, Columns.Score]]\n",
    "\n",
    "        # подсказка: здесь нужно добавить рекомендаций до k\n",
    "        ### BEGIN SOLUTION\n",
    "        cold_recs = self.recommend_cold(users, k=k * 3).copy()\n",
    "        cold_recs[Columns.Score] = 0  # Обнуляем Score для холодных рекомендаций чтобы они уехали вниз сортировки\n",
    "        recs = pd.concat([recs, cold_recs])\n",
    "        ### END SOLUTION\n",
    "\n",
    "        recs = self.get_rank(recs, k=k)\n",
    "        return recs"
   ]
  },
  {
   "cell_type": "markdown",
   "id": "0c1d67d2-3250-4eef-82b4-0b99ab704fc2",
   "metadata": {
    "nbgrader": {
     "grade": false,
     "grade_id": "cell-a166ec0fd3451e8e",
     "locked": true,
     "schema_version": 3,
     "solution": false,
     "task": false
    }
   },
   "source": [
    "# Рекомендации для холодных пользователей\n",
    "\n",
    "Используйте метод класса UseKnn, который выдает рекомендации холодным пользователям. \n",
    "\n",
    "### Порекомендуйте k=10 уникальных айтемов для каждого холодного пользователя из тестовой выборки. Сохраните рекомендации в pandas DataFrame и назовите его `reco_cold`. \n",
    "\n",
    "Датафрейм `reco_cold` должен иметь обязательные поля `user_id`, `item_id`, `rank`. \n",
    "\n",
    "⚠️ Холодными считаем пользователей, у которых нет интеракций в train. \n"
   ]
  },
  {
   "cell_type": "code",
   "execution_count": 13,
   "id": "d5ec40d2-4492-457e-979a-216f0f8eca56",
   "metadata": {
    "nbgrader": {
     "grade": false,
     "grade_id": "cell-17c883b2dac9bb3d",
     "locked": false,
     "schema_version": 3,
     "solution": true,
     "task": false
    }
   },
   "outputs": [],
   "source": [
    "### BEGIN SOLUTION\n",
    "from implicit.nearest_neighbours import CosineRecommender\n",
    "\n",
    "model_cold = UserKnn(model=CosineRecommender(), N_similar_users=30)\n",
    "model_cold.fit_cold_model(train)\n",
    "\n",
    "cold_users = list(set(test['user_id']) - set(train['user_id']))\n",
    "reco_cold = model_cold.recommend_cold(users=cold_users, k=10)\n",
    "### END SOLUTION"
   ]
  },
  {
   "cell_type": "markdown",
   "id": "cbbf2398-ca7e-4ddc-81a8-e544bb7a514a",
   "metadata": {
    "nbgrader": {
     "grade": false,
     "grade_id": "cell-7715e1c14df33d58",
     "locked": true,
     "schema_version": 3,
     "solution": false,
     "task": false
    }
   },
   "source": [
    "## Проверка рекомендаций по холодным пользователям - 4 балла\n",
    "\n",
    "Внимание! Есть скрытые тесты "
   ]
  },
  {
   "cell_type": "code",
   "execution_count": 26,
   "id": "ea15f061-9a08-48f0-ad5d-8e05b39df162",
   "metadata": {
    "nbgrader": {
     "grade": true,
     "grade_id": "cell-e5bf7a9e20d1865a",
     "locked": true,
     "points": 2,
     "schema_version": 3,
     "solution": false,
     "task": false
    }
   },
   "outputs": [],
   "source": [
    "# проверка правильности формирования холодных рекомендаций - 2 балл\n",
    "\n",
    "assert isinstance(reco_cold, pd.DataFrame)\n",
    "\n",
    "expected_columns = {'user_id', 'item_id', 'rank'}\n",
    "assert expected_columns.issubset(set(reco_cold.columns))\n",
    "\n",
    "assert reco_cold.user_id.nunique() == 111690\n",
    "\n",
    "assert (reco_cold.groupby('user_id')['item_id'].nunique() == 10).all(), \\\n",
    "    \"Ошибка: у каждого user_id должно быть ровно 10 уникальных item_id\"\n",
    "\n",
    "### BEGIN HIDDEN TESTS\n",
    "\n",
    "# невозможность передать test вместо рекомендаций\n",
    "assert 'rank' not in test.columns\n",
    "assert not reco_cold[['user_id', 'item_id']].equals(test[['user_id', 'item_id']])\n",
    "\n",
    "### END HIDDEN TESTS"
   ]
  },
  {
   "cell_type": "code",
   "execution_count": 27,
   "id": "12b67784-3415-4cc8-87d4-7f8ad86abc1f",
   "metadata": {
    "nbgrader": {
     "grade": true,
     "grade_id": "cell-4c0fc9cecc555068",
     "locked": true,
     "points": 2,
     "schema_version": 3,
     "solution": false,
     "task": false
    }
   },
   "outputs": [],
   "source": [
    "# проверка метрик качества холодных рекомендаций на полном test - 2 балла\n",
    "assert (MAP(k=10).calc(reco_cold, test) >= 0.04 \n",
    "    and MAP(k=10).calc(reco_cold, test) < 0.98)\n",
    "\n",
    "### BEGIN HIDDEN TESTS\n",
    "\n",
    "# невозможность передать test вместо рекомендаций\n",
    "assert 'rank' not in test.columns\n",
    "assert not reco_cold[['user_id', 'item_id']].equals(test[['user_id', 'item_id']])\n",
    "\n",
    "### END HIDDEN TESTS"
   ]
  },
  {
   "cell_type": "markdown",
   "id": "485d41a9-c3a6-441a-ae33-50bd7e615fb5",
   "metadata": {
    "nbgrader": {
     "grade": false,
     "grade_id": "cell-f826c221b0cbbfac",
     "locked": true,
     "schema_version": 3,
     "solution": false,
     "task": false
    }
   },
   "source": [
    "# Рекомендации для горячих пользователей\n",
    "\n",
    "Допишите метод `recommend` класса UseKnn так, чтобы он выдавал ровно k рекомендаций (сейчас он выдает некоторым пользователям меньше k, особенность implicit knn модели)\n",
    "\n",
    "### Порекомендуйте k=10 уникальных айтемов для каждого горячего пользователя из тестовой выборки. Сохраните рекомендации в pandas DataFrame и назовите его `reco_hot`\n",
    "\n",
    "датафрейм `reco_hot` ддолжен иметь обязательные поля `user_id`, `item_id`, `rank`. \n",
    "\n",
    "⚠️ горячими считаем пользователей, у которых ЕСТЬ любое количество интеракции в train. "
   ]
  },
  {
   "cell_type": "markdown",
   "id": "a9b5c1a6-f0de-4654-aa0e-6dc4ef47eb6e",
   "metadata": {
    "nbgrader": {
     "grade": false,
     "grade_id": "cell-9da215470ae745ce",
     "locked": true,
     "schema_version": 3,
     "solution": false,
     "task": false
    }
   },
   "source": [
    "## Hack в помощь\n",
    "\n",
    "Дело к близится к вечеру, продакт менеджер торопит Вас.\n",
    "\n",
    "А код userknn фитится долго, потому что кто-то запихнул в него весь train с over 900 тыс пользователей. \n",
    "\n",
    "Вы решаете аккуратно уменьшить трейн\n",
    "\n",
    "- `возьмите только последние 30 дней датасета в трейн`\n"
   ]
  },
  {
   "cell_type": "code",
   "execution_count": 20,
   "id": "30aac080-b14c-4150-a76b-ae7a04f38bfc",
   "metadata": {
    "nbgrader": {
     "grade": false,
     "grade_id": "cell-2df2fc8cf4a17ae8",
     "locked": false,
     "schema_version": 3,
     "solution": true,
     "task": false
    }
   },
   "outputs": [],
   "source": [
    "### BEGIN SOLUTION\n",
    "N_DAYS_TRAIN = 30  # сколько дней оставляем в train\n",
    "\n",
    "# Определяем пользователей из test\n",
    "test_users = set(test['user_id'])\n",
    "\n",
    "# Оставляем только строки, где user_id есть в test\n",
    "train = train[train['user_id'].isin(test_users)]\n",
    "\n",
    "# Оставляем только последние N дней train\n",
    "train = train[train['datetime'] >= train['datetime'].max() - pd.Timedelta(days=N_DAYS_TRAIN)]\n",
    "\n",
    "hot_users = list(set(test['user_id']) & set(train['user_id']))\n",
    "### END SOLUTION"
   ]
  },
  {
   "cell_type": "markdown",
   "id": "fca48b63-820d-4e2e-b1f2-fd5ed3c3b7a7",
   "metadata": {
    "nbgrader": {
     "grade": false,
     "grade_id": "cell-0b479a71153fc48a",
     "locked": true,
     "schema_version": 3,
     "solution": false,
     "task": false
    }
   },
   "source": [
    "Обучите модель, сделайте рекомендации `reco_hot` "
   ]
  },
  {
   "cell_type": "code",
   "execution_count": 17,
   "id": "b28d1e8b-05da-46c6-9d92-a80105af84a9",
   "metadata": {
    "nbgrader": {
     "grade": false,
     "grade_id": "cell-fb4fb28c7add6bc9",
     "locked": false,
     "schema_version": 3,
     "solution": true,
     "task": false
    }
   },
   "outputs": [
    {
     "name": "stderr",
     "output_type": "stream",
     "text": [
      "/Users/elisovaira/opt/anaconda3/envs/itmo_311/lib/python3.11/site-packages/implicit/utils.py:164: ParameterWarning: Method expects CSR input, and was passed coo_matrix instead. Converting to CSR took 0.0037920475006103516 seconds\n",
      "  warnings.warn(\n"
     ]
    },
    {
     "data": {
      "application/vnd.jupyter.widget-view+json": {
       "model_id": "7e24b0e4a8e64e8485d9aa90288749b5",
       "version_major": 2,
       "version_minor": 0
      },
      "text/plain": [
       "  0%|          | 0/128070 [00:00<?, ?it/s]"
      ]
     },
     "metadata": {},
     "output_type": "display_data"
    }
   ],
   "source": [
    "### BEGIN SOLUTION\n",
    "from implicit.nearest_neighbours import CosineRecommender\n",
    "\n",
    "model_hot = UserKnn(model=CosineRecommender(), N_similar_users=30)\n",
    "model_hot.fit(train)\n",
    "\n",
    "reco_hot = model_hot.recommend(hot_users, k=10)\n",
    "\n",
    "### END SOLUTION"
   ]
  },
  {
   "cell_type": "markdown",
   "id": "bd2e6480-5430-4a1e-9eae-56e68cf56522",
   "metadata": {
    "nbgrader": {
     "grade": false,
     "grade_id": "cell-8785fd65a997d897",
     "locked": true,
     "schema_version": 3,
     "solution": false,
     "task": false
    }
   },
   "source": [
    "## Проверка рекомендаций по горячим пользователям - 8 баллов\n",
    "\n",
    "Внимание! Есть скрытые тесты "
   ]
  },
  {
   "cell_type": "code",
   "execution_count": 21,
   "id": "d31b0bf5-cf6e-4bf7-b19f-c8d3fc92f7aa",
   "metadata": {
    "nbgrader": {
     "grade": true,
     "grade_id": "cell-8c1fb777f3ad7af5",
     "locked": true,
     "points": 3,
     "schema_version": 3,
     "solution": false,
     "task": false
    }
   },
   "outputs": [],
   "source": [
    "# проверки на правильность формирования reco_hot - 3 балла за все проверки в ячейке\n",
    "\n",
    "assert isinstance(reco_hot, pd.DataFrame)\n",
    "\n",
    "expected_columns = {'user_id', 'item_id', 'rank'}\n",
    "assert expected_columns.issubset(set(reco_hot.columns))\n",
    "\n",
    "assert reco_hot.user_id.nunique() == 128070\n",
    "\n",
    "### BEGIN HIDDEN TESTS\n",
    "\n",
    "assert 'rank' not in test.columns\n",
    "assert not reco_hot[['user_id', 'item_id']].equals(test[['user_id', 'item_id']])\n",
    "\n",
    "### END HIDDEN TESTS"
   ]
  },
  {
   "cell_type": "code",
   "execution_count": 22,
   "id": "579efc4d-9c3e-4e6b-89c2-0301b8fcc3f4",
   "metadata": {
    "nbgrader": {
     "grade": true,
     "grade_id": "cell-68ad1626e291a863",
     "locked": true,
     "points": 5,
     "schema_version": 3,
     "solution": false,
     "task": false
    }
   },
   "outputs": [],
   "source": [
    "# проверки на метрики - 5 баллов за все проверки в ячейке\n",
    "\n",
    "assert (reco_hot.groupby('user_id')['item_id'].nunique() == 10).all(), \\\n",
    "    \"Ошибка: у каждого user_id должно быть ровно 10 уникальных item_id\"\n",
    "\n",
    "assert (MAP(k=10).calc(reco_hot, test) <= 0.04 \n",
    "    and MeanInvUserFreq(k=10).calc(reco_hot, test) > 7.)\n",
    "\n",
    "### BEGIN HIDDEN TESTS\n",
    "\n",
    "assert 'rank' not in test.columns\n",
    "assert not reco_hot[['user_id', 'item_id']].equals(test[['user_id', 'item_id']])\n",
    "\n",
    "### END HIDDEN TESTS"
   ]
  },
  {
   "cell_type": "markdown",
   "id": "91cd9a1a-f9f8-482b-b938-134e0f7db092",
   "metadata": {
    "nbgrader": {
     "grade": false,
     "grade_id": "cell-0feb2f8cb349b80c",
     "locked": true,
     "schema_version": 3,
     "solution": false,
     "task": false
    }
   },
   "source": [
    "# Как сдать ноутбук `knn.ipynb` на проверку\n",
    "\n",
    "⚠️ Важное замечание: чтобы ваш ноутбук смог пройти проверку, скопируйте код класса `UserKnn` из `userknn.py` в этот ноутбук. Мы не можем гарантировать, что импорты из py файла будут работать.\n",
    "\n",
    "1. Прогоните весь код ноутбука - проверьте, что нет ошибок и тесты проходят\n",
    "2. Выложите готовый ноутбук в ваш репозиторий с сервисом из домашнего задания №1 по пути `notebooks/hw_3/knn.ipynb` в ветке `hw_3`\n",
    "\n",
    "3. Проверьте, что есть доступ к вашему репозиторию для аккаунтов `https://github.com/feldlime`\n",
    "\n",
    "5. Откройте PR в main ветку и добавьте в ревьюеры **своего ментора**\n",
    "\n",
    "6. Не проводите мердж в `main` ветку, пока не увидите оценку за это ДЗ в ведомости. Файл с ноутбуком должен находиться в ветке `hw_3`\n",
    "\n",
    "Обратите внимание, что сборка ноутбуков на проверку автоматизирована. В случае неправильного пути, имени файла или ветки (а также при отсутствии доступа у `@feldlime`) ваша работа не попадёт на проверку и получит `0` баллов."
   ]
  },
  {
   "cell_type": "markdown",
   "id": "4087cd8c-893e-48e9-9941-ad7dc6d300d2",
   "metadata": {
    "nbgrader": {
     "grade": false,
     "grade_id": "cell-edd8978b30775861",
     "locked": true,
     "schema_version": 3,
     "solution": false,
     "task": false
    }
   },
   "source": [
    "# Баллы по ДЗ №3: максимум 25 баллов\n",
    "\n",
    "1. прохождение проверки кода в ноутбуке `knn.ipynb` - **15 баллов**\n",
    "2. обернуть модель UserKnn в сервис и побить безлайн `map@10 = 0.063` на лидерборде. Оценивается только лидерборд, без код ревью - **10 баллов**\n",
    "\n",
    "## Комментарии  \n",
    "\n",
    "- Вы можете переспользовать в своем сервисе код из `userknn.py`, который использован в ноутбуке `knn.ipynb`\n",
    "\n",
    "Как реализовать модель в сервисе: \n",
    "\n",
    "- онлайн вариант: обучаете модель, сохраняете обученную модель (pickle, dill), при запуске сервиса ее поднимаете и запрашиваете рекомендации \"на лету\" \n",
    "- оффлайн вариант: предварительно посчитайте рекомендации для всех пользователей, сохраните и запрашивайте их\n",
    "- в приватном тесте лидерборда есть как холодные, так и горячие пользователи"
   ]
  },
  {
   "cell_type": "code",
   "execution_count": null,
   "id": "f73be4de-80e8-48ad-a044-eb23cde90571",
   "metadata": {},
   "outputs": [],
   "source": []
  }
 ],
 "metadata": {
  "kernelspec": {
   "display_name": "Python 3 (ipykernel)",
   "language": "python",
   "name": "python3"
  },
  "language_info": {
   "codemirror_mode": {
    "name": "ipython",
    "version": 3
   },
   "file_extension": ".py",
   "mimetype": "text/x-python",
   "name": "python",
   "nbconvert_exporter": "python",
   "pygments_lexer": "ipython3",
   "version": "3.10.16"
  }
 },
 "nbformat": 4,
 "nbformat_minor": 5
}
