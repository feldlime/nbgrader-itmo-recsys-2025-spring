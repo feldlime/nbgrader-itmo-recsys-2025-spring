{
 "cells": [
  {
   "cell_type": "markdown",
   "id": "8c9daa20-4463-4c29-86d7-e8b55a836d6a",
   "metadata": {
    "nbgrader": {
     "grade": false,
     "grade_id": "cell-11e06e57608fe1f3",
     "locked": true,
     "schema_version": 3,
     "solution": false,
     "task": false
    }
   },
   "source": [
    "# Домашнее задание №4. Матричная факторизация\n",
    "\n",
    "## Задачи - 25 баллов (+5 доп баллов)\n",
    "1. Ноутбук `mf.ipynb` - 20 баллов\n",
    "- ImplicitALS - 4 балла\n",
    "- SVD - 4 балла\n",
    "- Dataset with features - 2 балла\n",
    "- ImplicitALS with features - 5 баллов\n",
    "- LightFM with features - 5 баллов\n",
    "2. Имплементация модели в сервис - 5 баллов\n",
    "- Пробить на Leaderboard порог `map@10 = 0.075`\n",
    "- Если при этом используете MF (Implicit или LightFM) + ANN (nmslib, faiss, annoy и тд) - дополнительно 5 баллов\n",
    "  \n",
    "## Как сдать ноутбук `mf.ipynb` на проверку\n",
    "\n",
    "1. Прогоните весь код ноутбука - проверьте, что нет ошибок и тесты проходят\n",
    "2. Выложите готовый ноутбук в ваш репозиторий с сервисом из домашнего задания №1 по пути `notebooks/hw_4/mf.ipynb` в ветке `hw_4`\n",
    "3. Проверьте, что есть доступ к вашему репозиторию для аккаунтов `https://github.com/feldlime`\n",
    "4. Откройте PR в main ветку и добавьте в ревьюеры **своего ментора**\n",
    "5. Не проводите мердж в `main` ветку, пока не увидите оценку за это ДЗ в ведомости. Файл с ноутбуком должен находиться в ветке `hw_4`\n",
    "\n",
    "Обратите внимание, что сборка ноутбуков на проверку автоматизирована. В случае неправильного пути, имени файла или ветки (а также при отсутствии доступа у `@feldlime`) ваша работа не попадёт на проверку и получит `0` баллов."
   ]
  },
  {
   "cell_type": "markdown",
   "id": "a23ee5c6-55f6-4a47-89ca-9061a7f2e37e",
   "metadata": {
    "nbgrader": {
     "grade": false,
     "grade_id": "cell-65f5b3c366201732",
     "locked": true,
     "schema_version": 3,
     "solution": false,
     "task": false
    }
   },
   "source": [
    "Используемые библиотеки в рамках ДЗ\n",
    "```bash\n",
    "pip install implicit==0.7.2 requests==2.32.3 rectools[lightfm]==0.12.0 pandas==2.2.3 numpy==1.26.4 scipy==1.12.0\n",
    "```"
   ]
  },
  {
   "cell_type": "markdown",
   "id": "4d49cde7-2156-468a-b3e2-e8467e241cf8",
   "metadata": {
    "nbgrader": {
     "grade": false,
     "grade_id": "cell-1891eaa3c13c8609",
     "locked": true,
     "schema_version": 3,
     "solution": false,
     "task": false
    }
   },
   "source": [
    "## Импорты и данные"
   ]
  },
  {
   "cell_type": "code",
   "execution_count": 1,
   "id": "e3591f25-aedf-42b5-8b65-1f02e51d3020",
   "metadata": {
    "nbgrader": {
     "grade": false,
     "grade_id": "cell-1ebdc35957207757",
     "locked": true,
     "schema_version": 3,
     "solution": false,
     "task": false
    }
   },
   "outputs": [],
   "source": [
    "import os\n",
    "import threadpoolctl\n",
    "import requests\n",
    "\n",
    "import numpy as np\n",
    "import pandas as pd\n",
    "import zipfile as zf\n",
    "\n",
    "from tqdm.auto import tqdm\n",
    "from implicit.als import AlternatingLeastSquares\n",
    "from lightfm import LightFM\n",
    "\n",
    "from rectools import Columns\n",
    "from rectools.metrics import MAP, MeanInvUserFreq\n",
    "from rectools.dataset import Dataset\n",
    "from rectools.models import PureSVDModel, ImplicitALSWrapperModel, LightFMWrapperModel, model_from_config\n",
    "\n",
    "# For implicit ALS\n",
    "os.environ[\"OPENBLAS_NUM_THREADS\"] = \"1\"\n",
    "threadpoolctl.threadpool_limits(1, \"blas\")\n",
    "\n",
    "\n",
    "import os\n",
    "import os.path\n",
    "\n",
    "import datetime\n",
    "from datetime import timedelta\n",
    "import joblib\n",
    "from itertools import product\n",
    "from collections import defaultdict\n",
    "import dill\n",
    "\n",
    "import warnings\n",
    "warnings.simplefilter(\"ignore\")"
   ]
  },
  {
   "cell_type": "markdown",
   "id": "0265ea46-e840-452d-b43b-343cbb7eb160",
   "metadata": {
    "nbgrader": {
     "grade": false,
     "grade_id": "cell-42bc3babcb8ca15b",
     "locked": true,
     "schema_version": 3,
     "solution": false,
     "task": false
    }
   },
   "source": [
    "Если вдруг у вас нет данных, то используйте закомментированный код"
   ]
  },
  {
   "cell_type": "code",
   "execution_count": 2,
   "id": "f385743a-3642-4152-82bd-e4eca87130bd",
   "metadata": {
    "nbgrader": {
     "grade": false,
     "grade_id": "cell-51b8d9a8dc0e0600",
     "locked": true,
     "schema_version": 3,
     "solution": false,
     "task": false
    }
   },
   "outputs": [],
   "source": [
    "# url = 'https://github.com/irsafilo/KION_DATASET/raw/f69775be31fa5779907cf0a92ddedb70037fb5ae/data_original.zip'\n",
    "\n",
    "# req = requests.get(url, stream=True)\n",
    "\n",
    "# with open('kion.zip', 'wb') as fd:\n",
    "#     total_size_in_bytes = int(req.headers.get('Content-Length', 0))\n",
    "#     progress_bar = tqdm(desc='kion dataset download', total=total_size_in_bytes, unit='iB', unit_scale=True)\n",
    "#     for chunk in req.iter_content(chunk_size=2 ** 20):\n",
    "#         progress_bar.update(len(chunk))\n",
    "#         fd.write(chunk)\n",
    "\n",
    "# files = zf.ZipFile('kion.zip', 'r')\n",
    "# files.extractall()\n",
    "# files.close()"
   ]
  },
  {
   "cell_type": "code",
   "execution_count": 3,
   "id": "2e1b9888-cdc7-47a3-9162-a1ae7de7144e",
   "metadata": {
    "nbgrader": {
     "grade": false,
     "grade_id": "cell-a1b82be4e2c39f91",
     "locked": true,
     "schema_version": 3,
     "solution": false,
     "task": false
    }
   },
   "outputs": [
    {
     "name": "stdout",
     "output_type": "stream",
     "text": [
      "(5476251, 5)\n"
     ]
    },
    {
     "data": {
      "text/html": [
       "<div>\n",
       "<style scoped>\n",
       "    .dataframe tbody tr th:only-of-type {\n",
       "        vertical-align: middle;\n",
       "    }\n",
       "\n",
       "    .dataframe tbody tr th {\n",
       "        vertical-align: top;\n",
       "    }\n",
       "\n",
       "    .dataframe thead th {\n",
       "        text-align: right;\n",
       "    }\n",
       "</style>\n",
       "<table border=\"1\" class=\"dataframe\">\n",
       "  <thead>\n",
       "    <tr style=\"text-align: right;\">\n",
       "      <th></th>\n",
       "      <th>user_id</th>\n",
       "      <th>item_id</th>\n",
       "      <th>datetime</th>\n",
       "      <th>weight</th>\n",
       "      <th>watched_pct</th>\n",
       "    </tr>\n",
       "  </thead>\n",
       "  <tbody>\n",
       "    <tr>\n",
       "      <th>0</th>\n",
       "      <td>176549</td>\n",
       "      <td>9506</td>\n",
       "      <td>2021-05-11</td>\n",
       "      <td>4250</td>\n",
       "      <td>72.0</td>\n",
       "    </tr>\n",
       "    <tr>\n",
       "      <th>1</th>\n",
       "      <td>699317</td>\n",
       "      <td>1659</td>\n",
       "      <td>2021-05-29</td>\n",
       "      <td>8317</td>\n",
       "      <td>100.0</td>\n",
       "    </tr>\n",
       "    <tr>\n",
       "      <th>2</th>\n",
       "      <td>656683</td>\n",
       "      <td>7107</td>\n",
       "      <td>2021-05-09</td>\n",
       "      <td>10</td>\n",
       "      <td>0.0</td>\n",
       "    </tr>\n",
       "    <tr>\n",
       "      <th>3</th>\n",
       "      <td>864613</td>\n",
       "      <td>7638</td>\n",
       "      <td>2021-07-05</td>\n",
       "      <td>14483</td>\n",
       "      <td>100.0</td>\n",
       "    </tr>\n",
       "    <tr>\n",
       "      <th>4</th>\n",
       "      <td>964868</td>\n",
       "      <td>9506</td>\n",
       "      <td>2021-04-30</td>\n",
       "      <td>6725</td>\n",
       "      <td>100.0</td>\n",
       "    </tr>\n",
       "  </tbody>\n",
       "</table>\n",
       "</div>"
      ],
      "text/plain": [
       "   user_id  item_id   datetime  weight  watched_pct\n",
       "0   176549     9506 2021-05-11    4250         72.0\n",
       "1   699317     1659 2021-05-29    8317        100.0\n",
       "2   656683     7107 2021-05-09      10          0.0\n",
       "3   864613     7638 2021-07-05   14483        100.0\n",
       "4   964868     9506 2021-04-30    6725        100.0"
      ]
     },
     "execution_count": 3,
     "metadata": {},
     "output_type": "execute_result"
    }
   ],
   "source": [
    "data_path = os.environ.get(\"DATA_PATH\")\n",
    "if data_path is None:\n",
    "    data_path =\"data_original\"\n",
    "    \n",
    "interactions = (\n",
    "    pd.read_csv(os.path.join(data_path, \"interactions.csv\"), parse_dates=[\"last_watch_dt\"])\n",
    "    .rename(columns={'total_dur': Columns.Weight,\n",
    "                     'last_watch_dt': Columns.Datetime})\n",
    ")\n",
    "users = pd.read_csv(os.path.join(data_path, \"users.csv\"))\n",
    "items = pd.read_csv(os.path.join(data_path, \"items.csv\"))\n",
    "\n",
    "print(interactions.shape)\n",
    "interactions.head(5)"
   ]
  },
  {
   "cell_type": "code",
   "execution_count": 4,
   "id": "ecfa3e3e-477e-449c-863f-83decd2a608f",
   "metadata": {
    "nbgrader": {
     "grade": false,
     "grade_id": "cell-457223d68ac460f6",
     "locked": true,
     "schema_version": 3,
     "solution": false,
     "task": false
    }
   },
   "outputs": [
    {
     "name": "stderr",
     "output_type": "stream",
     "text": [
      "C:\\Users\\sharthZ23\\AppData\\Local\\Temp\\ipykernel_24360\\3775397126.py:11: SettingWithCopyWarning: \n",
      "A value is trying to be set on a copy of a slice from a DataFrame\n",
      "\n",
      "See the caveats in the documentation: https://pandas.pydata.org/pandas-docs/stable/user_guide/indexing.html#returning-a-view-versus-a-copy\n",
      "  test.drop(test[test[Columns.User].isin(cold_users)].index, inplace=True)\n"
     ]
    }
   ],
   "source": [
    "N_DAYS = 7\n",
    "\n",
    "max_date = interactions['datetime'].max()\n",
    "train = interactions[(interactions['datetime'] <= max_date - pd.Timedelta(days=N_DAYS))]\n",
    "test = interactions[(interactions['datetime'] > max_date - pd.Timedelta(days=N_DAYS))]\n",
    "\n",
    "catalog = train[Columns.Item].unique()\n",
    "\n",
    "test_users = test[Columns.User].unique()\n",
    "cold_users = set(test_users) - set(train[Columns.User])\n",
    "test.drop(test[test[Columns.User].isin(cold_users)].index, inplace=True)\n",
    "hot_users = test[Columns.User].unique()\n",
    "\n",
    "# dataset = Dataset.construct(train)"
   ]
  },
  {
   "cell_type": "code",
   "execution_count": 5,
   "id": "ce453ef0-8096-435a-a57d-9bd1e8a1bd92",
   "metadata": {
    "nbgrader": {
     "grade": false,
     "grade_id": "cell-90b2240359478847",
     "locked": true,
     "schema_version": 3,
     "solution": false,
     "task": false
    }
   },
   "outputs": [],
   "source": [
    "K_RECOS = 10\n",
    "map10 = MAP(k=K_RECOS)"
   ]
  },
  {
   "cell_type": "markdown",
   "id": "bbf27eea-8d75-4c14-9783-c6a3b9e920cc",
   "metadata": {
    "nbgrader": {
     "grade": false,
     "grade_id": "cell-cb516a6d62c42c95",
     "locked": true,
     "schema_version": 3,
     "solution": false,
     "task": false
    }
   },
   "source": [
    "## ImplicitALS\n",
    "\n",
    "### Ситуация:\n",
    "\n",
    "Коллега вернулся из отпуска и вы вместе сели за улучшение модели. Внимательно изучив репозиторий библиотеки implicit вы увидели модель iALS и решаете попробовать ее в деле.\n",
    "\n",
    "Чтобы работа была интереснее, вы заключаете пари с вашим коллегой о том, кто выбьет больше MAP@K на горячих пользователях. \n",
    "\n",
    "Правила пари: \n",
    "- Валидируемся на последней неделе (переменная `test`) и на горячих пользователях `hot_users`\n",
    "- Можно собрать свой `Dataset` на основе `train`, трансформированного, если нужно\n",
    "- Параметры модели задаются конфигом, которые будут передаваться в `model_from_config`\n",
    "\n",
    "У вашего коллеги получилось выбить на ImplicitALS `MAP@K = 0.052`. Ваша задача побить его рекорд."
   ]
  },
  {
   "cell_type": "code",
   "execution_count": 6,
   "id": "b1422084-1e37-4597-9071-ec5f06b4e0f7",
   "metadata": {
    "nbgrader": {
     "grade": false,
     "grade_id": "cell-9cc83595f9432cd2",
     "locked": false,
     "schema_version": 3,
     "solution": true,
     "task": false
    }
   },
   "outputs": [],
   "source": [
    "# train preprocessing...\n",
    "train2 = train.copy()\n",
    "### BEGIN SOLUTION\n",
    "train2[Columns.Weight] = np.where(train2['watched_pct'] > 10, 3, 1)\n",
    "config = {\n",
    "    'cls': 'ImplicitALSWrapperModel',\n",
    "    'model': {\n",
    "        'factors': 32,\n",
    "        'alpha': 10,\n",
    "        'regularization': 0.5,\n",
    "        'num_threads': 16,\n",
    "        'random_state': 23\n",
    "    }\n",
    "}\n",
    "### END SOLUTION\n",
    "dataset = Dataset.construct(train2)"
   ]
  },
  {
   "cell_type": "code",
   "execution_count": 7,
   "id": "53655cd3-8757-4d0c-a518-eb7ac2fbf703",
   "metadata": {
    "nbgrader": {
     "grade": true,
     "grade_id": "cell-6c041ad93abfab9a",
     "locked": true,
     "points": 4,
     "schema_version": 3,
     "solution": false,
     "task": false
    }
   },
   "outputs": [
    {
     "name": "stdout",
     "output_type": "stream",
     "text": [
      "0.05425716030240344\n",
      "CPU times: total: 11min 56s\n",
      "Wall time: 57.2 s\n"
     ]
    }
   ],
   "source": [
    "%%time\n",
    "assert config['cls'] == 'ImplicitALSWrapperModel'\n",
    "config[\"verbose\"] = 0\n",
    "\n",
    "model = model_from_config(config)\n",
    "model.fit(dataset)\n",
    "\n",
    "recos = model.recommend(\n",
    "    users=hot_users,\n",
    "    dataset=dataset,\n",
    "    k=K_RECOS,\n",
    "    filter_viewed=True,\n",
    ")\n",
    "print(map10.calc(recos, test))\n",
    "\n",
    "assert map10.calc(recos, test) >= 0.052"
   ]
  },
  {
   "cell_type": "markdown",
   "id": "efc4444f-df43-40fd-82eb-1490fe875e66",
   "metadata": {
    "nbgrader": {
     "grade": false,
     "grade_id": "cell-0e332207e456475b",
     "locked": true,
     "schema_version": 3,
     "solution": false,
     "task": false
    }
   },
   "source": [
    "## SVD\n",
    "\n",
    "На ваш громкий спор с коллегой о том, что все дело в вашем удачном random seed, к вам подошел ваш лид. \n",
    "\n",
    "Узнав детали вашего спора, он дает вам комментарий, что iALS хороша, но погружение в матричную факторизацию следует начинать с `SVD`.\n",
    "\n",
    "Вы переглянулись с коллегой и решаете уладить спор о random seed во втором раунде, используя новую модель.\n",
    "\n",
    "Ваш коллега смогу выбить на SVD `MAP@K = 0.066`. Вы знаете, что делать."
   ]
  },
  {
   "cell_type": "code",
   "execution_count": 8,
   "id": "061caaa5-197e-431a-be19-d2d5d45bcf77",
   "metadata": {
    "nbgrader": {
     "grade": false,
     "grade_id": "cell-f1b963c73db09e3a",
     "locked": false,
     "schema_version": 3,
     "solution": true,
     "task": false
    }
   },
   "outputs": [],
   "source": [
    "# train preprocessing...\n",
    "### BEGIN SOLUTION\n",
    "config = {\n",
    "    'cls': 'PureSVDModel',\n",
    "    'factors': 2,\n",
    "    'random_state': 23\n",
    "}\n",
    "dataset2 = Dataset.construct(train2)\n",
    "### END SOLUTION"
   ]
  },
  {
   "cell_type": "code",
   "execution_count": 9,
   "id": "ee6a668e-6955-42a5-81a0-f43201eb7b17",
   "metadata": {
    "nbgrader": {
     "grade": true,
     "grade_id": "cell-366e2b318e3b502d",
     "locked": true,
     "points": 4,
     "schema_version": 3,
     "solution": false,
     "task": false
    }
   },
   "outputs": [
    {
     "name": "stdout",
     "output_type": "stream",
     "text": [
      "0.07157194088545771\n",
      "CPU times: total: 19.4 s\n",
      "Wall time: 13.6 s\n"
     ]
    }
   ],
   "source": [
    "%%time\n",
    "assert config['cls'] == 'PureSVDModel'\n",
    "config[\"verbose\"] = 0\n",
    "\n",
    "model = model_from_config(config)\n",
    "model.fit(dataset2)\n",
    "\n",
    "recos = model.recommend(\n",
    "    users=hot_users,\n",
    "    dataset=dataset2,\n",
    "    k=K_RECOS,\n",
    "    filter_viewed=True,\n",
    ")\n",
    "print(map10.calc(recos, test))\n",
    "\n",
    "assert map10.calc(recos, test) >= 0.066"
   ]
  },
  {
   "cell_type": "markdown",
   "id": "a15c9a89-3727-4298-8f4c-fdc6c737f444",
   "metadata": {
    "nbgrader": {
     "grade": false,
     "grade_id": "cell-27880a79f53a4d38",
     "locked": true,
     "schema_version": 3,
     "solution": false,
     "task": false
    }
   },
   "source": [
    "## Dataset with features\n",
    "\n",
    "\"Ну это ни в какие ворота!\" - восклицает ваш коллега, увидев ваш победный конфиг. Из другого угла опенспейса доносится \"А я говорил\" от вашего лида.\n",
    "\n",
    "В это время к вам сзади подходит продакт и интересуется предметом вашего спора.\n",
    "\n",
    "Рассказав про особенности найденных вами моделей, он просит вас в них докинуть фичи, ведь на одних взаимодействиях далеко не уедешь.\n",
    "\n",
    "Вы согласились, ведь это отличная возможность продолжить пари. Соберите `Dataset` с фичами по пользователям и итемам, который вы будете использовать дальше\n"
   ]
  },
  {
   "cell_type": "code",
   "execution_count": 10,
   "id": "a4401951-ae61-4b0b-af21-76bdee4d05a1",
   "metadata": {
    "nbgrader": {
     "grade": false,
     "grade_id": "cell-b0397a70b8235dd9",
     "locked": false,
     "schema_version": 3,
     "solution": true,
     "task": false
    }
   },
   "outputs": [],
   "source": [
    "### BEGIN SOLUTION \n",
    "users.fillna('Unknown', inplace=True)\n",
    "users = users.loc[users[Columns.User].isin(train[Columns.User])].copy()\n",
    "user_features_frames = []\n",
    "for feature in [\"sex\", \"age\", \"income\"]:\n",
    "    feature_frame = users.reindex(columns=[Columns.User, feature])\n",
    "    feature_frame.columns = [\"id\", \"value\"]\n",
    "    feature_frame[\"feature\"] = feature\n",
    "    user_features_frames.append(feature_frame)\n",
    "user_features = pd.concat(user_features_frames)\n",
    "\n",
    "items = items.loc[items[Columns.Item].isin(train[Columns.Item])].copy()\n",
    "items[\"genre\"] = items[\"genres\"].str.lower().str.replace(\", \", \",\", regex=False).str.split(\",\")\n",
    "genre_feature = items[[\"item_id\", \"genre\"]].explode(\"genre\")\n",
    "genre_feature.columns = [\"id\", \"value\"]\n",
    "genre_feature[\"feature\"] = \"genre\"\n",
    "content_feature = items.reindex(columns=[Columns.Item, \"content_type\"])\n",
    "content_feature.columns = [\"id\", \"value\"]\n",
    "content_feature[\"feature\"] = \"content_type\"\n",
    "item_features = pd.concat((genre_feature, content_feature))\n",
    "### END SOLUTION\n",
    "\n",
    "dataset_with_features = Dataset.construct(\n",
    "    interactions_df=train2,\n",
    "### BEGIN SOLUTION   \n",
    "    user_features_df=user_features,\n",
    "    cat_user_features=[\"sex\", \"age\", \"income\"],\n",
    "    item_features_df=item_features,\n",
    "    cat_item_features=[\"genre\", \"content_type\"],\n",
    "### END SOLUTION\n",
    ")"
   ]
  },
  {
   "cell_type": "code",
   "execution_count": 11,
   "id": "3ae33beb-75c5-452e-b765-728da8541f1a",
   "metadata": {
    "nbgrader": {
     "grade": true,
     "grade_id": "cell-7773b657b67af87b",
     "locked": true,
     "points": 2,
     "schema_version": 3,
     "solution": false,
     "task": false
    }
   },
   "outputs": [],
   "source": [
    "assert (dataset_with_features.user_features is not None) and (dataset_with_features.item_features is not None)"
   ]
  },
  {
   "cell_type": "markdown",
   "id": "c816b107-22ed-4d1b-a7dc-c24204918b27",
   "metadata": {
    "nbgrader": {
     "grade": false,
     "grade_id": "cell-cd998c54807b4e86",
     "locked": true,
     "schema_version": 3,
     "solution": false,
     "task": false
    }
   },
   "source": [
    "## ImplicitALS with features\n",
    "\n",
    "Собрав датасет с фичами вы готовы к третьему раунду пари. \n",
    "\n",
    "Вы решаете начать снова с `iALS`, до сих пор удивляясь результатам модели `SVD`.\n",
    "\n",
    "Ваш коллега изучил вашу технику подбора random seed и хитро улыбается вам.\n",
    "\n",
    "Он смог выбить `MAP@K = 0.073`, теперь ваш ход."
   ]
  },
  {
   "cell_type": "code",
   "execution_count": 12,
   "id": "71a204d4-db2e-4733-8dac-1bac63672ea7",
   "metadata": {
    "nbgrader": {
     "grade": false,
     "grade_id": "cell-651def1b6c1a52b6",
     "locked": false,
     "schema_version": 3,
     "solution": true,
     "task": false
    }
   },
   "outputs": [],
   "source": [
    "### BEGIN SOLUTION\n",
    "config = {\n",
    "    'cls': 'ImplicitALSWrapperModel',\n",
    "    'model': {\n",
    "        'factors': 128,\n",
    "        'alpha': 10,\n",
    "        'regularization': 0.5,\n",
    "        'num_threads': 12,\n",
    "        'random_state': 23\n",
    "    },\n",
    "    'fit_features_together': True,\n",
    "}\n",
    "### END SOLUTION"
   ]
  },
  {
   "cell_type": "code",
   "execution_count": 13,
   "id": "990ee09f-7c93-4ccf-9ff9-eff9a6d772f1",
   "metadata": {
    "nbgrader": {
     "grade": true,
     "grade_id": "cell-f3ed67874a568322",
     "locked": true,
     "points": 5,
     "schema_version": 3,
     "solution": false,
     "task": false
    }
   },
   "outputs": [
    {
     "name": "stderr",
     "output_type": "stream",
     "text": [
      "E:\\Anaconda3\\envs\\itmo_l4\\Lib\\site-packages\\rectools\\dataset\\features.py:424: UserWarning: Converting sparse features to dense array may cause MemoryError\n",
      "  warnings.warn(\"Converting sparse features to dense array may cause MemoryError\")\n"
     ]
    },
    {
     "name": "stdout",
     "output_type": "stream",
     "text": [
      "0.07316924726612141\n",
      "CPU times: total: 9min 36s\n",
      "Wall time: 1min 11s\n"
     ]
    }
   ],
   "source": [
    "%%time\n",
    "assert config['cls'] == 'ImplicitALSWrapperModel'\n",
    "config[\"verbose\"] = 0\n",
    "\n",
    "model = model_from_config(config)\n",
    "model.fit(dataset_with_features)\n",
    "\n",
    "recos = model.recommend(\n",
    "    users=hot_users,\n",
    "    dataset=dataset_with_features,\n",
    "    k=K_RECOS,\n",
    "    filter_viewed=True,\n",
    ")\n",
    "print(map10.calc(recos, test))\n",
    "\n",
    "assert map10.calc(recos, test) >= 0.073"
   ]
  },
  {
   "cell_type": "markdown",
   "id": "90db2890-cd95-4d87-bcd6-daea1ac3ebaf",
   "metadata": {
    "nbgrader": {
     "grade": false,
     "grade_id": "cell-be7c982c198ab7fa",
     "locked": true,
     "schema_version": 3,
     "solution": false,
     "task": false
    }
   },
   "source": [
    "## LightFM with features\n",
    "\n",
    "И снова ор выше гор, ваш пайплайн подготовки датасета помог вам в очередной раз обойти вашего коллегу.\n",
    "\n",
    "Не зная, к чему еще аппелировать, он зовет вашего старшего коллегу, чтобы тот внимательно изучил полученные результаты.\n",
    "\n",
    "\"iALS с фичами это хорошо, но тут стоит попробовать факторизационные машины, попробуйте `LightFM`\" - заключает он. Вы переключаетесь на изучение новой библиотеки, предвкушая финальный раунд.\n",
    "\n",
    "Ваш коллега смог выжать из своего обновленного `Dataset` и `LightFM` скор `MAP@10 = 0.08`. Последний рывок."
   ]
  },
  {
   "cell_type": "code",
   "execution_count": 14,
   "id": "354dab72-6e5b-428e-876a-08087f5fb066",
   "metadata": {
    "nbgrader": {
     "grade": false,
     "grade_id": "cell-cec5f5df8bfd0aca",
     "locked": false,
     "schema_version": 3,
     "solution": true,
     "task": false
    }
   },
   "outputs": [],
   "source": [
    "### BEGIN SOLUTION\n",
    "config = {\n",
    "    'cls': 'LightFMWrapperModel',\n",
    "    'model': {\n",
    "        'loss': 'warp',\n",
    "        'no_components': 12,\n",
    "        #'learning_rate': 0.05,\n",
    "        #'user_alpha': 0.1,\n",
    "        #'item_alpha': 0.1,\n",
    "        'random_state': 23\n",
    "    },\n",
    "    'epochs': 10,\n",
    "}\n",
    "### END SOLUTION"
   ]
  },
  {
   "cell_type": "code",
   "execution_count": null,
   "id": "77081fd4-13f2-46c7-88d2-e2a716d00216",
   "metadata": {
    "nbgrader": {
     "grade": true,
     "grade_id": "cell-754f9152c2a343a5",
     "locked": true,
     "points": 5,
     "schema_version": 3,
     "solution": false,
     "task": false
    }
   },
   "outputs": [],
   "source": [
    "%%time\n",
    "assert config['cls'] == 'LightFMWrapperModel'\n",
    "config[\"verbose\"] = 0\n",
    "\n",
    "model = model_from_config(config)\n",
    "model.fit(dataset_with_features)\n",
    "\n",
    "recos = model.recommend(\n",
    "    users=hot_users,\n",
    "    dataset=dataset_with_features,\n",
    "    k=K_RECOS,\n",
    "    filter_viewed=True,\n",
    ")\n",
    "print(map10.calc(recos, test))\n",
    "\n",
    "assert map10.calc(recos, test) >= 0.08"
   ]
  },
  {
   "cell_type": "markdown",
   "id": "d66532fb-7c3d-42a9-80cb-b93b27607b51",
   "metadata": {
    "nbgrader": {
     "grade": false,
     "grade_id": "cell-118d671fe7000a31",
     "locked": true,
     "schema_version": 3,
     "solution": false,
     "task": false
    }
   },
   "source": [
    "## Сервис\n",
    "\n",
    "Эта битва была легендарной, но вот за спиной опять появляется ваш продакт. \n",
    "\n",
    "\"Время катить АБ\" - говорит он в пятницу вечером. Делать нечего, вы собираете ваши наработки и определяете совместный фронт работ.\n",
    "\n",
    "В прод должна заехать лучшая модель, которая побьет текущей модели в проде в `MAP@10 = 0.075`.\n",
    "\n",
    "Также есть бонус от вашего старшего коллеги, который вам советует присмотреться к `Approximate nearest neighbours`, например к `nmslib`.\n",
    "\n",
    "\"Если сможешь обернуть в ANN, то на следующем годовом ревью получишь от меня оценку отлично\" - сказал он. Изучить новые технологии и получить повышение - идеально, заключаете вы и бросаетесь в бой."
   ]
  },
  {
   "cell_type": "markdown",
   "id": "920eaf23-c2e5-4022-9641-b32d24cef82a",
   "metadata": {
    "nbgrader": {
     "grade": false,
     "grade_id": "cell-992a2a7a692d4927",
     "locked": true,
     "schema_version": 3,
     "solution": false,
     "task": false
    }
   },
   "source": [
    "# Вместо заключения\n",
    "\n",
    "## Задачи - 25 баллов (30 баллов с доп задачей по ANN)\n",
    "1. Ноутбук `mf.ipynb` - 20 баллов\n",
    "- SVD - 5 баллов\n",
    "- ImplicitALS - 5 баллов\n",
    "- ImplicitALS with features - 5 баллов\n",
    "- LightFM with features - 5 баллов\n",
    "2. Имплементация модели в сервис - 5 баллов\n",
    "- Пробить на Leaderboard порог `map@10 = 0.075`\n",
    "- Если при этом используете MF (Implicit или LightFM) + ANN (nmslib, faiss, annoy и тд) - дополнительно 5 баллов\n",
    "  \n",
    "## Как сдать ноутбук `mf.ipynb` на проверку\n",
    "\n",
    "1. Прогоните весь код ноутбука - проверьте, что нет ошибок и тесты проходят\n",
    "2. Выложите готовый ноутбук в ваш репозиторий с сервисом из домашнего задания №1 по пути `notebooks/hw_4/mf.ipynb` в ветке `hw_4`\n",
    "3. Проверьте, что есть доступ к вашему репозиторию для аккаунтов `https://github.com/feldlime`\n",
    "4. Откройте PR в main ветку и добавьте в ревьюеры **своего ментора**\n",
    "5. Не проводите мердж в `main` ветку, пока не увидите оценку за это ДЗ в ведомости. Файл с ноутбуком должен находиться в ветке `hw_4`\n",
    "\n",
    "Обратите внимание, что сборка ноутбуков на проверку автоматизирована. В случае неправильного пути, имени файла или ветки (а также при отсутствии доступа у `@feldlime`) ваша работа не попадёт на проверку и получит `0` баллов."
   ]
  }
 ],
 "metadata": {
  "kernelspec": {
   "display_name": "Python 3 (ipykernel)",
   "language": "python",
   "name": "python3"
  },
  "language_info": {
   "codemirror_mode": {
    "name": "ipython",
    "version": 3
   },
   "file_extension": ".py",
   "mimetype": "text/x-python",
   "name": "python",
   "nbconvert_exporter": "python",
   "pygments_lexer": "ipython3",
   "version": "3.10.16"
  },
  "widgets": {
   "application/vnd.jupyter.widget-state+json": {
    "state": {},
    "version_major": 2,
    "version_minor": 0
   }
  }
 },
 "nbformat": 4,
 "nbformat_minor": 5
}
